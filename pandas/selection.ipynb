{
 "cells": [
  {
   "metadata": {},
   "cell_type": "markdown",
   "source": [
    "# Pandas DataFrame Selection\n",
    "\n",
    "This notebook demonstrates various operations that can be performed on a Pandas DataFrame, including selection, slicing, indexing, and boolean indexing.\n",
    "\n",
    "## Importing Libraries\n",
    "\n",
    "First, we import the necessary libraries.\n"
   ],
   "id": "ff039bf07082ac7"
  },
  {
   "metadata": {
    "ExecuteTime": {
     "end_time": "2024-07-05T17:44:29.498489Z",
     "start_time": "2024-07-05T17:44:29.494784Z"
    }
   },
   "cell_type": "code",
   "source": "import pandas as pd",
   "id": "c0a057cd3293f67",
   "outputs": [],
   "execution_count": 7
  },
  {
   "metadata": {},
   "cell_type": "markdown",
   "source": [
    "## Creating a DataFrame\n",
    "\n",
    "We create a list of lists representing student data and then convert it into a Pandas DataFrame."
   ],
   "id": "280f069d435f2429"
  },
  {
   "metadata": {
    "ExecuteTime": {
     "end_time": "2024-07-05T17:46:37.793030Z",
     "start_time": "2024-07-05T17:46:37.782517Z"
    }
   },
   "cell_type": "code",
   "source": [
    "# Create a list of lists representing student data\n",
    "students = [\n",
    "    ['Eric', 40, 'Machine Learning'],\n",
    "    ['Ivy', 37, 'Project Management'],\n",
    "    ['Jude', 10, 'Programmer'],\n",
    "    ['Alice', 22, 'Data Science'],\n",
    "    ['Bob', 25, 'Web Development'],\n",
    "    ['Charlie', 23, 'Cyber Security'],\n",
    "    ['Diana', 28, 'AI and Robotics'],\n",
    "    ['Edward', 21, 'Cloud Computing'],\n",
    "    ['Fiona', 24, 'Software Engineering']\n",
    "]\n",
    "\n",
    "# Define the column names for the DataFrame\n",
    "columns = ['Name', 'Age', 'Course']\n",
    "\n",
    "# Create an index for the DataFrame\n",
    "index = list(range(1, len(students) + 1))\n",
    "\n",
    "# Create a Pandas DataFrame from the students list with the specified columns and index\n",
    "students_df = pd.DataFrame(students, columns=columns, index=index)\n",
    "students_df"
   ],
   "id": "b8d19c32c44d0cf2",
   "outputs": [
    {
     "data": {
      "text/plain": [
       "      Name  Age                Course\n",
       "1     Eric   40      Machine Learning\n",
       "2      Ivy   37    Project Management\n",
       "3     Jude   10            Programmer\n",
       "4    Alice   22          Data Science\n",
       "5      Bob   25       Web Development\n",
       "6  Charlie   23        Cyber Security\n",
       "7    Diana   28       AI and Robotics\n",
       "8   Edward   21       Cloud Computing\n",
       "9    Fiona   24  Software Engineering"
      ],
      "text/html": [
       "<div>\n",
       "<style scoped>\n",
       "    .dataframe tbody tr th:only-of-type {\n",
       "        vertical-align: middle;\n",
       "    }\n",
       "\n",
       "    .dataframe tbody tr th {\n",
       "        vertical-align: top;\n",
       "    }\n",
       "\n",
       "    .dataframe thead th {\n",
       "        text-align: right;\n",
       "    }\n",
       "</style>\n",
       "<table border=\"1\" class=\"dataframe\">\n",
       "  <thead>\n",
       "    <tr style=\"text-align: right;\">\n",
       "      <th></th>\n",
       "      <th>Name</th>\n",
       "      <th>Age</th>\n",
       "      <th>Course</th>\n",
       "    </tr>\n",
       "  </thead>\n",
       "  <tbody>\n",
       "    <tr>\n",
       "      <th>1</th>\n",
       "      <td>Eric</td>\n",
       "      <td>40</td>\n",
       "      <td>Machine Learning</td>\n",
       "    </tr>\n",
       "    <tr>\n",
       "      <th>2</th>\n",
       "      <td>Ivy</td>\n",
       "      <td>37</td>\n",
       "      <td>Project Management</td>\n",
       "    </tr>\n",
       "    <tr>\n",
       "      <th>3</th>\n",
       "      <td>Jude</td>\n",
       "      <td>10</td>\n",
       "      <td>Programmer</td>\n",
       "    </tr>\n",
       "    <tr>\n",
       "      <th>4</th>\n",
       "      <td>Alice</td>\n",
       "      <td>22</td>\n",
       "      <td>Data Science</td>\n",
       "    </tr>\n",
       "    <tr>\n",
       "      <th>5</th>\n",
       "      <td>Bob</td>\n",
       "      <td>25</td>\n",
       "      <td>Web Development</td>\n",
       "    </tr>\n",
       "    <tr>\n",
       "      <th>6</th>\n",
       "      <td>Charlie</td>\n",
       "      <td>23</td>\n",
       "      <td>Cyber Security</td>\n",
       "    </tr>\n",
       "    <tr>\n",
       "      <th>7</th>\n",
       "      <td>Diana</td>\n",
       "      <td>28</td>\n",
       "      <td>AI and Robotics</td>\n",
       "    </tr>\n",
       "    <tr>\n",
       "      <th>8</th>\n",
       "      <td>Edward</td>\n",
       "      <td>21</td>\n",
       "      <td>Cloud Computing</td>\n",
       "    </tr>\n",
       "    <tr>\n",
       "      <th>9</th>\n",
       "      <td>Fiona</td>\n",
       "      <td>24</td>\n",
       "      <td>Software Engineering</td>\n",
       "    </tr>\n",
       "  </tbody>\n",
       "</table>\n",
       "</div>"
      ]
     },
     "execution_count": 11,
     "metadata": {},
     "output_type": "execute_result"
    }
   ],
   "execution_count": 11
  },
  {
   "metadata": {},
   "cell_type": "markdown",
   "source": [
    "## Selecting Columns\n",
    "\n",
    "We can select a single column from the DataFrame."
   ],
   "id": "f05e5963b8f4559d"
  },
  {
   "metadata": {
    "ExecuteTime": {
     "end_time": "2024-07-05T17:46:43.352355Z",
     "start_time": "2024-07-05T17:46:43.345748Z"
    }
   },
   "cell_type": "code",
   "source": [
    "# Select column\n",
    "select_column_students_df = students_df.Name\n",
    "select_column_students_df"
   ],
   "id": "f67a7b90b31be376",
   "outputs": [
    {
     "data": {
      "text/plain": [
       "1       Eric\n",
       "2        Ivy\n",
       "3       Jude\n",
       "4      Alice\n",
       "5        Bob\n",
       "6    Charlie\n",
       "7      Diana\n",
       "8     Edward\n",
       "9      Fiona\n",
       "Name: Name, dtype: object"
      ]
     },
     "execution_count": 12,
     "metadata": {},
     "output_type": "execute_result"
    }
   ],
   "execution_count": 12
  },
  {
   "metadata": {},
   "cell_type": "markdown",
   "source": [
    "## Slicing Data\n",
    "\n",
    "We can use slicing to select specific portions of the DataFrame."
   ],
   "id": "e042ac86847a8d9c"
  },
  {
   "metadata": {
    "ExecuteTime": {
     "end_time": "2024-07-05T17:46:47.446764Z",
     "start_time": "2024-07-05T17:46:47.437581Z"
    }
   },
   "cell_type": "code",
   "source": [
    "# Select data by using slice\n",
    "select_slice_students_df = students_df[:3]\n",
    "select_slice_students_df"
   ],
   "id": "e5b198bc8403187e",
   "outputs": [
    {
     "data": {
      "text/plain": [
       "   Name  Age              Course\n",
       "1  Eric   40    Machine Learning\n",
       "2   Ivy   37  Project Management\n",
       "3  Jude   10          Programmer"
      ],
      "text/html": [
       "<div>\n",
       "<style scoped>\n",
       "    .dataframe tbody tr th:only-of-type {\n",
       "        vertical-align: middle;\n",
       "    }\n",
       "\n",
       "    .dataframe tbody tr th {\n",
       "        vertical-align: top;\n",
       "    }\n",
       "\n",
       "    .dataframe thead th {\n",
       "        text-align: right;\n",
       "    }\n",
       "</style>\n",
       "<table border=\"1\" class=\"dataframe\">\n",
       "  <thead>\n",
       "    <tr style=\"text-align: right;\">\n",
       "      <th></th>\n",
       "      <th>Name</th>\n",
       "      <th>Age</th>\n",
       "      <th>Course</th>\n",
       "    </tr>\n",
       "  </thead>\n",
       "  <tbody>\n",
       "    <tr>\n",
       "      <th>1</th>\n",
       "      <td>Eric</td>\n",
       "      <td>40</td>\n",
       "      <td>Machine Learning</td>\n",
       "    </tr>\n",
       "    <tr>\n",
       "      <th>2</th>\n",
       "      <td>Ivy</td>\n",
       "      <td>37</td>\n",
       "      <td>Project Management</td>\n",
       "    </tr>\n",
       "    <tr>\n",
       "      <th>3</th>\n",
       "      <td>Jude</td>\n",
       "      <td>10</td>\n",
       "      <td>Programmer</td>\n",
       "    </tr>\n",
       "  </tbody>\n",
       "</table>\n",
       "</div>"
      ]
     },
     "execution_count": 13,
     "metadata": {},
     "output_type": "execute_result"
    }
   ],
   "execution_count": 13
  },
  {
   "metadata": {},
   "cell_type": "markdown",
   "source": [
    "## Label-based Indexing with `loc`\n",
    "\n",
    "We can use the `loc` method to select data by label."
   ],
   "id": "431812b563303e91"
  },
  {
   "metadata": {
    "ExecuteTime": {
     "end_time": "2024-07-05T17:47:33.302538Z",
     "start_time": "2024-07-05T17:47:33.295797Z"
    }
   },
   "cell_type": "code",
   "source": [
    "# Select data by label using loc()\n",
    "students_df_loc_label = students_df.loc[index[0]]\n",
    "students_df_loc_label"
   ],
   "id": "ec348801ea13d059",
   "outputs": [
    {
     "data": {
      "text/plain": [
       "Name                  Eric\n",
       "Age                     40\n",
       "Course    Machine Learning\n",
       "Name: 1, dtype: object"
      ]
     },
     "execution_count": 14,
     "metadata": {},
     "output_type": "execute_result"
    }
   ],
   "execution_count": 14
  },
  {
   "metadata": {},
   "cell_type": "markdown",
   "source": "## Selecting all rows (:) with specific column labels",
   "id": "f034b41b2f4bf75e"
  },
  {
   "metadata": {
    "ExecuteTime": {
     "end_time": "2024-07-05T17:49:02.103660Z",
     "start_time": "2024-07-05T17:49:02.095537Z"
    }
   },
   "cell_type": "code",
   "source": [
    "students_df_loc_rows = students_df.loc[:, ['Name', 'Age']]\n",
    "students_df_loc_rows"
   ],
   "id": "a461ac89b0872f3f",
   "outputs": [
    {
     "data": {
      "text/plain": [
       "      Name  Age\n",
       "1     Eric   40\n",
       "2      Ivy   37\n",
       "3     Jude   10\n",
       "4    Alice   22\n",
       "5      Bob   25\n",
       "6  Charlie   23\n",
       "7    Diana   28\n",
       "8   Edward   21\n",
       "9    Fiona   24"
      ],
      "text/html": [
       "<div>\n",
       "<style scoped>\n",
       "    .dataframe tbody tr th:only-of-type {\n",
       "        vertical-align: middle;\n",
       "    }\n",
       "\n",
       "    .dataframe tbody tr th {\n",
       "        vertical-align: top;\n",
       "    }\n",
       "\n",
       "    .dataframe thead th {\n",
       "        text-align: right;\n",
       "    }\n",
       "</style>\n",
       "<table border=\"1\" class=\"dataframe\">\n",
       "  <thead>\n",
       "    <tr style=\"text-align: right;\">\n",
       "      <th></th>\n",
       "      <th>Name</th>\n",
       "      <th>Age</th>\n",
       "    </tr>\n",
       "  </thead>\n",
       "  <tbody>\n",
       "    <tr>\n",
       "      <th>1</th>\n",
       "      <td>Eric</td>\n",
       "      <td>40</td>\n",
       "    </tr>\n",
       "    <tr>\n",
       "      <th>2</th>\n",
       "      <td>Ivy</td>\n",
       "      <td>37</td>\n",
       "    </tr>\n",
       "    <tr>\n",
       "      <th>3</th>\n",
       "      <td>Jude</td>\n",
       "      <td>10</td>\n",
       "    </tr>\n",
       "    <tr>\n",
       "      <th>4</th>\n",
       "      <td>Alice</td>\n",
       "      <td>22</td>\n",
       "    </tr>\n",
       "    <tr>\n",
       "      <th>5</th>\n",
       "      <td>Bob</td>\n",
       "      <td>25</td>\n",
       "    </tr>\n",
       "    <tr>\n",
       "      <th>6</th>\n",
       "      <td>Charlie</td>\n",
       "      <td>23</td>\n",
       "    </tr>\n",
       "    <tr>\n",
       "      <th>7</th>\n",
       "      <td>Diana</td>\n",
       "      <td>28</td>\n",
       "    </tr>\n",
       "    <tr>\n",
       "      <th>8</th>\n",
       "      <td>Edward</td>\n",
       "      <td>21</td>\n",
       "    </tr>\n",
       "    <tr>\n",
       "      <th>9</th>\n",
       "      <td>Fiona</td>\n",
       "      <td>24</td>\n",
       "    </tr>\n",
       "  </tbody>\n",
       "</table>\n",
       "</div>"
      ]
     },
     "execution_count": 16,
     "metadata": {},
     "output_type": "execute_result"
    }
   ],
   "execution_count": 16
  },
  {
   "metadata": {},
   "cell_type": "markdown",
   "source": "## For label slicing, both endpoints are included",
   "id": "adf24d9d21259354"
  },
  {
   "metadata": {
    "ExecuteTime": {
     "end_time": "2024-07-05T17:49:46.372831Z",
     "start_time": "2024-07-05T17:49:46.364705Z"
    }
   },
   "cell_type": "code",
   "source": [
    "students_df_loc_rows_columns = students_df.loc[1:4, ['Name', 'Age']]\n",
    "students_df_loc_rows_columns"
   ],
   "id": "144bec7dee0f2602",
   "outputs": [
    {
     "data": {
      "text/plain": [
       "    Name  Age\n",
       "1   Eric   40\n",
       "2    Ivy   37\n",
       "3   Jude   10\n",
       "4  Alice   22"
      ],
      "text/html": [
       "<div>\n",
       "<style scoped>\n",
       "    .dataframe tbody tr th:only-of-type {\n",
       "        vertical-align: middle;\n",
       "    }\n",
       "\n",
       "    .dataframe tbody tr th {\n",
       "        vertical-align: top;\n",
       "    }\n",
       "\n",
       "    .dataframe thead th {\n",
       "        text-align: right;\n",
       "    }\n",
       "</style>\n",
       "<table border=\"1\" class=\"dataframe\">\n",
       "  <thead>\n",
       "    <tr style=\"text-align: right;\">\n",
       "      <th></th>\n",
       "      <th>Name</th>\n",
       "      <th>Age</th>\n",
       "    </tr>\n",
       "  </thead>\n",
       "  <tbody>\n",
       "    <tr>\n",
       "      <th>1</th>\n",
       "      <td>Eric</td>\n",
       "      <td>40</td>\n",
       "    </tr>\n",
       "    <tr>\n",
       "      <th>2</th>\n",
       "      <td>Ivy</td>\n",
       "      <td>37</td>\n",
       "    </tr>\n",
       "    <tr>\n",
       "      <th>3</th>\n",
       "      <td>Jude</td>\n",
       "      <td>10</td>\n",
       "    </tr>\n",
       "    <tr>\n",
       "      <th>4</th>\n",
       "      <td>Alice</td>\n",
       "      <td>22</td>\n",
       "    </tr>\n",
       "  </tbody>\n",
       "</table>\n",
       "</div>"
      ]
     },
     "execution_count": 17,
     "metadata": {},
     "output_type": "execute_result"
    }
   ],
   "execution_count": 17
  },
  {
   "metadata": {},
   "cell_type": "markdown",
   "source": "## Selecting a single row and column label returns a scalar",
   "id": "86e3fb157a660cd1"
  },
  {
   "metadata": {
    "ExecuteTime": {
     "end_time": "2024-07-05T17:50:26.997964Z",
     "start_time": "2024-07-05T17:50:26.992042Z"
    }
   },
   "cell_type": "code",
   "source": [
    "students_df_loc_scalar = students_df.loc[1, 'Age']\n",
    "students_df_loc_scalar"
   ],
   "id": "d728bf3c55fa6b50",
   "outputs": [
    {
     "data": {
      "text/plain": [
       "40"
      ]
     },
     "execution_count": 18,
     "metadata": {},
     "output_type": "execute_result"
    }
   ],
   "execution_count": 18
  },
  {
   "metadata": {},
   "cell_type": "markdown",
   "source": "## For getting fast access to a scalar",
   "id": "ab6855e2f6d075de"
  },
  {
   "metadata": {
    "ExecuteTime": {
     "end_time": "2024-07-05T17:51:01.765250Z",
     "start_time": "2024-07-05T17:51:01.759345Z"
    }
   },
   "cell_type": "code",
   "source": [
    "students_df_at_scalar = students_df.at[2, 'Course']\n",
    "students_df_at_scalar"
   ],
   "id": "f6148b50ad0b9ecd",
   "outputs": [
    {
     "data": {
      "text/plain": [
       "'Project Management'"
      ]
     },
     "execution_count": 19,
     "metadata": {},
     "output_type": "execute_result"
    }
   ],
   "execution_count": 19
  },
  {
   "metadata": {},
   "cell_type": "markdown",
   "source": [
    "## Position-based Indexing with `iloc`\n",
    "\n",
    "We can use the `iloc` method to select data by position."
   ],
   "id": "4f2f83dd077a0494"
  },
  {
   "metadata": {
    "ExecuteTime": {
     "end_time": "2024-07-05T17:51:41.509928Z",
     "start_time": "2024-07-05T17:51:41.501819Z"
    }
   },
   "cell_type": "code",
   "source": [
    "# Select via the position of the passed integers\n",
    "students_df_iloc_position = students_df.iloc[1]\n",
    "students_df_iloc_position"
   ],
   "id": "d14595834071c16d",
   "outputs": [
    {
     "data": {
      "text/plain": [
       "Name                     Ivy\n",
       "Age                       37\n",
       "Course    Project Management\n",
       "Name: 2, dtype: object"
      ]
     },
     "execution_count": 20,
     "metadata": {},
     "output_type": "execute_result"
    }
   ],
   "execution_count": 20
  },
  {
   "metadata": {},
   "cell_type": "markdown",
   "source": "## Select via integer slices",
   "id": "d5983489e062d619"
  },
  {
   "metadata": {
    "ExecuteTime": {
     "end_time": "2024-07-05T17:55:52.153246Z",
     "start_time": "2024-07-05T17:55:52.146995Z"
    }
   },
   "cell_type": "code",
   "source": [
    "students_df_iloc_slices = students_df.iloc[1:3, 0:2]\n",
    "students_df_iloc_slices"
   ],
   "id": "a1bb4d982338b3bc",
   "outputs": [
    {
     "data": {
      "text/plain": [
       "   Name  Age\n",
       "2   Ivy   37\n",
       "3  Jude   10"
      ],
      "text/html": [
       "<div>\n",
       "<style scoped>\n",
       "    .dataframe tbody tr th:only-of-type {\n",
       "        vertical-align: middle;\n",
       "    }\n",
       "\n",
       "    .dataframe tbody tr th {\n",
       "        vertical-align: top;\n",
       "    }\n",
       "\n",
       "    .dataframe thead th {\n",
       "        text-align: right;\n",
       "    }\n",
       "</style>\n",
       "<table border=\"1\" class=\"dataframe\">\n",
       "  <thead>\n",
       "    <tr style=\"text-align: right;\">\n",
       "      <th></th>\n",
       "      <th>Name</th>\n",
       "      <th>Age</th>\n",
       "    </tr>\n",
       "  </thead>\n",
       "  <tbody>\n",
       "    <tr>\n",
       "      <th>2</th>\n",
       "      <td>Ivy</td>\n",
       "      <td>37</td>\n",
       "    </tr>\n",
       "    <tr>\n",
       "      <th>3</th>\n",
       "      <td>Jude</td>\n",
       "      <td>10</td>\n",
       "    </tr>\n",
       "  </tbody>\n",
       "</table>\n",
       "</div>"
      ]
     },
     "execution_count": 21,
     "metadata": {},
     "output_type": "execute_result"
    }
   ],
   "execution_count": 21
  },
  {
   "metadata": {},
   "cell_type": "markdown",
   "source": "## Select via lists of integer position locations",
   "id": "6387323f57a102e1"
  },
  {
   "metadata": {
    "ExecuteTime": {
     "end_time": "2024-07-05T17:56:35.669421Z",
     "start_time": "2024-07-05T17:56:35.661520Z"
    }
   },
   "cell_type": "code",
   "source": [
    "students_df_iloc_positions = students_df.iloc[[3, 1], [2, 1]]\n",
    "students_df_iloc_positions"
   ],
   "id": "9a82cbd9877da3ae",
   "outputs": [
    {
     "data": {
      "text/plain": [
       "               Course  Age\n",
       "4        Data Science   22\n",
       "2  Project Management   37"
      ],
      "text/html": [
       "<div>\n",
       "<style scoped>\n",
       "    .dataframe tbody tr th:only-of-type {\n",
       "        vertical-align: middle;\n",
       "    }\n",
       "\n",
       "    .dataframe tbody tr th {\n",
       "        vertical-align: top;\n",
       "    }\n",
       "\n",
       "    .dataframe thead th {\n",
       "        text-align: right;\n",
       "    }\n",
       "</style>\n",
       "<table border=\"1\" class=\"dataframe\">\n",
       "  <thead>\n",
       "    <tr style=\"text-align: right;\">\n",
       "      <th></th>\n",
       "      <th>Course</th>\n",
       "      <th>Age</th>\n",
       "    </tr>\n",
       "  </thead>\n",
       "  <tbody>\n",
       "    <tr>\n",
       "      <th>4</th>\n",
       "      <td>Data Science</td>\n",
       "      <td>22</td>\n",
       "    </tr>\n",
       "    <tr>\n",
       "      <th>2</th>\n",
       "      <td>Project Management</td>\n",
       "      <td>37</td>\n",
       "    </tr>\n",
       "  </tbody>\n",
       "</table>\n",
       "</div>"
      ]
     },
     "execution_count": 22,
     "metadata": {},
     "output_type": "execute_result"
    }
   ],
   "execution_count": 22
  },
  {
   "metadata": {},
   "cell_type": "markdown",
   "source": "## Select via slicing rows explicitly",
   "id": "9ff80c8752cd9d45"
  },
  {
   "metadata": {
    "ExecuteTime": {
     "end_time": "2024-07-05T17:57:09.712607Z",
     "start_time": "2024-07-05T17:57:09.701965Z"
    }
   },
   "cell_type": "code",
   "source": [
    "students_df_iloc_rows = students_df.iloc[0:2, :]\n",
    "students_df_iloc_rows"
   ],
   "id": "18b2befbeee477a2",
   "outputs": [
    {
     "data": {
      "text/plain": [
       "   Name  Age              Course\n",
       "1  Eric   40    Machine Learning\n",
       "2   Ivy   37  Project Management"
      ],
      "text/html": [
       "<div>\n",
       "<style scoped>\n",
       "    .dataframe tbody tr th:only-of-type {\n",
       "        vertical-align: middle;\n",
       "    }\n",
       "\n",
       "    .dataframe tbody tr th {\n",
       "        vertical-align: top;\n",
       "    }\n",
       "\n",
       "    .dataframe thead th {\n",
       "        text-align: right;\n",
       "    }\n",
       "</style>\n",
       "<table border=\"1\" class=\"dataframe\">\n",
       "  <thead>\n",
       "    <tr style=\"text-align: right;\">\n",
       "      <th></th>\n",
       "      <th>Name</th>\n",
       "      <th>Age</th>\n",
       "      <th>Course</th>\n",
       "    </tr>\n",
       "  </thead>\n",
       "  <tbody>\n",
       "    <tr>\n",
       "      <th>1</th>\n",
       "      <td>Eric</td>\n",
       "      <td>40</td>\n",
       "      <td>Machine Learning</td>\n",
       "    </tr>\n",
       "    <tr>\n",
       "      <th>2</th>\n",
       "      <td>Ivy</td>\n",
       "      <td>37</td>\n",
       "      <td>Project Management</td>\n",
       "    </tr>\n",
       "  </tbody>\n",
       "</table>\n",
       "</div>"
      ]
     },
     "execution_count": 23,
     "metadata": {},
     "output_type": "execute_result"
    }
   ],
   "execution_count": 23
  },
  {
   "metadata": {},
   "cell_type": "markdown",
   "source": "## Select via slicing columns explicitly",
   "id": "2bc0630a8a0ea773"
  },
  {
   "metadata": {
    "ExecuteTime": {
     "end_time": "2024-07-05T17:57:36.820291Z",
     "start_time": "2024-07-05T17:57:36.814168Z"
    }
   },
   "cell_type": "code",
   "source": [
    "students_df_iloc_columns = students_df.iloc[:, 0:2]\n",
    "students_df_iloc_columns"
   ],
   "id": "ef68b5c11acb109e",
   "outputs": [
    {
     "data": {
      "text/plain": [
       "      Name  Age\n",
       "1     Eric   40\n",
       "2      Ivy   37\n",
       "3     Jude   10\n",
       "4    Alice   22\n",
       "5      Bob   25\n",
       "6  Charlie   23\n",
       "7    Diana   28\n",
       "8   Edward   21\n",
       "9    Fiona   24"
      ],
      "text/html": [
       "<div>\n",
       "<style scoped>\n",
       "    .dataframe tbody tr th:only-of-type {\n",
       "        vertical-align: middle;\n",
       "    }\n",
       "\n",
       "    .dataframe tbody tr th {\n",
       "        vertical-align: top;\n",
       "    }\n",
       "\n",
       "    .dataframe thead th {\n",
       "        text-align: right;\n",
       "    }\n",
       "</style>\n",
       "<table border=\"1\" class=\"dataframe\">\n",
       "  <thead>\n",
       "    <tr style=\"text-align: right;\">\n",
       "      <th></th>\n",
       "      <th>Name</th>\n",
       "      <th>Age</th>\n",
       "    </tr>\n",
       "  </thead>\n",
       "  <tbody>\n",
       "    <tr>\n",
       "      <th>1</th>\n",
       "      <td>Eric</td>\n",
       "      <td>40</td>\n",
       "    </tr>\n",
       "    <tr>\n",
       "      <th>2</th>\n",
       "      <td>Ivy</td>\n",
       "      <td>37</td>\n",
       "    </tr>\n",
       "    <tr>\n",
       "      <th>3</th>\n",
       "      <td>Jude</td>\n",
       "      <td>10</td>\n",
       "    </tr>\n",
       "    <tr>\n",
       "      <th>4</th>\n",
       "      <td>Alice</td>\n",
       "      <td>22</td>\n",
       "    </tr>\n",
       "    <tr>\n",
       "      <th>5</th>\n",
       "      <td>Bob</td>\n",
       "      <td>25</td>\n",
       "    </tr>\n",
       "    <tr>\n",
       "      <th>6</th>\n",
       "      <td>Charlie</td>\n",
       "      <td>23</td>\n",
       "    </tr>\n",
       "    <tr>\n",
       "      <th>7</th>\n",
       "      <td>Diana</td>\n",
       "      <td>28</td>\n",
       "    </tr>\n",
       "    <tr>\n",
       "      <th>8</th>\n",
       "      <td>Edward</td>\n",
       "      <td>21</td>\n",
       "    </tr>\n",
       "    <tr>\n",
       "      <th>9</th>\n",
       "      <td>Fiona</td>\n",
       "      <td>24</td>\n",
       "    </tr>\n",
       "  </tbody>\n",
       "</table>\n",
       "</div>"
      ]
     },
     "execution_count": 24,
     "metadata": {},
     "output_type": "execute_result"
    }
   ],
   "execution_count": 24
  },
  {
   "metadata": {},
   "cell_type": "markdown",
   "source": [
    "## Boolean Indexing\n",
    "\n",
    "We can use boolean indexing to filter rows based on specific conditions."
   ],
   "id": "2029d1a202a11877"
  },
  {
   "metadata": {
    "ExecuteTime": {
     "end_time": "2024-07-05T17:58:08.715201Z",
     "start_time": "2024-07-05T17:58:08.707586Z"
    }
   },
   "cell_type": "code",
   "source": [
    "# Boolean indexing: Select rows where Age is greater than 25\n",
    "students_df_boolean_indexing = students_df[students_df['Age'] > 25]\n",
    "students_df_boolean_indexing"
   ],
   "id": "94fe8f30304edc87",
   "outputs": [
    {
     "data": {
      "text/plain": [
       "    Name  Age              Course\n",
       "1   Eric   40    Machine Learning\n",
       "2    Ivy   37  Project Management\n",
       "7  Diana   28     AI and Robotics"
      ],
      "text/html": [
       "<div>\n",
       "<style scoped>\n",
       "    .dataframe tbody tr th:only-of-type {\n",
       "        vertical-align: middle;\n",
       "    }\n",
       "\n",
       "    .dataframe tbody tr th {\n",
       "        vertical-align: top;\n",
       "    }\n",
       "\n",
       "    .dataframe thead th {\n",
       "        text-align: right;\n",
       "    }\n",
       "</style>\n",
       "<table border=\"1\" class=\"dataframe\">\n",
       "  <thead>\n",
       "    <tr style=\"text-align: right;\">\n",
       "      <th></th>\n",
       "      <th>Name</th>\n",
       "      <th>Age</th>\n",
       "      <th>Course</th>\n",
       "    </tr>\n",
       "  </thead>\n",
       "  <tbody>\n",
       "    <tr>\n",
       "      <th>1</th>\n",
       "      <td>Eric</td>\n",
       "      <td>40</td>\n",
       "      <td>Machine Learning</td>\n",
       "    </tr>\n",
       "    <tr>\n",
       "      <th>2</th>\n",
       "      <td>Ivy</td>\n",
       "      <td>37</td>\n",
       "      <td>Project Management</td>\n",
       "    </tr>\n",
       "    <tr>\n",
       "      <th>7</th>\n",
       "      <td>Diana</td>\n",
       "      <td>28</td>\n",
       "      <td>AI and Robotics</td>\n",
       "    </tr>\n",
       "  </tbody>\n",
       "</table>\n",
       "</div>"
      ]
     },
     "execution_count": 25,
     "metadata": {},
     "output_type": "execute_result"
    }
   ],
   "execution_count": 25
  },
  {
   "metadata": {},
   "cell_type": "markdown",
   "source": [
    "## Using `isin()` Method for Filtering\n",
    "\n",
    "The `isin()` method can be used to filter DataFrame rows based on a list of values."
   ],
   "id": "40213d9b3788a516"
  },
  {
   "metadata": {
    "ExecuteTime": {
     "end_time": "2024-07-05T17:58:32.591305Z",
     "start_time": "2024-07-05T17:58:32.582921Z"
    }
   },
   "cell_type": "code",
   "source": [
    "# Using isin() method for filtering\n",
    "students_df2 = students_df.copy()\n",
    "students_df2['GPA'] = [5, 4, 3, 2, 3, 4, 6, 8, 4]\n",
    "students_df2_is_in = students_df2[students_df2['GPA'].isin([3, 8])]\n",
    "students_df2_is_in"
   ],
   "id": "f424f02aad0b7e1a",
   "outputs": [
    {
     "data": {
      "text/plain": [
       "     Name  Age           Course  GPA\n",
       "3    Jude   10       Programmer    3\n",
       "5     Bob   25  Web Development    3\n",
       "8  Edward   21  Cloud Computing    8"
      ],
      "text/html": [
       "<div>\n",
       "<style scoped>\n",
       "    .dataframe tbody tr th:only-of-type {\n",
       "        vertical-align: middle;\n",
       "    }\n",
       "\n",
       "    .dataframe tbody tr th {\n",
       "        vertical-align: top;\n",
       "    }\n",
       "\n",
       "    .dataframe thead th {\n",
       "        text-align: right;\n",
       "    }\n",
       "</style>\n",
       "<table border=\"1\" class=\"dataframe\">\n",
       "  <thead>\n",
       "    <tr style=\"text-align: right;\">\n",
       "      <th></th>\n",
       "      <th>Name</th>\n",
       "      <th>Age</th>\n",
       "      <th>Course</th>\n",
       "      <th>GPA</th>\n",
       "    </tr>\n",
       "  </thead>\n",
       "  <tbody>\n",
       "    <tr>\n",
       "      <th>3</th>\n",
       "      <td>Jude</td>\n",
       "      <td>10</td>\n",
       "      <td>Programmer</td>\n",
       "      <td>3</td>\n",
       "    </tr>\n",
       "    <tr>\n",
       "      <th>5</th>\n",
       "      <td>Bob</td>\n",
       "      <td>25</td>\n",
       "      <td>Web Development</td>\n",
       "      <td>3</td>\n",
       "    </tr>\n",
       "    <tr>\n",
       "      <th>8</th>\n",
       "      <td>Edward</td>\n",
       "      <td>21</td>\n",
       "      <td>Cloud Computing</td>\n",
       "      <td>8</td>\n",
       "    </tr>\n",
       "  </tbody>\n",
       "</table>\n",
       "</div>"
      ]
     },
     "execution_count": 26,
     "metadata": {},
     "output_type": "execute_result"
    }
   ],
   "execution_count": 26
  }
 ],
 "metadata": {
  "kernelspec": {
   "display_name": "Python 3",
   "language": "python",
   "name": "python3"
  },
  "language_info": {
   "codemirror_mode": {
    "name": "ipython",
    "version": 2
   },
   "file_extension": ".py",
   "mimetype": "text/x-python",
   "name": "python",
   "nbconvert_exporter": "python",
   "pygments_lexer": "ipython2",
   "version": "2.7.6"
  }
 },
 "nbformat": 4,
 "nbformat_minor": 5
}
