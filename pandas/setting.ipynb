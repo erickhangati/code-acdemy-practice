{
 "cells": [
  {
   "metadata": {},
   "cell_type": "markdown",
   "source": [
    "# Pandas DataFrame Setting\n",
    "\n",
    "This notebook demonstrates various basic operations using Pandas DataFrame, including creating a DataFrame, setting values by label and position, and adding columns.\n"
   ],
   "id": "76c38a4bf786fd30"
  },
  {
   "metadata": {
    "ExecuteTime": {
     "end_time": "2024-07-06T16:01:02.314130Z",
     "start_time": "2024-07-06T16:01:01.770056Z"
    }
   },
   "cell_type": "code",
   "source": [
    "import pandas as pd\n",
    "import numpy as np"
   ],
   "id": "569fddd850452412",
   "outputs": [],
   "execution_count": 2
  },
  {
   "metadata": {},
   "cell_type": "markdown",
   "source": [
    "## Creating a DataFrame\n",
    "\n",
    "We will create a DataFrame to represent student data, including names and ages."
   ],
   "id": "55c4d7494954ecac"
  },
  {
   "metadata": {
    "ExecuteTime": {
     "end_time": "2024-07-06T16:01:35.712690Z",
     "start_time": "2024-07-06T16:01:35.687888Z"
    }
   },
   "cell_type": "code",
   "source": [
    "# Create a list of lists representing student data\n",
    "students = [\n",
    "    ['Eric', 40],\n",
    "    ['Ivy', 37],\n",
    "    ['Jude', 10],\n",
    "]\n",
    "\n",
    "# Define the column names for the DataFrame\n",
    "columns = ['Name', 'Age']\n",
    "\n",
    "# Create an index for the DataFrame\n",
    "index = list(range(1, len(students) + 1))\n",
    "\n",
    "# Create a Pandas DataFrame from the students list with the specified columns and index\n",
    "students_df = pd.DataFrame(students, columns=columns, index=index)\n",
    "\n",
    "# Display the DataFrame\n",
    "students_df"
   ],
   "id": "e76084c1f087a7ee",
   "outputs": [
    {
     "data": {
      "text/plain": [
       "   Name  Age\n",
       "1  Eric   40\n",
       "2   Ivy   37\n",
       "3  Jude   10"
      ],
      "text/html": [
       "<div>\n",
       "<style scoped>\n",
       "    .dataframe tbody tr th:only-of-type {\n",
       "        vertical-align: middle;\n",
       "    }\n",
       "\n",
       "    .dataframe tbody tr th {\n",
       "        vertical-align: top;\n",
       "    }\n",
       "\n",
       "    .dataframe thead th {\n",
       "        text-align: right;\n",
       "    }\n",
       "</style>\n",
       "<table border=\"1\" class=\"dataframe\">\n",
       "  <thead>\n",
       "    <tr style=\"text-align: right;\">\n",
       "      <th></th>\n",
       "      <th>Name</th>\n",
       "      <th>Age</th>\n",
       "    </tr>\n",
       "  </thead>\n",
       "  <tbody>\n",
       "    <tr>\n",
       "      <th>1</th>\n",
       "      <td>Eric</td>\n",
       "      <td>40</td>\n",
       "    </tr>\n",
       "    <tr>\n",
       "      <th>2</th>\n",
       "      <td>Ivy</td>\n",
       "      <td>37</td>\n",
       "    </tr>\n",
       "    <tr>\n",
       "      <th>3</th>\n",
       "      <td>Jude</td>\n",
       "      <td>10</td>\n",
       "    </tr>\n",
       "  </tbody>\n",
       "</table>\n",
       "</div>"
      ]
     },
     "execution_count": 3,
     "metadata": {},
     "output_type": "execute_result"
    }
   ],
   "execution_count": 3
  },
  {
   "metadata": {},
   "cell_type": "markdown",
   "source": [
    "## Adding a New Column\n",
    "\n",
    "We will add a new column to the DataFrame representing the courses each student is taking."
   ],
   "id": "4f352548f46af4bb"
  },
  {
   "metadata": {
    "ExecuteTime": {
     "end_time": "2024-07-06T16:02:16.312319Z",
     "start_time": "2024-07-06T16:02:16.286644Z"
    }
   },
   "cell_type": "code",
   "source": [
    "# Setting a new column automatically aligns the data by the indexes:\n",
    "courses = ['Machine Learning', 'Project Management', 'Programmer']\n",
    "course_series = pd.Series(courses, index=index)\n",
    "students_df['Courses'] = course_series\n",
    "\n",
    "# Display the updated DataFrame\n",
    "students_df"
   ],
   "id": "eb639064e7d18f61",
   "outputs": [
    {
     "data": {
      "text/plain": [
       "   Name  Age             Courses\n",
       "1  Eric   40    Machine Learning\n",
       "2   Ivy   37  Project Management\n",
       "3  Jude   10          Programmer"
      ],
      "text/html": [
       "<div>\n",
       "<style scoped>\n",
       "    .dataframe tbody tr th:only-of-type {\n",
       "        vertical-align: middle;\n",
       "    }\n",
       "\n",
       "    .dataframe tbody tr th {\n",
       "        vertical-align: top;\n",
       "    }\n",
       "\n",
       "    .dataframe thead th {\n",
       "        text-align: right;\n",
       "    }\n",
       "</style>\n",
       "<table border=\"1\" class=\"dataframe\">\n",
       "  <thead>\n",
       "    <tr style=\"text-align: right;\">\n",
       "      <th></th>\n",
       "      <th>Name</th>\n",
       "      <th>Age</th>\n",
       "      <th>Courses</th>\n",
       "    </tr>\n",
       "  </thead>\n",
       "  <tbody>\n",
       "    <tr>\n",
       "      <th>1</th>\n",
       "      <td>Eric</td>\n",
       "      <td>40</td>\n",
       "      <td>Machine Learning</td>\n",
       "    </tr>\n",
       "    <tr>\n",
       "      <th>2</th>\n",
       "      <td>Ivy</td>\n",
       "      <td>37</td>\n",
       "      <td>Project Management</td>\n",
       "    </tr>\n",
       "    <tr>\n",
       "      <th>3</th>\n",
       "      <td>Jude</td>\n",
       "      <td>10</td>\n",
       "      <td>Programmer</td>\n",
       "    </tr>\n",
       "  </tbody>\n",
       "</table>\n",
       "</div>"
      ]
     },
     "execution_count": 4,
     "metadata": {},
     "output_type": "execute_result"
    }
   ],
   "execution_count": 4
  },
  {
   "metadata": {},
   "cell_type": "markdown",
   "source": [
    "## Setting Values by Label\n",
    "\n",
    "We will update the age of the second student (Ivy) by using the label-based index."
   ],
   "id": "7fd404f50c8aa96"
  },
  {
   "metadata": {
    "ExecuteTime": {
     "end_time": "2024-07-06T16:03:10.966444Z",
     "start_time": "2024-07-06T16:03:10.950317Z"
    }
   },
   "cell_type": "code",
   "source": [
    "# Setting values by label:\n",
    "students_df.at[index[1], 'Age'] = 38\n",
    "\n",
    "# Display the updated DataFrame\n",
    "students_df"
   ],
   "id": "e6854b16d5109dff",
   "outputs": [
    {
     "data": {
      "text/plain": [
       "   Name  Age             Courses\n",
       "1  Eric   40    Machine Learning\n",
       "2   Ivy   38  Project Management\n",
       "3  Jude   10          Programmer"
      ],
      "text/html": [
       "<div>\n",
       "<style scoped>\n",
       "    .dataframe tbody tr th:only-of-type {\n",
       "        vertical-align: middle;\n",
       "    }\n",
       "\n",
       "    .dataframe tbody tr th {\n",
       "        vertical-align: top;\n",
       "    }\n",
       "\n",
       "    .dataframe thead th {\n",
       "        text-align: right;\n",
       "    }\n",
       "</style>\n",
       "<table border=\"1\" class=\"dataframe\">\n",
       "  <thead>\n",
       "    <tr style=\"text-align: right;\">\n",
       "      <th></th>\n",
       "      <th>Name</th>\n",
       "      <th>Age</th>\n",
       "      <th>Courses</th>\n",
       "    </tr>\n",
       "  </thead>\n",
       "  <tbody>\n",
       "    <tr>\n",
       "      <th>1</th>\n",
       "      <td>Eric</td>\n",
       "      <td>40</td>\n",
       "      <td>Machine Learning</td>\n",
       "    </tr>\n",
       "    <tr>\n",
       "      <th>2</th>\n",
       "      <td>Ivy</td>\n",
       "      <td>38</td>\n",
       "      <td>Project Management</td>\n",
       "    </tr>\n",
       "    <tr>\n",
       "      <th>3</th>\n",
       "      <td>Jude</td>\n",
       "      <td>10</td>\n",
       "      <td>Programmer</td>\n",
       "    </tr>\n",
       "  </tbody>\n",
       "</table>\n",
       "</div>"
      ]
     },
     "execution_count": 5,
     "metadata": {},
     "output_type": "execute_result"
    }
   ],
   "execution_count": 5
  },
  {
   "metadata": {},
   "cell_type": "markdown",
   "source": [
    "## Setting Values by Position\n",
    "\n",
    "We will update the age of the first student (Eric) by using the position-based index."
   ],
   "id": "cc57fe936c9f7a4e"
  },
  {
   "metadata": {
    "ExecuteTime": {
     "end_time": "2024-07-06T16:03:40.929253Z",
     "start_time": "2024-07-06T16:03:40.907149Z"
    }
   },
   "cell_type": "code",
   "source": [
    "# Setting values by position:\n",
    "students_df.iat[0, 1] = 45\n",
    "\n",
    "# Display the updated DataFrame\n",
    "students_df"
   ],
   "id": "4eb10e3e4b382504",
   "outputs": [
    {
     "data": {
      "text/plain": [
       "   Name  Age             Courses\n",
       "1  Eric   45    Machine Learning\n",
       "2   Ivy   38  Project Management\n",
       "3  Jude   10          Programmer"
      ],
      "text/html": [
       "<div>\n",
       "<style scoped>\n",
       "    .dataframe tbody tr th:only-of-type {\n",
       "        vertical-align: middle;\n",
       "    }\n",
       "\n",
       "    .dataframe tbody tr th {\n",
       "        vertical-align: top;\n",
       "    }\n",
       "\n",
       "    .dataframe thead th {\n",
       "        text-align: right;\n",
       "    }\n",
       "</style>\n",
       "<table border=\"1\" class=\"dataframe\">\n",
       "  <thead>\n",
       "    <tr style=\"text-align: right;\">\n",
       "      <th></th>\n",
       "      <th>Name</th>\n",
       "      <th>Age</th>\n",
       "      <th>Courses</th>\n",
       "    </tr>\n",
       "  </thead>\n",
       "  <tbody>\n",
       "    <tr>\n",
       "      <th>1</th>\n",
       "      <td>Eric</td>\n",
       "      <td>45</td>\n",
       "      <td>Machine Learning</td>\n",
       "    </tr>\n",
       "    <tr>\n",
       "      <th>2</th>\n",
       "      <td>Ivy</td>\n",
       "      <td>38</td>\n",
       "      <td>Project Management</td>\n",
       "    </tr>\n",
       "    <tr>\n",
       "      <th>3</th>\n",
       "      <td>Jude</td>\n",
       "      <td>10</td>\n",
       "      <td>Programmer</td>\n",
       "    </tr>\n",
       "  </tbody>\n",
       "</table>\n",
       "</div>"
      ]
     },
     "execution_count": 6,
     "metadata": {},
     "output_type": "execute_result"
    }
   ],
   "execution_count": 6
  },
  {
   "metadata": {},
   "cell_type": "markdown",
   "source": [
    "## Adding a Column with NumPy Array\n",
    "\n",
    "We will add a new column representing the GPA of each student by assigning a NumPy array to the DataFrame."
   ],
   "id": "11a30c59bd90188a"
  },
  {
   "metadata": {
    "ExecuteTime": {
     "end_time": "2024-07-06T16:04:18.813700Z",
     "start_time": "2024-07-06T16:04:18.802579Z"
    }
   },
   "cell_type": "code",
   "source": [
    "# Setting column by assigning with a NumPy array:\n",
    "students_df['GPA'] = np.array([4] * len(students_df))\n",
    "\n",
    "# Display the final DataFrame\n",
    "students_df"
   ],
   "id": "7af9008a417a03e1",
   "outputs": [
    {
     "data": {
      "text/plain": [
       "   Name  Age             Courses  GPA\n",
       "1  Eric   45    Machine Learning    4\n",
       "2   Ivy   38  Project Management    4\n",
       "3  Jude   10          Programmer    4"
      ],
      "text/html": [
       "<div>\n",
       "<style scoped>\n",
       "    .dataframe tbody tr th:only-of-type {\n",
       "        vertical-align: middle;\n",
       "    }\n",
       "\n",
       "    .dataframe tbody tr th {\n",
       "        vertical-align: top;\n",
       "    }\n",
       "\n",
       "    .dataframe thead th {\n",
       "        text-align: right;\n",
       "    }\n",
       "</style>\n",
       "<table border=\"1\" class=\"dataframe\">\n",
       "  <thead>\n",
       "    <tr style=\"text-align: right;\">\n",
       "      <th></th>\n",
       "      <th>Name</th>\n",
       "      <th>Age</th>\n",
       "      <th>Courses</th>\n",
       "      <th>GPA</th>\n",
       "    </tr>\n",
       "  </thead>\n",
       "  <tbody>\n",
       "    <tr>\n",
       "      <th>1</th>\n",
       "      <td>Eric</td>\n",
       "      <td>45</td>\n",
       "      <td>Machine Learning</td>\n",
       "      <td>4</td>\n",
       "    </tr>\n",
       "    <tr>\n",
       "      <th>2</th>\n",
       "      <td>Ivy</td>\n",
       "      <td>38</td>\n",
       "      <td>Project Management</td>\n",
       "      <td>4</td>\n",
       "    </tr>\n",
       "    <tr>\n",
       "      <th>3</th>\n",
       "      <td>Jude</td>\n",
       "      <td>10</td>\n",
       "      <td>Programmer</td>\n",
       "      <td>4</td>\n",
       "    </tr>\n",
       "  </tbody>\n",
       "</table>\n",
       "</div>"
      ]
     },
     "execution_count": 7,
     "metadata": {},
     "output_type": "execute_result"
    }
   ],
   "execution_count": 7
  }
 ],
 "metadata": {
  "kernelspec": {
   "display_name": "Python 3",
   "language": "python",
   "name": "python3"
  },
  "language_info": {
   "codemirror_mode": {
    "name": "ipython",
    "version": 2
   },
   "file_extension": ".py",
   "mimetype": "text/x-python",
   "name": "python",
   "nbconvert_exporter": "python",
   "pygments_lexer": "ipython2",
   "version": "2.7.6"
  }
 },
 "nbformat": 4,
 "nbformat_minor": 5
}
