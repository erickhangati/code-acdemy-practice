{
 "cells": [
  {
   "metadata": {},
   "cell_type": "markdown",
   "source": [
    "# DataFrame Operations in Pandas\n",
    "\n",
    "This notebook demonstrates various DataFrame operations in Pandas, including statistical calculations, shifting values, applying user-defined functions, and string operations."
   ],
   "id": "38a40079b65a3d2a"
  },
  {
   "metadata": {
    "ExecuteTime": {
     "end_time": "2024-07-08T15:25:35.164756Z",
     "start_time": "2024-07-08T15:25:34.690139Z"
    }
   },
   "cell_type": "code",
   "source": [
    "import pandas as pd\n",
    "import numpy as np"
   ],
   "id": "c94263913a5bf408",
   "outputs": [],
   "execution_count": 1
  },
  {
   "metadata": {},
   "cell_type": "markdown",
   "source": [
    "## Creating a DataFrame for Patient Data\n",
    "\n",
    "We will create a DataFrame to represent patient data, including age, height, and weight."
   ],
   "id": "cd1bbbb6f06f5323"
  },
  {
   "metadata": {
    "ExecuteTime": {
     "end_time": "2024-07-08T15:26:26.169136Z",
     "start_time": "2024-07-08T15:26:26.143502Z"
    }
   },
   "cell_type": "code",
   "source": [
    "# Create a dictionary with patient data\n",
    "patients_data = {\n",
    "    'Age': [25, 34, 45, 56, 28, 40, 33, 29, 50, 60],\n",
    "    'Height': [170, 165, 180, 175, 160, 155, 185, 172, 168, 174],  # Height in cm\n",
    "    'Weight': [70, 65, 85, 90, 60, 55, 88, 75, 68, 77]  # Weight in kg\n",
    "}\n",
    "\n",
    "# Create a Pandas DataFrame from the dictionary\n",
    "patients_df = pd.DataFrame(patients_data, index=list(range(10)))\n",
    "\n",
    "# Display the DataFrame\n",
    "patients_df"
   ],
   "id": "a73902ade77067dd",
   "outputs": [
    {
     "data": {
      "text/plain": [
       "   Age  Height  Weight\n",
       "0   25     170      70\n",
       "1   34     165      65\n",
       "2   45     180      85\n",
       "3   56     175      90\n",
       "4   28     160      60\n",
       "5   40     155      55\n",
       "6   33     185      88\n",
       "7   29     172      75\n",
       "8   50     168      68\n",
       "9   60     174      77"
      ],
      "text/html": [
       "<div>\n",
       "<style scoped>\n",
       "    .dataframe tbody tr th:only-of-type {\n",
       "        vertical-align: middle;\n",
       "    }\n",
       "\n",
       "    .dataframe tbody tr th {\n",
       "        vertical-align: top;\n",
       "    }\n",
       "\n",
       "    .dataframe thead th {\n",
       "        text-align: right;\n",
       "    }\n",
       "</style>\n",
       "<table border=\"1\" class=\"dataframe\">\n",
       "  <thead>\n",
       "    <tr style=\"text-align: right;\">\n",
       "      <th></th>\n",
       "      <th>Age</th>\n",
       "      <th>Height</th>\n",
       "      <th>Weight</th>\n",
       "    </tr>\n",
       "  </thead>\n",
       "  <tbody>\n",
       "    <tr>\n",
       "      <th>0</th>\n",
       "      <td>25</td>\n",
       "      <td>170</td>\n",
       "      <td>70</td>\n",
       "    </tr>\n",
       "    <tr>\n",
       "      <th>1</th>\n",
       "      <td>34</td>\n",
       "      <td>165</td>\n",
       "      <td>65</td>\n",
       "    </tr>\n",
       "    <tr>\n",
       "      <th>2</th>\n",
       "      <td>45</td>\n",
       "      <td>180</td>\n",
       "      <td>85</td>\n",
       "    </tr>\n",
       "    <tr>\n",
       "      <th>3</th>\n",
       "      <td>56</td>\n",
       "      <td>175</td>\n",
       "      <td>90</td>\n",
       "    </tr>\n",
       "    <tr>\n",
       "      <th>4</th>\n",
       "      <td>28</td>\n",
       "      <td>160</td>\n",
       "      <td>60</td>\n",
       "    </tr>\n",
       "    <tr>\n",
       "      <th>5</th>\n",
       "      <td>40</td>\n",
       "      <td>155</td>\n",
       "      <td>55</td>\n",
       "    </tr>\n",
       "    <tr>\n",
       "      <th>6</th>\n",
       "      <td>33</td>\n",
       "      <td>185</td>\n",
       "      <td>88</td>\n",
       "    </tr>\n",
       "    <tr>\n",
       "      <th>7</th>\n",
       "      <td>29</td>\n",
       "      <td>172</td>\n",
       "      <td>75</td>\n",
       "    </tr>\n",
       "    <tr>\n",
       "      <th>8</th>\n",
       "      <td>50</td>\n",
       "      <td>168</td>\n",
       "      <td>68</td>\n",
       "    </tr>\n",
       "    <tr>\n",
       "      <th>9</th>\n",
       "      <td>60</td>\n",
       "      <td>174</td>\n",
       "      <td>77</td>\n",
       "    </tr>\n",
       "  </tbody>\n",
       "</table>\n",
       "</div>"
      ]
     },
     "execution_count": 2,
     "metadata": {},
     "output_type": "execute_result"
    }
   ],
   "execution_count": 2
  },
  {
   "metadata": {},
   "cell_type": "markdown",
   "source": [
    "## Calculating the Mean Value for Each Column\n",
    "\n",
    "We will calculate the mean value for each column in the DataFrame."
   ],
   "id": "f9da8d1782b2703e"
  },
  {
   "metadata": {
    "ExecuteTime": {
     "end_time": "2024-07-08T15:27:44.816218Z",
     "start_time": "2024-07-08T15:27:44.794031Z"
    }
   },
   "cell_type": "code",
   "source": [
    "# Calculate the mean value for each column\n",
    "column_mean = patients_df.mean()\n",
    "\n",
    "# Display the mean values for each column\n",
    "column_mean"
   ],
   "id": "3cc6d53f6abf07e4",
   "outputs": [
    {
     "data": {
      "text/plain": [
       "Age        40.0\n",
       "Height    170.4\n",
       "Weight     73.3\n",
       "dtype: float64"
      ]
     },
     "execution_count": 3,
     "metadata": {},
     "output_type": "execute_result"
    }
   ],
   "execution_count": 3
  },
  {
   "metadata": {},
   "cell_type": "markdown",
   "source": [
    "## Calculating the Mean Value for Each Row\n",
    "\n",
    "We will calculate the mean value for each row in the DataFrame."
   ],
   "id": "717905758403f292"
  },
  {
   "metadata": {
    "ExecuteTime": {
     "end_time": "2024-07-08T15:29:37.765141Z",
     "start_time": "2024-07-08T15:29:37.745458Z"
    }
   },
   "cell_type": "code",
   "source": [
    "# Calculate the mean value for each row\n",
    "row_mean = patients_df.mean(axis=1)\n",
    "\n",
    "# Display the mean values for each row\n",
    "row_mean"
   ],
   "id": "c97eeda7d33ed8e6",
   "outputs": [
    {
     "data": {
      "text/plain": [
       "0     88.333333\n",
       "1     88.000000\n",
       "2    103.333333\n",
       "3    107.000000\n",
       "4     82.666667\n",
       "5     83.333333\n",
       "6    102.000000\n",
       "7     92.000000\n",
       "8     95.333333\n",
       "9    103.666667\n",
       "dtype: float64"
      ]
     },
     "execution_count": 5,
     "metadata": {},
     "output_type": "execute_result"
    }
   ],
   "execution_count": 5
  },
  {
   "metadata": {},
   "cell_type": "markdown",
   "source": [
    "## Creating a DataFrame for Student Data\n",
    "\n",
    "We will create a DataFrame to represent student data, including names, ages, marks, and GPAs. Then we will calculate the mean value for each numeric column, excluding the 'Name' column."
   ],
   "id": "27e67e8a5c4d3cff"
  },
  {
   "metadata": {
    "ExecuteTime": {
     "end_time": "2024-07-08T15:30:35.814889Z",
     "start_time": "2024-07-08T15:30:35.787537Z"
    }
   },
   "cell_type": "code",
   "source": [
    "# Create a dictionary with student data\n",
    "students = {\n",
    "    'Name': ['Eric', 'Ivy', 'Jude'],\n",
    "    'Age': [22, 25, 26],\n",
    "    'Marks': [95, 82, 87],\n",
    "    'GPA': [4, 3.2, 3.85]\n",
    "}\n",
    "\n",
    "# Create an index for the DataFrame\n",
    "index = list(range(1, len(students)))\n",
    "\n",
    "# Create a Pandas DataFrame from the dictionary\n",
    "students_df = pd.DataFrame(students, index=index)\n",
    "\n",
    "# Display the DataFrame\n",
    "students_df"
   ],
   "id": "2d63344f1f0c999e",
   "outputs": [
    {
     "data": {
      "text/plain": [
       "   Name  Age  Marks   GPA\n",
       "1  Eric   22     95  4.00\n",
       "2   Ivy   25     82  3.20\n",
       "3  Jude   26     87  3.85"
      ],
      "text/html": [
       "<div>\n",
       "<style scoped>\n",
       "    .dataframe tbody tr th:only-of-type {\n",
       "        vertical-align: middle;\n",
       "    }\n",
       "\n",
       "    .dataframe tbody tr th {\n",
       "        vertical-align: top;\n",
       "    }\n",
       "\n",
       "    .dataframe thead th {\n",
       "        text-align: right;\n",
       "    }\n",
       "</style>\n",
       "<table border=\"1\" class=\"dataframe\">\n",
       "  <thead>\n",
       "    <tr style=\"text-align: right;\">\n",
       "      <th></th>\n",
       "      <th>Name</th>\n",
       "      <th>Age</th>\n",
       "      <th>Marks</th>\n",
       "      <th>GPA</th>\n",
       "    </tr>\n",
       "  </thead>\n",
       "  <tbody>\n",
       "    <tr>\n",
       "      <th>1</th>\n",
       "      <td>Eric</td>\n",
       "      <td>22</td>\n",
       "      <td>95</td>\n",
       "      <td>4.00</td>\n",
       "    </tr>\n",
       "    <tr>\n",
       "      <th>2</th>\n",
       "      <td>Ivy</td>\n",
       "      <td>25</td>\n",
       "      <td>82</td>\n",
       "      <td>3.20</td>\n",
       "    </tr>\n",
       "    <tr>\n",
       "      <th>3</th>\n",
       "      <td>Jude</td>\n",
       "      <td>26</td>\n",
       "      <td>87</td>\n",
       "      <td>3.85</td>\n",
       "    </tr>\n",
       "  </tbody>\n",
       "</table>\n",
       "</div>"
      ]
     },
     "execution_count": 7,
     "metadata": {},
     "output_type": "execute_result"
    }
   ],
   "execution_count": 7
  },
  {
   "metadata": {},
   "cell_type": "markdown",
   "source": [
    "## Calculating the Mean Value for Each Numeric Column\n",
    "\n",
    "We will calculate the mean value for each numeric column in the DataFrame, excluding the 'Name' column."
   ],
   "id": "97df60fd0fd76cbb"
  },
  {
   "metadata": {
    "ExecuteTime": {
     "end_time": "2024-07-08T15:31:45.344184Z",
     "start_time": "2024-07-08T15:31:45.328090Z"
    }
   },
   "cell_type": "code",
   "source": [
    "# Calculate the mean value for each numeric column\n",
    "selected_column_mean = students_df.select_dtypes(include='number').mean()\n",
    "\n",
    "# Display the mean values for each numeric column\n",
    "selected_column_mean"
   ],
   "id": "26d5b5d5d5feae78",
   "outputs": [
    {
     "data": {
      "text/plain": [
       "Age      24.333333\n",
       "Marks    88.000000\n",
       "GPA       3.683333\n",
       "dtype: float64"
      ]
     },
     "execution_count": 8,
     "metadata": {},
     "output_type": "execute_result"
    }
   ],
   "execution_count": 8
  },
  {
   "metadata": {},
   "cell_type": "markdown",
   "source": [
    "## Shifting Values in the DataFrame\n",
    "\n",
    "We will shift the values in the DataFrame by 2 positions."
   ],
   "id": "3842be2df4e929d"
  },
  {
   "metadata": {
    "ExecuteTime": {
     "end_time": "2024-07-08T15:32:26.402082Z",
     "start_time": "2024-07-08T15:32:26.390214Z"
    }
   },
   "cell_type": "code",
   "source": [
    "# Create a copy of the DataFrame for shifting values\n",
    "patients_df2 = patients_df.copy()\n",
    "\n",
    "# Shift the values by 2 positions\n",
    "shifted_values = patients_df2.shift(2)\n",
    "\n",
    "# Display the shifted DataFrame\n",
    "shifted_values"
   ],
   "id": "6407bbc06690b371",
   "outputs": [
    {
     "data": {
      "text/plain": [
       "    Age  Height  Weight\n",
       "0   NaN     NaN     NaN\n",
       "1   NaN     NaN     NaN\n",
       "2  25.0   170.0    70.0\n",
       "3  34.0   165.0    65.0\n",
       "4  45.0   180.0    85.0\n",
       "5  56.0   175.0    90.0\n",
       "6  28.0   160.0    60.0\n",
       "7  40.0   155.0    55.0\n",
       "8  33.0   185.0    88.0\n",
       "9  29.0   172.0    75.0"
      ],
      "text/html": [
       "<div>\n",
       "<style scoped>\n",
       "    .dataframe tbody tr th:only-of-type {\n",
       "        vertical-align: middle;\n",
       "    }\n",
       "\n",
       "    .dataframe tbody tr th {\n",
       "        vertical-align: top;\n",
       "    }\n",
       "\n",
       "    .dataframe thead th {\n",
       "        text-align: right;\n",
       "    }\n",
       "</style>\n",
       "<table border=\"1\" class=\"dataframe\">\n",
       "  <thead>\n",
       "    <tr style=\"text-align: right;\">\n",
       "      <th></th>\n",
       "      <th>Age</th>\n",
       "      <th>Height</th>\n",
       "      <th>Weight</th>\n",
       "    </tr>\n",
       "  </thead>\n",
       "  <tbody>\n",
       "    <tr>\n",
       "      <th>0</th>\n",
       "      <td>NaN</td>\n",
       "      <td>NaN</td>\n",
       "      <td>NaN</td>\n",
       "    </tr>\n",
       "    <tr>\n",
       "      <th>1</th>\n",
       "      <td>NaN</td>\n",
       "      <td>NaN</td>\n",
       "      <td>NaN</td>\n",
       "    </tr>\n",
       "    <tr>\n",
       "      <th>2</th>\n",
       "      <td>25.0</td>\n",
       "      <td>170.0</td>\n",
       "      <td>70.0</td>\n",
       "    </tr>\n",
       "    <tr>\n",
       "      <th>3</th>\n",
       "      <td>34.0</td>\n",
       "      <td>165.0</td>\n",
       "      <td>65.0</td>\n",
       "    </tr>\n",
       "    <tr>\n",
       "      <th>4</th>\n",
       "      <td>45.0</td>\n",
       "      <td>180.0</td>\n",
       "      <td>85.0</td>\n",
       "    </tr>\n",
       "    <tr>\n",
       "      <th>5</th>\n",
       "      <td>56.0</td>\n",
       "      <td>175.0</td>\n",
       "      <td>90.0</td>\n",
       "    </tr>\n",
       "    <tr>\n",
       "      <th>6</th>\n",
       "      <td>28.0</td>\n",
       "      <td>160.0</td>\n",
       "      <td>60.0</td>\n",
       "    </tr>\n",
       "    <tr>\n",
       "      <th>7</th>\n",
       "      <td>40.0</td>\n",
       "      <td>155.0</td>\n",
       "      <td>55.0</td>\n",
       "    </tr>\n",
       "    <tr>\n",
       "      <th>8</th>\n",
       "      <td>33.0</td>\n",
       "      <td>185.0</td>\n",
       "      <td>88.0</td>\n",
       "    </tr>\n",
       "    <tr>\n",
       "      <th>9</th>\n",
       "      <td>29.0</td>\n",
       "      <td>172.0</td>\n",
       "      <td>75.0</td>\n",
       "    </tr>\n",
       "  </tbody>\n",
       "</table>\n",
       "</div>"
      ]
     },
     "execution_count": 9,
     "metadata": {},
     "output_type": "execute_result"
    }
   ],
   "execution_count": 9
  },
  {
   "metadata": {},
   "cell_type": "markdown",
   "source": [
    "## Applying User-Defined Functions\n",
    "\n",
    "We will demonstrate how to apply user-defined functions using `agg()` and `transform()`."
   ],
   "id": "7ddc04c11630dca3"
  },
  {
   "metadata": {
    "ExecuteTime": {
     "end_time": "2024-07-08T15:33:15.132268Z",
     "start_time": "2024-07-08T15:33:15.113277Z"
    }
   },
   "cell_type": "code",
   "source": [
    "# Create a copy of the DataFrame for reducing values\n",
    "patients_df3 = patients_df.copy()\n",
    "\n",
    "# Apply a user-defined function to reduce values\n",
    "patients_df3_mean = patients_df3.agg(lambda x: np.mean(x) * 2)\n",
    "\n",
    "# Display the reduced DataFrame\n",
    "patients_df3_mean"
   ],
   "id": "59c3669b3f16fc37",
   "outputs": [
    {
     "data": {
      "text/plain": [
       "Age        80.0\n",
       "Height    340.8\n",
       "Weight    146.6\n",
       "dtype: float64"
      ]
     },
     "execution_count": 10,
     "metadata": {},
     "output_type": "execute_result"
    }
   ],
   "execution_count": 10
  },
  {
   "metadata": {},
   "cell_type": "markdown",
   "source": [
    "### Broadcasting Values with `transform()`\n",
    "\n",
    "We will use the `transform()` method to apply a user-defined function that broadcasts its result."
   ],
   "id": "c536b3c4148f3878"
  },
  {
   "metadata": {
    "ExecuteTime": {
     "end_time": "2024-07-08T15:34:23.291698Z",
     "start_time": "2024-07-08T15:34:23.281853Z"
    }
   },
   "cell_type": "code",
   "source": [
    "# Create a copy of the DataFrame for broadcasting values\n",
    "patients_df4 = patients_df.copy()\n",
    "\n",
    "# Apply a user-defined function to broadcast values\n",
    "patients_df4_square = patients_df4.transform(lambda x: x ** 2)\n",
    "\n",
    "# Display the broadcast DataFrame\n",
    "patients_df4_square"
   ],
   "id": "66f6302c703c8ead",
   "outputs": [
    {
     "data": {
      "text/plain": [
       "    Age  Height  Weight\n",
       "0   625   28900    4900\n",
       "1  1156   27225    4225\n",
       "2  2025   32400    7225\n",
       "3  3136   30625    8100\n",
       "4   784   25600    3600\n",
       "5  1600   24025    3025\n",
       "6  1089   34225    7744\n",
       "7   841   29584    5625\n",
       "8  2500   28224    4624\n",
       "9  3600   30276    5929"
      ],
      "text/html": [
       "<div>\n",
       "<style scoped>\n",
       "    .dataframe tbody tr th:only-of-type {\n",
       "        vertical-align: middle;\n",
       "    }\n",
       "\n",
       "    .dataframe tbody tr th {\n",
       "        vertical-align: top;\n",
       "    }\n",
       "\n",
       "    .dataframe thead th {\n",
       "        text-align: right;\n",
       "    }\n",
       "</style>\n",
       "<table border=\"1\" class=\"dataframe\">\n",
       "  <thead>\n",
       "    <tr style=\"text-align: right;\">\n",
       "      <th></th>\n",
       "      <th>Age</th>\n",
       "      <th>Height</th>\n",
       "      <th>Weight</th>\n",
       "    </tr>\n",
       "  </thead>\n",
       "  <tbody>\n",
       "    <tr>\n",
       "      <th>0</th>\n",
       "      <td>625</td>\n",
       "      <td>28900</td>\n",
       "      <td>4900</td>\n",
       "    </tr>\n",
       "    <tr>\n",
       "      <th>1</th>\n",
       "      <td>1156</td>\n",
       "      <td>27225</td>\n",
       "      <td>4225</td>\n",
       "    </tr>\n",
       "    <tr>\n",
       "      <th>2</th>\n",
       "      <td>2025</td>\n",
       "      <td>32400</td>\n",
       "      <td>7225</td>\n",
       "    </tr>\n",
       "    <tr>\n",
       "      <th>3</th>\n",
       "      <td>3136</td>\n",
       "      <td>30625</td>\n",
       "      <td>8100</td>\n",
       "    </tr>\n",
       "    <tr>\n",
       "      <th>4</th>\n",
       "      <td>784</td>\n",
       "      <td>25600</td>\n",
       "      <td>3600</td>\n",
       "    </tr>\n",
       "    <tr>\n",
       "      <th>5</th>\n",
       "      <td>1600</td>\n",
       "      <td>24025</td>\n",
       "      <td>3025</td>\n",
       "    </tr>\n",
       "    <tr>\n",
       "      <th>6</th>\n",
       "      <td>1089</td>\n",
       "      <td>34225</td>\n",
       "      <td>7744</td>\n",
       "    </tr>\n",
       "    <tr>\n",
       "      <th>7</th>\n",
       "      <td>841</td>\n",
       "      <td>29584</td>\n",
       "      <td>5625</td>\n",
       "    </tr>\n",
       "    <tr>\n",
       "      <th>8</th>\n",
       "      <td>2500</td>\n",
       "      <td>28224</td>\n",
       "      <td>4624</td>\n",
       "    </tr>\n",
       "    <tr>\n",
       "      <th>9</th>\n",
       "      <td>3600</td>\n",
       "      <td>30276</td>\n",
       "      <td>5929</td>\n",
       "    </tr>\n",
       "  </tbody>\n",
       "</table>\n",
       "</div>"
      ]
     },
     "execution_count": 11,
     "metadata": {},
     "output_type": "execute_result"
    }
   ],
   "execution_count": 11
  },
  {
   "metadata": {},
   "cell_type": "markdown",
   "source": [
    "## Counting Values in Each Column\n",
    "\n",
    "We will count the number of non-null values in each column."
   ],
   "id": "9ff4300db24f3038"
  },
  {
   "metadata": {
    "ExecuteTime": {
     "end_time": "2024-07-08T15:35:29.116663Z",
     "start_time": "2024-07-08T15:35:29.100444Z"
    }
   },
   "cell_type": "code",
   "source": [
    "# Count the number of non-null values in each column\n",
    "values_count = patients_df.count()\n",
    "\n",
    "# Display the count of non-null values in each column\n",
    "values_count"
   ],
   "id": "2f2fb23514745aac",
   "outputs": [
    {
     "data": {
      "text/plain": [
       "Age       10\n",
       "Height    10\n",
       "Weight    10\n",
       "dtype: int64"
      ]
     },
     "execution_count": 12,
     "metadata": {},
     "output_type": "execute_result"
    }
   ],
   "execution_count": 12
  },
  {
   "metadata": {},
   "cell_type": "markdown",
   "source": [
    "## String Methods\n",
    "\n",
    "We will demonstrate string operations using the `str` attribute."
   ],
   "id": "59ce0c8c8cac204e"
  },
  {
   "metadata": {},
   "cell_type": "markdown",
   "source": [
    "### Converting Strings to Lowercase\n",
    "\n",
    "We will create a Series with course names and convert them to lowercase.\n"
   ],
   "id": "e38673bbc52244c4"
  },
  {
   "metadata": {
    "ExecuteTime": {
     "end_time": "2024-07-08T15:37:31.229661Z",
     "start_time": "2024-07-08T15:37:31.219416Z"
    }
   },
   "cell_type": "code",
   "source": [
    "# Create a Series with course names\n",
    "course_df = pd.Series(['Java', 'Python', 'JavaScript'], index=[1, 2, 3])\n",
    "\n",
    "# Convert the strings to lowercase\n",
    "lower_case = course_df.str.lower()\n",
    "\n",
    "# Display the lowercase Series\n",
    "lower_case"
   ],
   "id": "4d70412ce5e88a8",
   "outputs": [
    {
     "data": {
      "text/plain": [
       "1          java\n",
       "2        python\n",
       "3    javascript\n",
       "dtype: object"
      ]
     },
     "execution_count": 13,
     "metadata": {},
     "output_type": "execute_result"
    }
   ],
   "execution_count": 13
  },
  {
   "metadata": {},
   "cell_type": "code",
   "outputs": [],
   "execution_count": null,
   "source": "",
   "id": "277448752c34729"
  }
 ],
 "metadata": {
  "kernelspec": {
   "display_name": "Python 3",
   "language": "python",
   "name": "python3"
  },
  "language_info": {
   "codemirror_mode": {
    "name": "ipython",
    "version": 2
   },
   "file_extension": ".py",
   "mimetype": "text/x-python",
   "name": "python",
   "nbconvert_exporter": "python",
   "pygments_lexer": "ipython2",
   "version": "2.7.6"
  }
 },
 "nbformat": 4,
 "nbformat_minor": 5
}
