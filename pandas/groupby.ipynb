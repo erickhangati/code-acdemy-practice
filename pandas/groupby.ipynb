{
 "cells": [
  {
   "metadata": {},
   "cell_type": "markdown",
   "source": [
    "# Grouping Operations in Pandas\n",
    "\n",
    "This notebook demonstrates various grouping operations in Pandas, including grouping by a single column, using multiple aggregation functions, and grouping by multiple columns."
   ],
   "id": "67b8ed4db0d29654"
  },
  {
   "metadata": {
    "ExecuteTime": {
     "end_time": "2024-07-09T14:18:25.381834Z",
     "start_time": "2024-07-09T14:18:25.377362Z"
    }
   },
   "cell_type": "code",
   "source": "import pandas as pd",
   "id": "9585cb0e2f1398a5",
   "outputs": [],
   "execution_count": 7
  },
  {
   "metadata": {},
   "cell_type": "markdown",
   "source": [
    "## Creating a DataFrame for Employee Data\n",
    "\n",
    "We will create a DataFrame to represent employee data, including names, genders, departments, locations, and salaries."
   ],
   "id": "44cb2a3ae9864ca9"
  },
  {
   "metadata": {
    "ExecuteTime": {
     "end_time": "2024-07-09T14:18:25.401924Z",
     "start_time": "2024-07-09T14:18:25.392032Z"
    }
   },
   "cell_type": "code",
   "source": [
    "# Create a dictionary with employee data\n",
    "employees_df = pd.DataFrame({\n",
    "    'Name': ['Eric', 'Ivy', 'Jude', 'Jane', 'Jesse'],\n",
    "    'Gender': ['Male', 'Female', 'Male', 'Female', 'Female'],\n",
    "    'Department': ['IT', 'Finance', 'IT', 'Finance', 'IT'],\n",
    "    'Location': ['Nairobi', 'Nakuru', 'Nairobi', 'Nakuru', 'Mombasa'],\n",
    "    'Salary': [50000, 60000, 55000, 62000, 58000]\n",
    "})\n",
    "\n",
    "# Display the DataFrame\n",
    "employees_df"
   ],
   "id": "d2c06e91e06a5a5d",
   "outputs": [
    {
     "data": {
      "text/plain": [
       "    Name  Gender Department Location  Salary\n",
       "0   Eric    Male         IT  Nairobi   50000\n",
       "1    Ivy  Female    Finance   Nakuru   60000\n",
       "2   Jude    Male         IT  Nairobi   55000\n",
       "3   Jane  Female    Finance   Nakuru   62000\n",
       "4  Jesse  Female         IT  Mombasa   58000"
      ],
      "text/html": [
       "<div>\n",
       "<style scoped>\n",
       "    .dataframe tbody tr th:only-of-type {\n",
       "        vertical-align: middle;\n",
       "    }\n",
       "\n",
       "    .dataframe tbody tr th {\n",
       "        vertical-align: top;\n",
       "    }\n",
       "\n",
       "    .dataframe thead th {\n",
       "        text-align: right;\n",
       "    }\n",
       "</style>\n",
       "<table border=\"1\" class=\"dataframe\">\n",
       "  <thead>\n",
       "    <tr style=\"text-align: right;\">\n",
       "      <th></th>\n",
       "      <th>Name</th>\n",
       "      <th>Gender</th>\n",
       "      <th>Department</th>\n",
       "      <th>Location</th>\n",
       "      <th>Salary</th>\n",
       "    </tr>\n",
       "  </thead>\n",
       "  <tbody>\n",
       "    <tr>\n",
       "      <th>0</th>\n",
       "      <td>Eric</td>\n",
       "      <td>Male</td>\n",
       "      <td>IT</td>\n",
       "      <td>Nairobi</td>\n",
       "      <td>50000</td>\n",
       "    </tr>\n",
       "    <tr>\n",
       "      <th>1</th>\n",
       "      <td>Ivy</td>\n",
       "      <td>Female</td>\n",
       "      <td>Finance</td>\n",
       "      <td>Nakuru</td>\n",
       "      <td>60000</td>\n",
       "    </tr>\n",
       "    <tr>\n",
       "      <th>2</th>\n",
       "      <td>Jude</td>\n",
       "      <td>Male</td>\n",
       "      <td>IT</td>\n",
       "      <td>Nairobi</td>\n",
       "      <td>55000</td>\n",
       "    </tr>\n",
       "    <tr>\n",
       "      <th>3</th>\n",
       "      <td>Jane</td>\n",
       "      <td>Female</td>\n",
       "      <td>Finance</td>\n",
       "      <td>Nakuru</td>\n",
       "      <td>62000</td>\n",
       "    </tr>\n",
       "    <tr>\n",
       "      <th>4</th>\n",
       "      <td>Jesse</td>\n",
       "      <td>Female</td>\n",
       "      <td>IT</td>\n",
       "      <td>Mombasa</td>\n",
       "      <td>58000</td>\n",
       "    </tr>\n",
       "  </tbody>\n",
       "</table>\n",
       "</div>"
      ]
     },
     "execution_count": 8,
     "metadata": {},
     "output_type": "execute_result"
    }
   ],
   "execution_count": 8
  },
  {
   "metadata": {},
   "cell_type": "markdown",
   "source": [
    "## Grouping by Gender and Summing the Salaries\n",
    "\n",
    "We will group the data by the 'Gender' column and sum the salaries."
   ],
   "id": "10b2ffe35fac9e2f"
  },
  {
   "metadata": {
    "ExecuteTime": {
     "end_time": "2024-07-09T14:18:25.411223Z",
     "start_time": "2024-07-09T14:18:25.404094Z"
    }
   },
   "cell_type": "code",
   "source": [
    "# Group by gender and sum the salaries\n",
    "grouped_gender = employees_df.groupby('Gender')['Salary'].sum()\n",
    "\n",
    "# Display the grouped data\n",
    "grouped_gender"
   ],
   "id": "8b6254bce588e908",
   "outputs": [
    {
     "data": {
      "text/plain": [
       "Gender\n",
       "Female    180000\n",
       "Male      105000\n",
       "Name: Salary, dtype: int64"
      ]
     },
     "execution_count": 9,
     "metadata": {},
     "output_type": "execute_result"
    }
   ],
   "execution_count": 9
  },
  {
   "metadata": {},
   "cell_type": "markdown",
   "source": [
    "## Grouping by Department and Calculating the Mean Salary\n",
    "\n",
    "We will group the data by the 'Department' column and calculate the mean salary."
   ],
   "id": "df5716080885fa92"
  },
  {
   "metadata": {
    "ExecuteTime": {
     "end_time": "2024-07-09T14:18:25.420988Z",
     "start_time": "2024-07-09T14:18:25.412235Z"
    }
   },
   "cell_type": "code",
   "source": [
    "# Group by 'Department' and calculate the mean 'Salary'\n",
    "grouped_department = employees_df.groupby('Department')['Salary'].mean()\n",
    "\n",
    "# Display the grouped data\n",
    "grouped_department"
   ],
   "id": "5061e0abb39e913a",
   "outputs": [
    {
     "data": {
      "text/plain": [
       "Department\n",
       "Finance    61000.000000\n",
       "IT         54333.333333\n",
       "Name: Salary, dtype: float64"
      ]
     },
     "execution_count": 10,
     "metadata": {},
     "output_type": "execute_result"
    }
   ],
   "execution_count": 10
  },
  {
   "metadata": {},
   "cell_type": "markdown",
   "source": [
    "## Using Multiple Aggregation Functions\n",
    "\n",
    "We will use multiple aggregation functions on the grouped data using the `agg` method. This allows us to calculate multiple statistics for the 'Salary' column."
   ],
   "id": "ece5484e623fff5e"
  },
  {
   "metadata": {
    "ExecuteTime": {
     "end_time": "2024-07-09T14:18:25.433585Z",
     "start_time": "2024-07-09T14:18:25.422989Z"
    }
   },
   "cell_type": "code",
   "source": [
    "# Group by 'Department' and calculate multiple statistics for 'Salary'\n",
    "grouped_department_statistics = employees_df.groupby('Department')['Salary'].agg(['sum', 'mean', 'count'])\n",
    "\n",
    "# Display the grouped data with multiple statistics\n",
    "grouped_department_statistics"
   ],
   "id": "ac6abc55e6da3819",
   "outputs": [
    {
     "data": {
      "text/plain": [
       "               sum          mean  count\n",
       "Department                             \n",
       "Finance     122000  61000.000000      2\n",
       "IT          163000  54333.333333      3"
      ],
      "text/html": [
       "<div>\n",
       "<style scoped>\n",
       "    .dataframe tbody tr th:only-of-type {\n",
       "        vertical-align: middle;\n",
       "    }\n",
       "\n",
       "    .dataframe tbody tr th {\n",
       "        vertical-align: top;\n",
       "    }\n",
       "\n",
       "    .dataframe thead th {\n",
       "        text-align: right;\n",
       "    }\n",
       "</style>\n",
       "<table border=\"1\" class=\"dataframe\">\n",
       "  <thead>\n",
       "    <tr style=\"text-align: right;\">\n",
       "      <th></th>\n",
       "      <th>sum</th>\n",
       "      <th>mean</th>\n",
       "      <th>count</th>\n",
       "    </tr>\n",
       "    <tr>\n",
       "      <th>Department</th>\n",
       "      <th></th>\n",
       "      <th></th>\n",
       "      <th></th>\n",
       "    </tr>\n",
       "  </thead>\n",
       "  <tbody>\n",
       "    <tr>\n",
       "      <th>Finance</th>\n",
       "      <td>122000</td>\n",
       "      <td>61000.000000</td>\n",
       "      <td>2</td>\n",
       "    </tr>\n",
       "    <tr>\n",
       "      <th>IT</th>\n",
       "      <td>163000</td>\n",
       "      <td>54333.333333</td>\n",
       "      <td>3</td>\n",
       "    </tr>\n",
       "  </tbody>\n",
       "</table>\n",
       "</div>"
      ]
     },
     "execution_count": 11,
     "metadata": {},
     "output_type": "execute_result"
    }
   ],
   "execution_count": 11
  },
  {
   "metadata": {},
   "cell_type": "markdown",
   "source": [
    "## Grouping by Multiple Columns\n",
    "\n",
    "We will group the data by both 'Department' and 'Location' columns and calculate the mean salary."
   ],
   "id": "8ed45e09d2f68396"
  },
  {
   "metadata": {
    "ExecuteTime": {
     "end_time": "2024-07-09T14:17:18.565457Z",
     "start_time": "2024-07-09T14:17:18.557901Z"
    }
   },
   "cell_type": "code",
   "source": [
    "# Grouping by multiple columns and calculating the mean salary\n",
    "grouped_multiple = employees_df.groupby(['Department', 'Location'])['Salary'].mean()\n",
    "\n",
    "# Display the grouped data\n",
    "grouped_multiple"
   ],
   "id": "b163baf227d3625d",
   "outputs": [
    {
     "data": {
      "text/plain": [
       "Department  Location\n",
       "Finance     Nakuru      61000.0\n",
       "IT          Mombasa     58000.0\n",
       "            Nairobi     52500.0\n",
       "Name: Salary, dtype: float64"
      ]
     },
     "execution_count": 6,
     "metadata": {},
     "output_type": "execute_result"
    }
   ],
   "execution_count": 6
  }
 ],
 "metadata": {
  "kernelspec": {
   "display_name": "Python 3",
   "language": "python",
   "name": "python3"
  },
  "language_info": {
   "codemirror_mode": {
    "name": "ipython",
    "version": 2
   },
   "file_extension": ".py",
   "mimetype": "text/x-python",
   "name": "python",
   "nbconvert_exporter": "python",
   "pygments_lexer": "ipython2",
   "version": "2.7.6"
  }
 },
 "nbformat": 4,
 "nbformat_minor": 5
}
