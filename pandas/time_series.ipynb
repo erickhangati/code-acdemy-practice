{
 "cells": [
  {
   "metadata": {},
   "cell_type": "markdown",
   "source": [
    "# Time Series Data in Pandas\n",
    "\n",
    "This notebook demonstrates various operations for handling time series data in Pandas, including creating time series, resampling, time shifting, rolling statistics, and plotting."
   ],
   "id": "c3574440074b42b5"
  },
  {
   "metadata": {
    "ExecuteTime": {
     "end_time": "2024-07-10T04:54:38.476114Z",
     "start_time": "2024-07-10T04:54:38.459443Z"
    }
   },
   "cell_type": "code",
   "source": [
    "import numpy as np\n",
    "import pandas as pd\n",
    "import matplotlib.pyplot as plt"
   ],
   "id": "a985a60f148bcfdf",
   "outputs": [],
   "execution_count": 7
  },
  {
   "metadata": {},
   "cell_type": "markdown",
   "source": [
    "## Creating a Time Series\n",
    "\n",
    "We will create a time series by setting the index of a DataFrame to a datetime index."
   ],
   "id": "6a5a05cedcb6f3f1"
  },
  {
   "metadata": {
    "ExecuteTime": {
     "end_time": "2024-07-10T04:54:38.512025Z",
     "start_time": "2024-07-10T04:54:38.491120Z"
    }
   },
   "cell_type": "code",
   "source": [
    "# Generate a date range\n",
    "date_range = pd.date_range(start='2021-01-01', periods=10, freq='D')\n",
    "\n",
    "# Create a DataFrame with the date range as the index\n",
    "data = {\n",
    "    'Sales': np.random.randint(100, 200, size=len(date_range))\n",
    "}\n",
    "\n",
    "df = pd.DataFrame(data, index=date_range)\n",
    "\n",
    "# Display the DataFrame\n",
    "df"
   ],
   "id": "d3f28cd876f51740",
   "outputs": [
    {
     "data": {
      "text/plain": [
       "            Sales\n",
       "2021-01-01    113\n",
       "2021-01-02    182\n",
       "2021-01-03    164\n",
       "2021-01-04    104\n",
       "2021-01-05    112\n",
       "2021-01-06    103\n",
       "2021-01-07    163\n",
       "2021-01-08    100\n",
       "2021-01-09    177\n",
       "2021-01-10    173"
      ],
      "text/html": [
       "<div>\n",
       "<style scoped>\n",
       "    .dataframe tbody tr th:only-of-type {\n",
       "        vertical-align: middle;\n",
       "    }\n",
       "\n",
       "    .dataframe tbody tr th {\n",
       "        vertical-align: top;\n",
       "    }\n",
       "\n",
       "    .dataframe thead th {\n",
       "        text-align: right;\n",
       "    }\n",
       "</style>\n",
       "<table border=\"1\" class=\"dataframe\">\n",
       "  <thead>\n",
       "    <tr style=\"text-align: right;\">\n",
       "      <th></th>\n",
       "      <th>Sales</th>\n",
       "    </tr>\n",
       "  </thead>\n",
       "  <tbody>\n",
       "    <tr>\n",
       "      <th>2021-01-01</th>\n",
       "      <td>113</td>\n",
       "    </tr>\n",
       "    <tr>\n",
       "      <th>2021-01-02</th>\n",
       "      <td>182</td>\n",
       "    </tr>\n",
       "    <tr>\n",
       "      <th>2021-01-03</th>\n",
       "      <td>164</td>\n",
       "    </tr>\n",
       "    <tr>\n",
       "      <th>2021-01-04</th>\n",
       "      <td>104</td>\n",
       "    </tr>\n",
       "    <tr>\n",
       "      <th>2021-01-05</th>\n",
       "      <td>112</td>\n",
       "    </tr>\n",
       "    <tr>\n",
       "      <th>2021-01-06</th>\n",
       "      <td>103</td>\n",
       "    </tr>\n",
       "    <tr>\n",
       "      <th>2021-01-07</th>\n",
       "      <td>163</td>\n",
       "    </tr>\n",
       "    <tr>\n",
       "      <th>2021-01-08</th>\n",
       "      <td>100</td>\n",
       "    </tr>\n",
       "    <tr>\n",
       "      <th>2021-01-09</th>\n",
       "      <td>177</td>\n",
       "    </tr>\n",
       "    <tr>\n",
       "      <th>2021-01-10</th>\n",
       "      <td>173</td>\n",
       "    </tr>\n",
       "  </tbody>\n",
       "</table>\n",
       "</div>"
      ]
     },
     "execution_count": 8,
     "metadata": {},
     "output_type": "execute_result"
    }
   ],
   "execution_count": 8
  },
  {
   "metadata": {},
   "cell_type": "markdown",
   "source": [
    "## Resampling the Data\n",
    "\n",
    "We will resample the data to monthly frequency and sum the values."
   ],
   "id": "3330bab2c05d6212"
  },
  {
   "metadata": {
    "ExecuteTime": {
     "end_time": "2024-07-10T04:54:38.524191Z",
     "start_time": "2024-07-10T04:54:38.512025Z"
    }
   },
   "cell_type": "code",
   "source": [
    "# Resample the data to monthly frequency and sum the values\n",
    "monthly_resampled = df.resample('M').sum()\n",
    "\n",
    "# Display the resampled DataFrame\n",
    "monthly_resampled"
   ],
   "id": "bb337d12905902ee",
   "outputs": [
    {
     "data": {
      "text/plain": [
       "            Sales\n",
       "2021-01-31   1391"
      ],
      "text/html": [
       "<div>\n",
       "<style scoped>\n",
       "    .dataframe tbody tr th:only-of-type {\n",
       "        vertical-align: middle;\n",
       "    }\n",
       "\n",
       "    .dataframe tbody tr th {\n",
       "        vertical-align: top;\n",
       "    }\n",
       "\n",
       "    .dataframe thead th {\n",
       "        text-align: right;\n",
       "    }\n",
       "</style>\n",
       "<table border=\"1\" class=\"dataframe\">\n",
       "  <thead>\n",
       "    <tr style=\"text-align: right;\">\n",
       "      <th></th>\n",
       "      <th>Sales</th>\n",
       "    </tr>\n",
       "  </thead>\n",
       "  <tbody>\n",
       "    <tr>\n",
       "      <th>2021-01-31</th>\n",
       "      <td>1391</td>\n",
       "    </tr>\n",
       "  </tbody>\n",
       "</table>\n",
       "</div>"
      ]
     },
     "execution_count": 9,
     "metadata": {},
     "output_type": "execute_result"
    }
   ],
   "execution_count": 9
  },
  {
   "metadata": {},
   "cell_type": "markdown",
   "source": [
    "## Time Shifting\n",
    "\n",
    "We will move the data forward by 2 periods."
   ],
   "id": "fbb3471798bb7dc0"
  },
  {
   "metadata": {
    "ExecuteTime": {
     "end_time": "2024-07-10T04:54:38.549644Z",
     "start_time": "2024-07-10T04:54:38.538231Z"
    }
   },
   "cell_type": "code",
   "source": [
    "# Shift the data forward by 2 periods\n",
    "shifted_forward = df.shift(2)\n",
    "\n",
    "# Display the shifted DataFrame\n",
    "shifted_forward"
   ],
   "id": "8164e983f8afcac6",
   "outputs": [
    {
     "data": {
      "text/plain": [
       "            Sales\n",
       "2021-01-01    NaN\n",
       "2021-01-02    NaN\n",
       "2021-01-03  113.0\n",
       "2021-01-04  182.0\n",
       "2021-01-05  164.0\n",
       "2021-01-06  104.0\n",
       "2021-01-07  112.0\n",
       "2021-01-08  103.0\n",
       "2021-01-09  163.0\n",
       "2021-01-10  100.0"
      ],
      "text/html": [
       "<div>\n",
       "<style scoped>\n",
       "    .dataframe tbody tr th:only-of-type {\n",
       "        vertical-align: middle;\n",
       "    }\n",
       "\n",
       "    .dataframe tbody tr th {\n",
       "        vertical-align: top;\n",
       "    }\n",
       "\n",
       "    .dataframe thead th {\n",
       "        text-align: right;\n",
       "    }\n",
       "</style>\n",
       "<table border=\"1\" class=\"dataframe\">\n",
       "  <thead>\n",
       "    <tr style=\"text-align: right;\">\n",
       "      <th></th>\n",
       "      <th>Sales</th>\n",
       "    </tr>\n",
       "  </thead>\n",
       "  <tbody>\n",
       "    <tr>\n",
       "      <th>2021-01-01</th>\n",
       "      <td>NaN</td>\n",
       "    </tr>\n",
       "    <tr>\n",
       "      <th>2021-01-02</th>\n",
       "      <td>NaN</td>\n",
       "    </tr>\n",
       "    <tr>\n",
       "      <th>2021-01-03</th>\n",
       "      <td>113.0</td>\n",
       "    </tr>\n",
       "    <tr>\n",
       "      <th>2021-01-04</th>\n",
       "      <td>182.0</td>\n",
       "    </tr>\n",
       "    <tr>\n",
       "      <th>2021-01-05</th>\n",
       "      <td>164.0</td>\n",
       "    </tr>\n",
       "    <tr>\n",
       "      <th>2021-01-06</th>\n",
       "      <td>104.0</td>\n",
       "    </tr>\n",
       "    <tr>\n",
       "      <th>2021-01-07</th>\n",
       "      <td>112.0</td>\n",
       "    </tr>\n",
       "    <tr>\n",
       "      <th>2021-01-08</th>\n",
       "      <td>103.0</td>\n",
       "    </tr>\n",
       "    <tr>\n",
       "      <th>2021-01-09</th>\n",
       "      <td>163.0</td>\n",
       "    </tr>\n",
       "    <tr>\n",
       "      <th>2021-01-10</th>\n",
       "      <td>100.0</td>\n",
       "    </tr>\n",
       "  </tbody>\n",
       "</table>\n",
       "</div>"
      ]
     },
     "execution_count": 10,
     "metadata": {},
     "output_type": "execute_result"
    }
   ],
   "execution_count": 10
  },
  {
   "metadata": {},
   "cell_type": "markdown",
   "source": [
    "## Rolling Statistics\n",
    "\n",
    "We will calculate the rolling mean over a window of 3 periods."
   ],
   "id": "2ead2779020675d3"
  },
  {
   "metadata": {
    "ExecuteTime": {
     "end_time": "2024-07-10T04:54:38.583231Z",
     "start_time": "2024-07-10T04:54:38.570384Z"
    }
   },
   "cell_type": "code",
   "source": [
    "# Calculate the rolling mean over a window of 3 periods\n",
    "rolling_mean = df.rolling(window=3).mean()\n",
    "\n",
    "# Display the DataFrame with rolling mean\n",
    "rolling_mean"
   ],
   "id": "8b0f59ff188bbb79",
   "outputs": [
    {
     "data": {
      "text/plain": [
       "                 Sales\n",
       "2021-01-01         NaN\n",
       "2021-01-02         NaN\n",
       "2021-01-03  153.000000\n",
       "2021-01-04  150.000000\n",
       "2021-01-05  126.666667\n",
       "2021-01-06  106.333333\n",
       "2021-01-07  126.000000\n",
       "2021-01-08  122.000000\n",
       "2021-01-09  146.666667\n",
       "2021-01-10  150.000000"
      ],
      "text/html": [
       "<div>\n",
       "<style scoped>\n",
       "    .dataframe tbody tr th:only-of-type {\n",
       "        vertical-align: middle;\n",
       "    }\n",
       "\n",
       "    .dataframe tbody tr th {\n",
       "        vertical-align: top;\n",
       "    }\n",
       "\n",
       "    .dataframe thead th {\n",
       "        text-align: right;\n",
       "    }\n",
       "</style>\n",
       "<table border=\"1\" class=\"dataframe\">\n",
       "  <thead>\n",
       "    <tr style=\"text-align: right;\">\n",
       "      <th></th>\n",
       "      <th>Sales</th>\n",
       "    </tr>\n",
       "  </thead>\n",
       "  <tbody>\n",
       "    <tr>\n",
       "      <th>2021-01-01</th>\n",
       "      <td>NaN</td>\n",
       "    </tr>\n",
       "    <tr>\n",
       "      <th>2021-01-02</th>\n",
       "      <td>NaN</td>\n",
       "    </tr>\n",
       "    <tr>\n",
       "      <th>2021-01-03</th>\n",
       "      <td>153.000000</td>\n",
       "    </tr>\n",
       "    <tr>\n",
       "      <th>2021-01-04</th>\n",
       "      <td>150.000000</td>\n",
       "    </tr>\n",
       "    <tr>\n",
       "      <th>2021-01-05</th>\n",
       "      <td>126.666667</td>\n",
       "    </tr>\n",
       "    <tr>\n",
       "      <th>2021-01-06</th>\n",
       "      <td>106.333333</td>\n",
       "    </tr>\n",
       "    <tr>\n",
       "      <th>2021-01-07</th>\n",
       "      <td>126.000000</td>\n",
       "    </tr>\n",
       "    <tr>\n",
       "      <th>2021-01-08</th>\n",
       "      <td>122.000000</td>\n",
       "    </tr>\n",
       "    <tr>\n",
       "      <th>2021-01-09</th>\n",
       "      <td>146.666667</td>\n",
       "    </tr>\n",
       "    <tr>\n",
       "      <th>2021-01-10</th>\n",
       "      <td>150.000000</td>\n",
       "    </tr>\n",
       "  </tbody>\n",
       "</table>\n",
       "</div>"
      ]
     },
     "execution_count": 11,
     "metadata": {},
     "output_type": "execute_result"
    }
   ],
   "execution_count": 11
  },
  {
   "metadata": {},
   "cell_type": "markdown",
   "source": [
    "## Time Series Plotting\n",
    "\n",
    "We will plot the time series data using pandas' built-in plotting capabilities."
   ],
   "id": "7b094b93b09aac33"
  },
  {
   "metadata": {
    "ExecuteTime": {
     "end_time": "2024-07-10T04:54:18.017998Z",
     "start_time": "2024-07-10T04:54:17.811380Z"
    }
   },
   "cell_type": "code",
   "source": [
    "# Plot the time series data\n",
    "df.plot()\n",
    "plt.title('Sales Over Time')\n",
    "plt.xlabel('Date')\n",
    "plt.ylabel('Sales')\n",
    "plt.show()"
   ],
   "id": "8977b6f76b81db2",
   "outputs": [
    {
     "data": {
      "text/plain": [
       "<Figure size 640x480 with 1 Axes>"
      ],
      "image/png": "[encoded data removed]"
     },
     "metadata": {},
     "output_type": "display_data"
    }
   ],
   "execution_count": 6
  }
 ],
 "metadata": {
  "kernelspec": {
   "display_name": "Python 3",
   "language": "python",
   "name": "python3"
  },
  "language_info": {
   "codemirror_mode": {
    "name": "ipython",
    "version": 2
   },
   "file_extension": ".py",
   "mimetype": "text/x-python",
   "name": "python",
   "nbconvert_exporter": "python",
   "pygments_lexer": "ipython2",
   "version": "2.7.6"
  }
 },
 "nbformat": 4,
 "nbformat_minor": 5
}
