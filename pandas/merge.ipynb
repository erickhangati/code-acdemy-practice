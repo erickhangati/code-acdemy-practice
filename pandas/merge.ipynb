{
 "cells": [
  {
   "metadata": {},
   "cell_type": "markdown",
   "source": [
    "# Merge: \n",
    "These are methods for combining and comparing Series or DataFrame objects.\n",
    "\n",
    "## 1. Concat\n",
    "\n",
    "Concatenating merges multiple Series or DataFrame objects along a shared index or column.\n",
    "\n",
    "### Concatenating Along Rows (Stacking on Top)\n",
    "\n",
    "Two lists of students from different classes, and you want to combine them into one big list."
   ],
   "id": "4ccc62b8e5e9c3fe"
  },
  {
   "metadata": {
    "ExecuteTime": {
     "end_time": "2024-07-09T05:33:17.443681Z",
     "start_time": "2024-07-09T05:33:17.433122Z"
    }
   },
   "cell_type": "code",
   "source": [
    "import pandas as pd\n",
    "\n",
    "data1 = pd.DataFrame({\n",
    "    'Name': ['Eric', 'Ivy'],\n",
    "    'Age': [40, 37]\n",
    "})\n",
    "\n",
    "data2 = pd.DataFrame({\n",
    "    'Name': ['Jane', 'Jude'],\n",
    "    'Age': [10, 7]\n",
    "})\n",
    "\n",
    "# Concatenate along rows\n",
    "concat_rows = pd.concat([data1, data2], axis=0)\n",
    "concat_rows"
   ],
   "id": "5b8005350a336bcb",
   "outputs": [
    {
     "data": {
      "text/plain": [
       "   Name  Age\n",
       "0  Eric   40\n",
       "1   Ivy   37\n",
       "0  Jane   10\n",
       "1  Jude    7"
      ],
      "text/html": [
       "<div>\n",
       "<style scoped>\n",
       "    .dataframe tbody tr th:only-of-type {\n",
       "        vertical-align: middle;\n",
       "    }\n",
       "\n",
       "    .dataframe tbody tr th {\n",
       "        vertical-align: top;\n",
       "    }\n",
       "\n",
       "    .dataframe thead th {\n",
       "        text-align: right;\n",
       "    }\n",
       "</style>\n",
       "<table border=\"1\" class=\"dataframe\">\n",
       "  <thead>\n",
       "    <tr style=\"text-align: right;\">\n",
       "      <th></th>\n",
       "      <th>Name</th>\n",
       "      <th>Age</th>\n",
       "    </tr>\n",
       "  </thead>\n",
       "  <tbody>\n",
       "    <tr>\n",
       "      <th>0</th>\n",
       "      <td>Eric</td>\n",
       "      <td>40</td>\n",
       "    </tr>\n",
       "    <tr>\n",
       "      <th>1</th>\n",
       "      <td>Ivy</td>\n",
       "      <td>37</td>\n",
       "    </tr>\n",
       "    <tr>\n",
       "      <th>0</th>\n",
       "      <td>Jane</td>\n",
       "      <td>10</td>\n",
       "    </tr>\n",
       "    <tr>\n",
       "      <th>1</th>\n",
       "      <td>Jude</td>\n",
       "      <td>7</td>\n",
       "    </tr>\n",
       "  </tbody>\n",
       "</table>\n",
       "</div>"
      ]
     },
     "execution_count": 13,
     "metadata": {},
     "output_type": "execute_result"
    }
   ],
   "execution_count": 13
  },
  {
   "metadata": {},
   "cell_type": "markdown",
   "source": [
    "### Concatenating Along Columns (Placing Side by Side)\n",
    "\n",
    "List of student names and another list of their grades, and you want to combine them side by side.\n"
   ],
   "id": "1b727892b5be7c7"
  },
  {
   "metadata": {
    "ExecuteTime": {
     "end_time": "2024-07-09T05:33:17.496745Z",
     "start_time": "2024-07-09T05:33:17.487744Z"
    }
   },
   "cell_type": "code",
   "source": [
    "names_df = pd.DataFrame({\n",
    "    'Name': ['Eric', 'Ivy', 'Jane', 'Jude']\n",
    "})\n",
    "\n",
    "age_df = pd.DataFrame({\n",
    "    'Age': [40, 37, 10, 7]\n",
    "})\n",
    "\n",
    "concat_columns = pd.concat([names_df, age_df], axis=1)\n",
    "concat_columns"
   ],
   "id": "2e7a02101162171",
   "outputs": [
    {
     "data": {
      "text/plain": [
       "   Name  Age\n",
       "0  Eric   40\n",
       "1   Ivy   37\n",
       "2  Jane   10\n",
       "3  Jude    7"
      ],
      "text/html": [
       "<div>\n",
       "<style scoped>\n",
       "    .dataframe tbody tr th:only-of-type {\n",
       "        vertical-align: middle;\n",
       "    }\n",
       "\n",
       "    .dataframe tbody tr th {\n",
       "        vertical-align: top;\n",
       "    }\n",
       "\n",
       "    .dataframe thead th {\n",
       "        text-align: right;\n",
       "    }\n",
       "</style>\n",
       "<table border=\"1\" class=\"dataframe\">\n",
       "  <thead>\n",
       "    <tr style=\"text-align: right;\">\n",
       "      <th></th>\n",
       "      <th>Name</th>\n",
       "      <th>Age</th>\n",
       "    </tr>\n",
       "  </thead>\n",
       "  <tbody>\n",
       "    <tr>\n",
       "      <th>0</th>\n",
       "      <td>Eric</td>\n",
       "      <td>40</td>\n",
       "    </tr>\n",
       "    <tr>\n",
       "      <th>1</th>\n",
       "      <td>Ivy</td>\n",
       "      <td>37</td>\n",
       "    </tr>\n",
       "    <tr>\n",
       "      <th>2</th>\n",
       "      <td>Jane</td>\n",
       "      <td>10</td>\n",
       "    </tr>\n",
       "    <tr>\n",
       "      <th>3</th>\n",
       "      <td>Jude</td>\n",
       "      <td>7</td>\n",
       "    </tr>\n",
       "  </tbody>\n",
       "</table>\n",
       "</div>"
      ]
     },
     "execution_count": 14,
     "metadata": {},
     "output_type": "execute_result"
    }
   ],
   "execution_count": 14
  },
  {
   "metadata": {},
   "cell_type": "markdown",
   "source": [
    "## 2. Join\n",
    "\n",
    "The join function in pandas is used to combine two DataFrames based on their indexes or a common column. It is particularly useful for merging DataFrames with different columns but the same index or key.\n",
    "\n",
    "### Joining on Index\n",
    "\n",
    "Imagine you have two DataFrames: one with student names and ages, and another with their grades. You want to combine these DataFrames based on their indexes."
   ],
   "id": "a83626d11d148c30"
  },
  {
   "metadata": {
    "ExecuteTime": {
     "end_time": "2024-07-09T05:33:17.524413Z",
     "start_time": "2024-07-09T05:33:17.511649Z"
    }
   },
   "cell_type": "code",
   "source": [
    "students1 = pd.DataFrame({\n",
    "    'Name': ['Eric', 'Ivy'],\n",
    "    'Age': [40, 37]\n",
    "}, index=[1, 2])\n",
    "\n",
    "grades1 = pd.DataFrame({\n",
    "    'Grade': [97, 92]\n",
    "}, index=[1, 2])\n",
    "\n",
    "joined_index = students1.join(grades1)\n",
    "joined_index"
   ],
   "id": "7300277fb7dd320",
   "outputs": [
    {
     "data": {
      "text/plain": [
       "   Name  Age  Grade\n",
       "1  Eric   40     97\n",
       "2   Ivy   37     92"
      ],
      "text/html": [
       "<div>\n",
       "<style scoped>\n",
       "    .dataframe tbody tr th:only-of-type {\n",
       "        vertical-align: middle;\n",
       "    }\n",
       "\n",
       "    .dataframe tbody tr th {\n",
       "        vertical-align: top;\n",
       "    }\n",
       "\n",
       "    .dataframe thead th {\n",
       "        text-align: right;\n",
       "    }\n",
       "</style>\n",
       "<table border=\"1\" class=\"dataframe\">\n",
       "  <thead>\n",
       "    <tr style=\"text-align: right;\">\n",
       "      <th></th>\n",
       "      <th>Name</th>\n",
       "      <th>Age</th>\n",
       "      <th>Grade</th>\n",
       "    </tr>\n",
       "  </thead>\n",
       "  <tbody>\n",
       "    <tr>\n",
       "      <th>1</th>\n",
       "      <td>Eric</td>\n",
       "      <td>40</td>\n",
       "      <td>97</td>\n",
       "    </tr>\n",
       "    <tr>\n",
       "      <th>2</th>\n",
       "      <td>Ivy</td>\n",
       "      <td>37</td>\n",
       "      <td>92</td>\n",
       "    </tr>\n",
       "  </tbody>\n",
       "</table>\n",
       "</div>"
      ]
     },
     "execution_count": 15,
     "metadata": {},
     "output_type": "execute_result"
    }
   ],
   "execution_count": 15
  },
  {
   "metadata": {},
   "cell_type": "markdown",
   "source": [
    "### Joining on a Common Column\n",
    "\n",
    "Imagine you have two DataFrames: one with student names and ages, and another with student names and their grades. You want to combine these DataFrames based on the student names."
   ],
   "id": "fbceb12cbecbc7a8"
  },
  {
   "metadata": {
    "ExecuteTime": {
     "end_time": "2024-07-09T05:33:17.563978Z",
     "start_time": "2024-07-09T05:33:17.554347Z"
    }
   },
   "cell_type": "code",
   "source": [
    "students2 = pd.DataFrame({\n",
    "    'Name': ['Eric', 'Ivy'],\n",
    "    'Age': [40, 37]\n",
    "})\n",
    "\n",
    "grades2 = pd.DataFrame({\n",
    "    'Name': ['Eric', 'Ivy'],\n",
    "    'Grade': [97, 92]\n",
    "})\n",
    "\n",
    "joined_column = students2.set_index('Name').join(grades2.set_index('Name'))\n",
    "joined_column"
   ],
   "id": "e7264b173c59cfbc",
   "outputs": [
    {
     "data": {
      "text/plain": [
       "      Age  Grade\n",
       "Name            \n",
       "Eric   40     97\n",
       "Ivy    37     92"
      ],
      "text/html": [
       "<div>\n",
       "<style scoped>\n",
       "    .dataframe tbody tr th:only-of-type {\n",
       "        vertical-align: middle;\n",
       "    }\n",
       "\n",
       "    .dataframe tbody tr th {\n",
       "        vertical-align: top;\n",
       "    }\n",
       "\n",
       "    .dataframe thead th {\n",
       "        text-align: right;\n",
       "    }\n",
       "</style>\n",
       "<table border=\"1\" class=\"dataframe\">\n",
       "  <thead>\n",
       "    <tr style=\"text-align: right;\">\n",
       "      <th></th>\n",
       "      <th>Age</th>\n",
       "      <th>Grade</th>\n",
       "    </tr>\n",
       "    <tr>\n",
       "      <th>Name</th>\n",
       "      <th></th>\n",
       "      <th></th>\n",
       "    </tr>\n",
       "  </thead>\n",
       "  <tbody>\n",
       "    <tr>\n",
       "      <th>Eric</th>\n",
       "      <td>40</td>\n",
       "      <td>97</td>\n",
       "    </tr>\n",
       "    <tr>\n",
       "      <th>Ivy</th>\n",
       "      <td>37</td>\n",
       "      <td>92</td>\n",
       "    </tr>\n",
       "  </tbody>\n",
       "</table>\n",
       "</div>"
      ]
     },
     "execution_count": 16,
     "metadata": {},
     "output_type": "execute_result"
    }
   ],
   "execution_count": 16
  },
  {
   "metadata": {},
   "cell_type": "markdown",
   "source": [
    "## Types of Joins\n",
    "\n",
    "- **Left Join**: Keeps all rows from the left DataFrame, and matches rows from the right DataFrame.\n",
    "- **Right Join**: Keeps all rows from the right DataFrame, and matches rows from the left DataFrame.\n",
    "- **Inner Join**: Keeps only the rows that have matching keys in both DataFrames.\n",
    "- **Outer Join**: Keeps all rows from both DataFrames, filling in missing values with NaNs where there are no matches.\n",
    "\n",
    "### Example: Different Types of Joins"
   ],
   "id": "bd5e0b69dd86c3d0"
  },
  {
   "metadata": {
    "ExecuteTime": {
     "end_time": "2024-07-09T05:33:17.624640Z",
     "start_time": "2024-07-09T05:33:17.620073Z"
    }
   },
   "cell_type": "code",
   "source": [
    "students3 = pd.DataFrame({\n",
    "    'Name': ['Eric', 'Ivy', 'Jude'],\n",
    "    'Age': [40, 37, 10]\n",
    "})\n",
    "\n",
    "grades3 = pd.DataFrame({\n",
    "    'Name': ['Jude', 'Jane'],\n",
    "    'Grade': [97, 92]\n",
    "})"
   ],
   "id": "78ab45d62655d5bf",
   "outputs": [],
   "execution_count": 17
  },
  {
   "metadata": {},
   "cell_type": "markdown",
   "source": "### Left Join:",
   "id": "6f588939c45cd1bb"
  },
  {
   "metadata": {
    "ExecuteTime": {
     "end_time": "2024-07-09T05:33:17.762264Z",
     "start_time": "2024-07-09T05:33:17.750758Z"
    }
   },
   "cell_type": "code",
   "source": [
    "left_join = students3.set_index('Name').join(grades3.set_index('Name'), how='left')\n",
    "left_join"
   ],
   "id": "6b9be662ee64f3cd",
   "outputs": [
    {
     "data": {
      "text/plain": [
       "      Age  Grade\n",
       "Name            \n",
       "Eric   40    NaN\n",
       "Ivy    37    NaN\n",
       "Jude   10   97.0"
      ],
      "text/html": [
       "<div>\n",
       "<style scoped>\n",
       "    .dataframe tbody tr th:only-of-type {\n",
       "        vertical-align: middle;\n",
       "    }\n",
       "\n",
       "    .dataframe tbody tr th {\n",
       "        vertical-align: top;\n",
       "    }\n",
       "\n",
       "    .dataframe thead th {\n",
       "        text-align: right;\n",
       "    }\n",
       "</style>\n",
       "<table border=\"1\" class=\"dataframe\">\n",
       "  <thead>\n",
       "    <tr style=\"text-align: right;\">\n",
       "      <th></th>\n",
       "      <th>Age</th>\n",
       "      <th>Grade</th>\n",
       "    </tr>\n",
       "    <tr>\n",
       "      <th>Name</th>\n",
       "      <th></th>\n",
       "      <th></th>\n",
       "    </tr>\n",
       "  </thead>\n",
       "  <tbody>\n",
       "    <tr>\n",
       "      <th>Eric</th>\n",
       "      <td>40</td>\n",
       "      <td>NaN</td>\n",
       "    </tr>\n",
       "    <tr>\n",
       "      <th>Ivy</th>\n",
       "      <td>37</td>\n",
       "      <td>NaN</td>\n",
       "    </tr>\n",
       "    <tr>\n",
       "      <th>Jude</th>\n",
       "      <td>10</td>\n",
       "      <td>97.0</td>\n",
       "    </tr>\n",
       "  </tbody>\n",
       "</table>\n",
       "</div>"
      ]
     },
     "execution_count": 18,
     "metadata": {},
     "output_type": "execute_result"
    }
   ],
   "execution_count": 18
  },
  {
   "metadata": {},
   "cell_type": "markdown",
   "source": "### Right Join:",
   "id": "18bb7d72ded995ab"
  },
  {
   "metadata": {
    "ExecuteTime": {
     "end_time": "2024-07-09T05:33:17.839651Z",
     "start_time": "2024-07-09T05:33:17.829871Z"
    }
   },
   "cell_type": "code",
   "source": [
    "right_join = students3.set_index('Name').join(grades3.set_index('Name'), how='right')\n",
    "right_join"
   ],
   "id": "f3258090706f14fa",
   "outputs": [
    {
     "data": {
      "text/plain": [
       "       Age  Grade\n",
       "Name             \n",
       "Jude  10.0     97\n",
       "Jane   NaN     92"
      ],
      "text/html": [
       "<div>\n",
       "<style scoped>\n",
       "    .dataframe tbody tr th:only-of-type {\n",
       "        vertical-align: middle;\n",
       "    }\n",
       "\n",
       "    .dataframe tbody tr th {\n",
       "        vertical-align: top;\n",
       "    }\n",
       "\n",
       "    .dataframe thead th {\n",
       "        text-align: right;\n",
       "    }\n",
       "</style>\n",
       "<table border=\"1\" class=\"dataframe\">\n",
       "  <thead>\n",
       "    <tr style=\"text-align: right;\">\n",
       "      <th></th>\n",
       "      <th>Age</th>\n",
       "      <th>Grade</th>\n",
       "    </tr>\n",
       "    <tr>\n",
       "      <th>Name</th>\n",
       "      <th></th>\n",
       "      <th></th>\n",
       "    </tr>\n",
       "  </thead>\n",
       "  <tbody>\n",
       "    <tr>\n",
       "      <th>Jude</th>\n",
       "      <td>10.0</td>\n",
       "      <td>97</td>\n",
       "    </tr>\n",
       "    <tr>\n",
       "      <th>Jane</th>\n",
       "      <td>NaN</td>\n",
       "      <td>92</td>\n",
       "    </tr>\n",
       "  </tbody>\n",
       "</table>\n",
       "</div>"
      ]
     },
     "execution_count": 19,
     "metadata": {},
     "output_type": "execute_result"
    }
   ],
   "execution_count": 19
  },
  {
   "metadata": {},
   "cell_type": "markdown",
   "source": "### Inner Join:",
   "id": "3a28b08fcf3c597a"
  },
  {
   "metadata": {
    "ExecuteTime": {
     "end_time": "2024-07-09T05:33:17.970593Z",
     "start_time": "2024-07-09T05:33:17.960284Z"
    }
   },
   "cell_type": "code",
   "source": [
    "inner_join = students3.set_index('Name').join(grades3.set_index('Name'), how='inner')\n",
    "inner_join"
   ],
   "id": "a2830f7f3811ab8a",
   "outputs": [
    {
     "data": {
      "text/plain": [
       "      Age  Grade\n",
       "Name            \n",
       "Jude   10     97"
      ],
      "text/html": [
       "<div>\n",
       "<style scoped>\n",
       "    .dataframe tbody tr th:only-of-type {\n",
       "        vertical-align: middle;\n",
       "    }\n",
       "\n",
       "    .dataframe tbody tr th {\n",
       "        vertical-align: top;\n",
       "    }\n",
       "\n",
       "    .dataframe thead th {\n",
       "        text-align: right;\n",
       "    }\n",
       "</style>\n",
       "<table border=\"1\" class=\"dataframe\">\n",
       "  <thead>\n",
       "    <tr style=\"text-align: right;\">\n",
       "      <th></th>\n",
       "      <th>Age</th>\n",
       "      <th>Grade</th>\n",
       "    </tr>\n",
       "    <tr>\n",
       "      <th>Name</th>\n",
       "      <th></th>\n",
       "      <th></th>\n",
       "    </tr>\n",
       "  </thead>\n",
       "  <tbody>\n",
       "    <tr>\n",
       "      <th>Jude</th>\n",
       "      <td>10</td>\n",
       "      <td>97</td>\n",
       "    </tr>\n",
       "  </tbody>\n",
       "</table>\n",
       "</div>"
      ]
     },
     "execution_count": 20,
     "metadata": {},
     "output_type": "execute_result"
    }
   ],
   "execution_count": 20
  },
  {
   "metadata": {},
   "cell_type": "markdown",
   "source": "### Outer Join:",
   "id": "750798dd4074a55c"
  },
  {
   "metadata": {
    "ExecuteTime": {
     "end_time": "2024-07-09T05:33:21.660291Z",
     "start_time": "2024-07-09T05:33:21.651074Z"
    }
   },
   "cell_type": "code",
   "source": [
    "outer_join = students3.set_index('Name').join(grades3.set_index('Name'), how='outer')\n",
    "outer_join"
   ],
   "id": "57fed4017ca5064f",
   "outputs": [
    {
     "data": {
      "text/plain": [
       "       Age  Grade\n",
       "Name             \n",
       "Eric  40.0    NaN\n",
       "Ivy   37.0    NaN\n",
       "Jane   NaN   92.0\n",
       "Jude  10.0   97.0"
      ],
      "text/html": [
       "<div>\n",
       "<style scoped>\n",
       "    .dataframe tbody tr th:only-of-type {\n",
       "        vertical-align: middle;\n",
       "    }\n",
       "\n",
       "    .dataframe tbody tr th {\n",
       "        vertical-align: top;\n",
       "    }\n",
       "\n",
       "    .dataframe thead th {\n",
       "        text-align: right;\n",
       "    }\n",
       "</style>\n",
       "<table border=\"1\" class=\"dataframe\">\n",
       "  <thead>\n",
       "    <tr style=\"text-align: right;\">\n",
       "      <th></th>\n",
       "      <th>Age</th>\n",
       "      <th>Grade</th>\n",
       "    </tr>\n",
       "    <tr>\n",
       "      <th>Name</th>\n",
       "      <th></th>\n",
       "      <th></th>\n",
       "    </tr>\n",
       "  </thead>\n",
       "  <tbody>\n",
       "    <tr>\n",
       "      <th>Eric</th>\n",
       "      <td>40.0</td>\n",
       "      <td>NaN</td>\n",
       "    </tr>\n",
       "    <tr>\n",
       "      <th>Ivy</th>\n",
       "      <td>37.0</td>\n",
       "      <td>NaN</td>\n",
       "    </tr>\n",
       "    <tr>\n",
       "      <th>Jane</th>\n",
       "      <td>NaN</td>\n",
       "      <td>92.0</td>\n",
       "    </tr>\n",
       "    <tr>\n",
       "      <th>Jude</th>\n",
       "      <td>10.0</td>\n",
       "      <td>97.0</td>\n",
       "    </tr>\n",
       "  </tbody>\n",
       "</table>\n",
       "</div>"
      ]
     },
     "execution_count": 21,
     "metadata": {},
     "output_type": "execute_result"
    }
   ],
   "execution_count": 21
  }
 ],
 "metadata": {
  "kernelspec": {
   "display_name": "Python 3",
   "language": "python",
   "name": "python3"
  },
  "language_info": {
   "codemirror_mode": {
    "name": "ipython",
    "version": 2
   },
   "file_extension": ".py",
   "mimetype": "text/x-python",
   "name": "python",
   "nbconvert_exporter": "python",
   "pygments_lexer": "ipython2",
   "version": "2.7.6"
  }
 },
 "nbformat": 4,
 "nbformat_minor": 5
}
