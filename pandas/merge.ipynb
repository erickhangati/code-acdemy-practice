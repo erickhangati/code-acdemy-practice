{
 "cells": [
  {
   "metadata": {},
   "cell_type": "markdown",
   "source": [
    "# Merge: \n",
    "These are methods for combining and comparing Series or DataFrame objects.\n",
    "\n",
    "## 1. Concat\n",
    "\n",
    "Concatenating merges multiple Series or DataFrame objects along a shared index or column.\n",
    "\n",
    "### Concatenating Along Rows (Stacking on Top)\n",
    "\n",
    "Two lists of students from different classes, and you want to combine them into one big list."
   ],
   "id": "4ccc62b8e5e9c3fe"
  },
  {
   "metadata": {
    "ExecuteTime": {
     "end_time": "2024-07-09T05:15:54.277624Z",
     "start_time": "2024-07-09T05:15:53.757663Z"
    }
   },
   "cell_type": "code",
   "source": [
    "import pandas as pd\n",
    "\n",
    "data1 = pd.DataFrame({\n",
    "    'Name': ['Eric', 'Ivy'],\n",
    "    'Age': [40, 37]\n",
    "})\n",
    "\n",
    "data2 = pd.DataFrame({\n",
    "    'Name': ['Jane', 'Jude'],\n",
    "    'Age': [10, 7]\n",
    "})\n",
    "\n",
    "# Concatenate along rows\n",
    "concat_rows = pd.concat([data1, data2], axis=0)\n",
    "concat_rows"
   ],
   "id": "5b8005350a336bcb",
   "outputs": [
    {
     "data": {
      "text/plain": [
       "   Name  Age\n",
       "0  Eric   40\n",
       "1   Ivy   37\n",
       "0  Jane   10\n",
       "1  Jude    7"
      ],
      "text/html": [
       "<div>\n",
       "<style scoped>\n",
       "    .dataframe tbody tr th:only-of-type {\n",
       "        vertical-align: middle;\n",
       "    }\n",
       "\n",
       "    .dataframe tbody tr th {\n",
       "        vertical-align: top;\n",
       "    }\n",
       "\n",
       "    .dataframe thead th {\n",
       "        text-align: right;\n",
       "    }\n",
       "</style>\n",
       "<table border=\"1\" class=\"dataframe\">\n",
       "  <thead>\n",
       "    <tr style=\"text-align: right;\">\n",
       "      <th></th>\n",
       "      <th>Name</th>\n",
       "      <th>Age</th>\n",
       "    </tr>\n",
       "  </thead>\n",
       "  <tbody>\n",
       "    <tr>\n",
       "      <th>0</th>\n",
       "      <td>Eric</td>\n",
       "      <td>40</td>\n",
       "    </tr>\n",
       "    <tr>\n",
       "      <th>1</th>\n",
       "      <td>Ivy</td>\n",
       "      <td>37</td>\n",
       "    </tr>\n",
       "    <tr>\n",
       "      <th>0</th>\n",
       "      <td>Jane</td>\n",
       "      <td>10</td>\n",
       "    </tr>\n",
       "    <tr>\n",
       "      <th>1</th>\n",
       "      <td>Jude</td>\n",
       "      <td>7</td>\n",
       "    </tr>\n",
       "  </tbody>\n",
       "</table>\n",
       "</div>"
      ]
     },
     "execution_count": 1,
     "metadata": {},
     "output_type": "execute_result"
    }
   ],
   "execution_count": 1
  },
  {
   "metadata": {},
   "cell_type": "markdown",
   "source": [
    "### Concatenating Along Columns (Placing Side by Side)\n",
    "\n",
    "List of student names and another list of their grades, and you want to combine them side by side.\n"
   ],
   "id": "1b727892b5be7c7"
  },
  {
   "metadata": {
    "ExecuteTime": {
     "end_time": "2024-07-09T05:17:17.065488Z",
     "start_time": "2024-07-09T05:17:17.054302Z"
    }
   },
   "cell_type": "code",
   "source": [
    "names_df = pd.DataFrame({\n",
    "    'Name': ['Eric', 'Ivy', 'Jane', 'Jude']\n",
    "})\n",
    "\n",
    "age_df = pd.DataFrame({\n",
    "    'Age': [40, 37, 10, 7]\n",
    "})\n",
    "\n",
    "concat_columns = pd.concat([names_df, age_df], axis=1)\n",
    "concat_columns"
   ],
   "id": "2e7a02101162171",
   "outputs": [
    {
     "data": {
      "text/plain": [
       "   Name  Age\n",
       "0  Eric   40\n",
       "1   Ivy   37\n",
       "2  Jane   10\n",
       "3  Jude    7"
      ],
      "text/html": [
       "<div>\n",
       "<style scoped>\n",
       "    .dataframe tbody tr th:only-of-type {\n",
       "        vertical-align: middle;\n",
       "    }\n",
       "\n",
       "    .dataframe tbody tr th {\n",
       "        vertical-align: top;\n",
       "    }\n",
       "\n",
       "    .dataframe thead th {\n",
       "        text-align: right;\n",
       "    }\n",
       "</style>\n",
       "<table border=\"1\" class=\"dataframe\">\n",
       "  <thead>\n",
       "    <tr style=\"text-align: right;\">\n",
       "      <th></th>\n",
       "      <th>Name</th>\n",
       "      <th>Age</th>\n",
       "    </tr>\n",
       "  </thead>\n",
       "  <tbody>\n",
       "    <tr>\n",
       "      <th>0</th>\n",
       "      <td>Eric</td>\n",
       "      <td>40</td>\n",
       "    </tr>\n",
       "    <tr>\n",
       "      <th>1</th>\n",
       "      <td>Ivy</td>\n",
       "      <td>37</td>\n",
       "    </tr>\n",
       "    <tr>\n",
       "      <th>2</th>\n",
       "      <td>Jane</td>\n",
       "      <td>10</td>\n",
       "    </tr>\n",
       "    <tr>\n",
       "      <th>3</th>\n",
       "      <td>Jude</td>\n",
       "      <td>7</td>\n",
       "    </tr>\n",
       "  </tbody>\n",
       "</table>\n",
       "</div>"
      ]
     },
     "execution_count": 2,
     "metadata": {},
     "output_type": "execute_result"
    }
   ],
   "execution_count": 2
  },
  {
   "metadata": {},
   "cell_type": "markdown",
   "source": [
    "## 2. Join\n",
    "\n",
    "The join function in pandas is used to combine two DataFrames based on their indexes or a common column. It is particularly useful for merging DataFrames with different columns but the same index or key.\n",
    "\n",
    "### Joining on Index\n",
    "\n",
    "Imagine you have two DataFrames: one with student names and ages, and another with their grades. You want to combine these DataFrames based on their indexes."
   ],
   "id": "a83626d11d148c30"
  },
  {
   "metadata": {
    "ExecuteTime": {
     "end_time": "2024-07-09T05:23:11.728273Z",
     "start_time": "2024-07-09T05:23:11.719084Z"
    }
   },
   "cell_type": "code",
   "source": [
    "students1 = pd.DataFrame({\n",
    "    'Name': ['Eric', 'Ivy'],\n",
    "    'Age': [40, 37]\n",
    "}, index=[1, 2])\n",
    "\n",
    "grades1 = pd.DataFrame({\n",
    "    'Grade': [97, 92]\n",
    "}, index=[1, 2])\n",
    "\n",
    "joined_index = students1.join(grades1)\n",
    "joined_index"
   ],
   "id": "7300277fb7dd320",
   "outputs": [
    {
     "data": {
      "text/plain": [
       "   Name  Age  Grade\n",
       "1  Eric   40     97\n",
       "2   Ivy   37     92"
      ],
      "text/html": [
       "<div>\n",
       "<style scoped>\n",
       "    .dataframe tbody tr th:only-of-type {\n",
       "        vertical-align: middle;\n",
       "    }\n",
       "\n",
       "    .dataframe tbody tr th {\n",
       "        vertical-align: top;\n",
       "    }\n",
       "\n",
       "    .dataframe thead th {\n",
       "        text-align: right;\n",
       "    }\n",
       "</style>\n",
       "<table border=\"1\" class=\"dataframe\">\n",
       "  <thead>\n",
       "    <tr style=\"text-align: right;\">\n",
       "      <th></th>\n",
       "      <th>Name</th>\n",
       "      <th>Age</th>\n",
       "      <th>Grade</th>\n",
       "    </tr>\n",
       "  </thead>\n",
       "  <tbody>\n",
       "    <tr>\n",
       "      <th>1</th>\n",
       "      <td>Eric</td>\n",
       "      <td>40</td>\n",
       "      <td>97</td>\n",
       "    </tr>\n",
       "    <tr>\n",
       "      <th>2</th>\n",
       "      <td>Ivy</td>\n",
       "      <td>37</td>\n",
       "      <td>92</td>\n",
       "    </tr>\n",
       "  </tbody>\n",
       "</table>\n",
       "</div>"
      ]
     },
     "execution_count": 4,
     "metadata": {},
     "output_type": "execute_result"
    }
   ],
   "execution_count": 4
  },
  {
   "metadata": {},
   "cell_type": "markdown",
   "source": [
    "### Joining on a Common Column\n",
    "\n",
    "Imagine you have two DataFrames: one with student names and ages, and another with student names and their grades. You want to combine these DataFrames based on the student names."
   ],
   "id": "fbceb12cbecbc7a8"
  },
  {
   "metadata": {
    "ExecuteTime": {
     "end_time": "2024-07-09T05:23:48.160525Z",
     "start_time": "2024-07-09T05:23:48.149781Z"
    }
   },
   "cell_type": "code",
   "source": [
    "students2 = pd.DataFrame({\n",
    "    'Name': ['Eric', 'Ivy'],\n",
    "    'Age': [40, 37]\n",
    "})\n",
    "\n",
    "grades2 = pd.DataFrame({\n",
    "    'Name': ['Eric', 'Ivy'],\n",
    "    'Grade': [97, 92]\n",
    "})\n",
    "\n",
    "joined_column = students2.set_index('Name').join(grades2.set_index('Name'))\n",
    "joined_column"
   ],
   "id": "e7264b173c59cfbc",
   "outputs": [
    {
     "data": {
      "text/plain": [
       "      Age  Grade\n",
       "Name            \n",
       "Eric   40     97\n",
       "Ivy    37     92"
      ],
      "text/html": [
       "<div>\n",
       "<style scoped>\n",
       "    .dataframe tbody tr th:only-of-type {\n",
       "        vertical-align: middle;\n",
       "    }\n",
       "\n",
       "    .dataframe tbody tr th {\n",
       "        vertical-align: top;\n",
       "    }\n",
       "\n",
       "    .dataframe thead th {\n",
       "        text-align: right;\n",
       "    }\n",
       "</style>\n",
       "<table border=\"1\" class=\"dataframe\">\n",
       "  <thead>\n",
       "    <tr style=\"text-align: right;\">\n",
       "      <th></th>\n",
       "      <th>Age</th>\n",
       "      <th>Grade</th>\n",
       "    </tr>\n",
       "    <tr>\n",
       "      <th>Name</th>\n",
       "      <th></th>\n",
       "      <th></th>\n",
       "    </tr>\n",
       "  </thead>\n",
       "  <tbody>\n",
       "    <tr>\n",
       "      <th>Eric</th>\n",
       "      <td>40</td>\n",
       "      <td>97</td>\n",
       "    </tr>\n",
       "    <tr>\n",
       "      <th>Ivy</th>\n",
       "      <td>37</td>\n",
       "      <td>92</td>\n",
       "    </tr>\n",
       "  </tbody>\n",
       "</table>\n",
       "</div>"
      ]
     },
     "execution_count": 5,
     "metadata": {},
     "output_type": "execute_result"
    }
   ],
   "execution_count": 5
  },
  {
   "metadata": {},
   "cell_type": "code",
   "outputs": [],
   "execution_count": null,
   "source": "",
   "id": "e2fb7d914ef47a04"
  }
 ],
 "metadata": {
  "kernelspec": {
   "display_name": "Python 3",
   "language": "python",
   "name": "python3"
  },
  "language_info": {
   "codemirror_mode": {
    "name": "ipython",
    "version": 2
   },
   "file_extension": ".py",
   "mimetype": "text/x-python",
   "name": "python",
   "nbconvert_exporter": "python",
   "pygments_lexer": "ipython2",
   "version": "2.7.6"
  }
 },
 "nbformat": 4,
 "nbformat_minor": 5
}
