{
 "cells": [
  {
   "metadata": {},
   "cell_type": "markdown",
   "source": [
    "# Reshaping Data in Pandas\n",
    "\n",
    "This notebook demonstrates various methods for reshaping data in a Pandas DataFrame, including pivot, melt, stack, unstack, and pivot_table."
   ],
   "id": "fcade3741f6516d1"
  },
  {
   "metadata": {
    "ExecuteTime": {
     "end_time": "2024-07-10T03:13:39.955489Z",
     "start_time": "2024-07-10T03:13:39.950112Z"
    }
   },
   "cell_type": "code",
   "source": "import pandas as pd",
   "id": "b45710c4b7776aa5",
   "outputs": [],
   "execution_count": 10
  },
  {
   "metadata": {},
   "cell_type": "markdown",
   "source": [
    "## Creating a DataFrame for Sales Data\n",
    "\n",
    "We will create a DataFrame to represent sales data, including dates, products, and sales amounts."
   ],
   "id": "925c37455be0210f"
  },
  {
   "metadata": {
    "ExecuteTime": {
     "end_time": "2024-07-10T03:13:39.994354Z",
     "start_time": "2024-07-10T03:13:39.981622Z"
    }
   },
   "cell_type": "code",
   "source": [
    "# Create a dictionary with sales data\n",
    "data = {\n",
    "    'Date': ['2021-01-01', '2021-01-01', '2021-01-02', '2021-01-02'],\n",
    "    'Product': ['A', 'B', 'A', 'B'],\n",
    "    'Sales': [100, 150, 200, 250]\n",
    "}\n",
    "\n",
    "# Create a Pandas DataFrame from the dictionary\n",
    "df = pd.DataFrame(data)\n",
    "\n",
    "# Display the DataFrame\n",
    "df"
   ],
   "id": "932d22dd49538714",
   "outputs": [
    {
     "data": {
      "text/plain": [
       "         Date Product  Sales\n",
       "0  2021-01-01       A    100\n",
       "1  2021-01-01       B    150\n",
       "2  2021-01-02       A    200\n",
       "3  2021-01-02       B    250"
      ],
      "text/html": [
       "<div>\n",
       "<style scoped>\n",
       "    .dataframe tbody tr th:only-of-type {\n",
       "        vertical-align: middle;\n",
       "    }\n",
       "\n",
       "    .dataframe tbody tr th {\n",
       "        vertical-align: top;\n",
       "    }\n",
       "\n",
       "    .dataframe thead th {\n",
       "        text-align: right;\n",
       "    }\n",
       "</style>\n",
       "<table border=\"1\" class=\"dataframe\">\n",
       "  <thead>\n",
       "    <tr style=\"text-align: right;\">\n",
       "      <th></th>\n",
       "      <th>Date</th>\n",
       "      <th>Product</th>\n",
       "      <th>Sales</th>\n",
       "    </tr>\n",
       "  </thead>\n",
       "  <tbody>\n",
       "    <tr>\n",
       "      <th>0</th>\n",
       "      <td>2021-01-01</td>\n",
       "      <td>A</td>\n",
       "      <td>100</td>\n",
       "    </tr>\n",
       "    <tr>\n",
       "      <th>1</th>\n",
       "      <td>2021-01-01</td>\n",
       "      <td>B</td>\n",
       "      <td>150</td>\n",
       "    </tr>\n",
       "    <tr>\n",
       "      <th>2</th>\n",
       "      <td>2021-01-02</td>\n",
       "      <td>A</td>\n",
       "      <td>200</td>\n",
       "    </tr>\n",
       "    <tr>\n",
       "      <th>3</th>\n",
       "      <td>2021-01-02</td>\n",
       "      <td>B</td>\n",
       "      <td>250</td>\n",
       "    </tr>\n",
       "  </tbody>\n",
       "</table>\n",
       "</div>"
      ]
     },
     "execution_count": 11,
     "metadata": {},
     "output_type": "execute_result"
    }
   ],
   "execution_count": 11
  },
  {
   "metadata": {},
   "cell_type": "markdown",
   "source": [
    "## Pivot: Reshaping Data by Turning Unique Values from One Column into Multiple Columns\n",
    "\n",
    "We will use the `pivot` method to reshape the data by turning unique values from the 'Product' column into multiple columns."
   ],
   "id": "ac9508d573d7de73"
  },
  {
   "metadata": {
    "ExecuteTime": {
     "end_time": "2024-07-10T03:13:40.008067Z",
     "start_time": "2024-07-10T03:13:39.997397Z"
    }
   },
   "cell_type": "code",
   "source": [
    "# Pivot the DataFrame\n",
    "pivoted = df.pivot(index='Date', columns='Product', values='Sales')\n",
    "\n",
    "# Display the pivoted DataFrame\n",
    "pivoted"
   ],
   "id": "be3b93ce1a5d0d5d",
   "outputs": [
    {
     "data": {
      "text/plain": [
       "Product       A    B\n",
       "Date                \n",
       "2021-01-01  100  150\n",
       "2021-01-02  200  250"
      ],
      "text/html": [
       "<div>\n",
       "<style scoped>\n",
       "    .dataframe tbody tr th:only-of-type {\n",
       "        vertical-align: middle;\n",
       "    }\n",
       "\n",
       "    .dataframe tbody tr th {\n",
       "        vertical-align: top;\n",
       "    }\n",
       "\n",
       "    .dataframe thead th {\n",
       "        text-align: right;\n",
       "    }\n",
       "</style>\n",
       "<table border=\"1\" class=\"dataframe\">\n",
       "  <thead>\n",
       "    <tr style=\"text-align: right;\">\n",
       "      <th>Product</th>\n",
       "      <th>A</th>\n",
       "      <th>B</th>\n",
       "    </tr>\n",
       "    <tr>\n",
       "      <th>Date</th>\n",
       "      <th></th>\n",
       "      <th></th>\n",
       "    </tr>\n",
       "  </thead>\n",
       "  <tbody>\n",
       "    <tr>\n",
       "      <th>2021-01-01</th>\n",
       "      <td>100</td>\n",
       "      <td>150</td>\n",
       "    </tr>\n",
       "    <tr>\n",
       "      <th>2021-01-02</th>\n",
       "      <td>200</td>\n",
       "      <td>250</td>\n",
       "    </tr>\n",
       "  </tbody>\n",
       "</table>\n",
       "</div>"
      ]
     },
     "execution_count": 12,
     "metadata": {},
     "output_type": "execute_result"
    }
   ],
   "execution_count": 12
  },
  {
   "metadata": {},
   "cell_type": "markdown",
   "source": [
    "## Melt: Converting a Wide-Format DataFrame into a Long-Format DataFrame\n",
    "\n",
    "We will use the `melt` method to convert the wide-format DataFrame back into a long-format DataFrame."
   ],
   "id": "955efeb256e6b937"
  },
  {
   "metadata": {
    "ExecuteTime": {
     "end_time": "2024-07-10T03:13:40.035565Z",
     "start_time": "2024-07-10T03:13:40.013098Z"
    }
   },
   "cell_type": "code",
   "source": [
    "# Melt the pivoted DataFrame\n",
    "melted = pivoted.reset_index().melt(id_vars='Date', value_vars=['A', 'B'], var_name='Product', value_name='Sales')\n",
    "\n",
    "# Display the melted DataFrame\n",
    "melted"
   ],
   "id": "bf9eff673853ced4",
   "outputs": [
    {
     "data": {
      "text/plain": [
       "         Date Product  Sales\n",
       "0  2021-01-01       A    100\n",
       "1  2021-01-02       A    200\n",
       "2  2021-01-01       B    150\n",
       "3  2021-01-02       B    250"
      ],
      "text/html": [
       "<div>\n",
       "<style scoped>\n",
       "    .dataframe tbody tr th:only-of-type {\n",
       "        vertical-align: middle;\n",
       "    }\n",
       "\n",
       "    .dataframe tbody tr th {\n",
       "        vertical-align: top;\n",
       "    }\n",
       "\n",
       "    .dataframe thead th {\n",
       "        text-align: right;\n",
       "    }\n",
       "</style>\n",
       "<table border=\"1\" class=\"dataframe\">\n",
       "  <thead>\n",
       "    <tr style=\"text-align: right;\">\n",
       "      <th></th>\n",
       "      <th>Date</th>\n",
       "      <th>Product</th>\n",
       "      <th>Sales</th>\n",
       "    </tr>\n",
       "  </thead>\n",
       "  <tbody>\n",
       "    <tr>\n",
       "      <th>0</th>\n",
       "      <td>2021-01-01</td>\n",
       "      <td>A</td>\n",
       "      <td>100</td>\n",
       "    </tr>\n",
       "    <tr>\n",
       "      <th>1</th>\n",
       "      <td>2021-01-02</td>\n",
       "      <td>A</td>\n",
       "      <td>200</td>\n",
       "    </tr>\n",
       "    <tr>\n",
       "      <th>2</th>\n",
       "      <td>2021-01-01</td>\n",
       "      <td>B</td>\n",
       "      <td>150</td>\n",
       "    </tr>\n",
       "    <tr>\n",
       "      <th>3</th>\n",
       "      <td>2021-01-02</td>\n",
       "      <td>B</td>\n",
       "      <td>250</td>\n",
       "    </tr>\n",
       "  </tbody>\n",
       "</table>\n",
       "</div>"
      ]
     },
     "execution_count": 13,
     "metadata": {},
     "output_type": "execute_result"
    }
   ],
   "execution_count": 13
  },
  {
   "metadata": {},
   "cell_type": "markdown",
   "source": [
    "## Stack: Stacking the Columns of a DataFrame into a Multi-Level Index\n",
    "\n",
    "We will use the `stack` method to stack the columns of the pivoted DataFrame into a multi-level index."
   ],
   "id": "72915935edca1492"
  },
  {
   "metadata": {
    "ExecuteTime": {
     "end_time": "2024-07-10T03:13:40.075424Z",
     "start_time": "2024-07-10T03:13:40.060198Z"
    }
   },
   "cell_type": "code",
   "source": [
    "# Stack the pivoted DataFrame\n",
    "stacked = pivoted.stack()\n",
    "\n",
    "# Display the stacked DataFrame\n",
    "stacked"
   ],
   "id": "e1489bd3be7bce6d",
   "outputs": [
    {
     "data": {
      "text/plain": [
       "Date        Product\n",
       "2021-01-01  A          100\n",
       "            B          150\n",
       "2021-01-02  A          200\n",
       "            B          250\n",
       "dtype: int64"
      ]
     },
     "execution_count": 14,
     "metadata": {},
     "output_type": "execute_result"
    }
   ],
   "execution_count": 14
  },
  {
   "metadata": {},
   "cell_type": "markdown",
   "source": [
    "## Unstack: Unstacking a Multi-Level Index Back to Columns\n",
    "\n",
    "We will use the `unstack` method to unstack the multi-level index back to columns."
   ],
   "id": "92967028a363ef2e"
  },
  {
   "metadata": {
    "ExecuteTime": {
     "end_time": "2024-07-10T03:13:40.174065Z",
     "start_time": "2024-07-10T03:13:40.167528Z"
    }
   },
   "cell_type": "code",
   "source": [
    "# Unstack the stacked DataFrame\n",
    "unstacked = stacked.unstack()\n",
    "\n",
    "# Display the unstacked DataFrame\n",
    "unstacked"
   ],
   "id": "7e62e14ef06742e8",
   "outputs": [
    {
     "data": {
      "text/plain": [
       "Product       A    B\n",
       "Date                \n",
       "2021-01-01  100  150\n",
       "2021-01-02  200  250"
      ],
      "text/html": [
       "<div>\n",
       "<style scoped>\n",
       "    .dataframe tbody tr th:only-of-type {\n",
       "        vertical-align: middle;\n",
       "    }\n",
       "\n",
       "    .dataframe tbody tr th {\n",
       "        vertical-align: top;\n",
       "    }\n",
       "\n",
       "    .dataframe thead th {\n",
       "        text-align: right;\n",
       "    }\n",
       "</style>\n",
       "<table border=\"1\" class=\"dataframe\">\n",
       "  <thead>\n",
       "    <tr style=\"text-align: right;\">\n",
       "      <th>Product</th>\n",
       "      <th>A</th>\n",
       "      <th>B</th>\n",
       "    </tr>\n",
       "    <tr>\n",
       "      <th>Date</th>\n",
       "      <th></th>\n",
       "      <th></th>\n",
       "    </tr>\n",
       "  </thead>\n",
       "  <tbody>\n",
       "    <tr>\n",
       "      <th>2021-01-01</th>\n",
       "      <td>100</td>\n",
       "      <td>150</td>\n",
       "    </tr>\n",
       "    <tr>\n",
       "      <th>2021-01-02</th>\n",
       "      <td>200</td>\n",
       "      <td>250</td>\n",
       "    </tr>\n",
       "  </tbody>\n",
       "</table>\n",
       "</div>"
      ]
     },
     "execution_count": 15,
     "metadata": {},
     "output_type": "execute_result"
    }
   ],
   "execution_count": 15
  },
  {
   "metadata": {},
   "cell_type": "markdown",
   "source": [
    "## Creating a Pivot Table for Data Summarization with Aggregation\n",
    "\n",
    "We will create a DataFrame to represent sales data with quantities and use the `pivot_table` method to create a pivot table for data summarization with aggregation."
   ],
   "id": "452d04b79aeda5fc"
  },
  {
   "metadata": {
    "ExecuteTime": {
     "end_time": "2024-07-10T03:13:40.312291Z",
     "start_time": "2024-07-10T03:13:40.303596Z"
    }
   },
   "cell_type": "code",
   "source": [
    "# Create a dictionary with sales and quantity data\n",
    "data1 = {\n",
    "    'Date': ['2021-01-01', '2021-01-01', '2021-01-02', '2021-01-02'],\n",
    "    'Product': ['A', 'B', 'A', 'B'],\n",
    "    'Sales': [100, 150, 200, 250],\n",
    "    'Quantity': [10, 15, 20, 25]\n",
    "}\n",
    "\n",
    "# Create a Pandas DataFrame from the dictionary\n",
    "df1 = pd.DataFrame(data1)\n",
    "\n",
    "# Display the DataFrame\n",
    "df1"
   ],
   "id": "aa1f4da0d86844b3",
   "outputs": [
    {
     "data": {
      "text/plain": [
       "         Date Product  Sales  Quantity\n",
       "0  2021-01-01       A    100        10\n",
       "1  2021-01-01       B    150        15\n",
       "2  2021-01-02       A    200        20\n",
       "3  2021-01-02       B    250        25"
      ],
      "text/html": [
       "<div>\n",
       "<style scoped>\n",
       "    .dataframe tbody tr th:only-of-type {\n",
       "        vertical-align: middle;\n",
       "    }\n",
       "\n",
       "    .dataframe tbody tr th {\n",
       "        vertical-align: top;\n",
       "    }\n",
       "\n",
       "    .dataframe thead th {\n",
       "        text-align: right;\n",
       "    }\n",
       "</style>\n",
       "<table border=\"1\" class=\"dataframe\">\n",
       "  <thead>\n",
       "    <tr style=\"text-align: right;\">\n",
       "      <th></th>\n",
       "      <th>Date</th>\n",
       "      <th>Product</th>\n",
       "      <th>Sales</th>\n",
       "      <th>Quantity</th>\n",
       "    </tr>\n",
       "  </thead>\n",
       "  <tbody>\n",
       "    <tr>\n",
       "      <th>0</th>\n",
       "      <td>2021-01-01</td>\n",
       "      <td>A</td>\n",
       "      <td>100</td>\n",
       "      <td>10</td>\n",
       "    </tr>\n",
       "    <tr>\n",
       "      <th>1</th>\n",
       "      <td>2021-01-01</td>\n",
       "      <td>B</td>\n",
       "      <td>150</td>\n",
       "      <td>15</td>\n",
       "    </tr>\n",
       "    <tr>\n",
       "      <th>2</th>\n",
       "      <td>2021-01-02</td>\n",
       "      <td>A</td>\n",
       "      <td>200</td>\n",
       "      <td>20</td>\n",
       "    </tr>\n",
       "    <tr>\n",
       "      <th>3</th>\n",
       "      <td>2021-01-02</td>\n",
       "      <td>B</td>\n",
       "      <td>250</td>\n",
       "      <td>25</td>\n",
       "    </tr>\n",
       "  </tbody>\n",
       "</table>\n",
       "</div>"
      ]
     },
     "execution_count": 16,
     "metadata": {},
     "output_type": "execute_result"
    }
   ],
   "execution_count": 16
  },
  {
   "metadata": {},
   "cell_type": "markdown",
   "source": [
    "## Creating a Pivot Table\n",
    "\n",
    "We will use the `pivot_table` method to create a pivot table that summarizes the sales and quantities for each product on each date."
   ],
   "id": "64944c4e5c81f22a"
  },
  {
   "metadata": {
    "ExecuteTime": {
     "end_time": "2024-07-10T03:13:40.367821Z",
     "start_time": "2024-07-10T03:13:40.350545Z"
    }
   },
   "cell_type": "code",
   "source": [
    "# Create a pivot table\n",
    "pivot_table = df1.pivot_table(index='Date', columns='Product', values=['Sales', 'Quantity'], aggfunc='sum')\n",
    "\n",
    "# Display the pivot table\n",
    "pivot_table"
   ],
   "id": "dbcb5ad81e7545c7",
   "outputs": [
    {
     "data": {
      "text/plain": [
       "           Quantity     Sales     \n",
       "Product           A   B     A    B\n",
       "Date                              \n",
       "2021-01-01       10  15   100  150\n",
       "2021-01-02       20  25   200  250"
      ],
      "text/html": [
       "<div>\n",
       "<style scoped>\n",
       "    .dataframe tbody tr th:only-of-type {\n",
       "        vertical-align: middle;\n",
       "    }\n",
       "\n",
       "    .dataframe tbody tr th {\n",
       "        vertical-align: top;\n",
       "    }\n",
       "\n",
       "    .dataframe thead tr th {\n",
       "        text-align: left;\n",
       "    }\n",
       "\n",
       "    .dataframe thead tr:last-of-type th {\n",
       "        text-align: right;\n",
       "    }\n",
       "</style>\n",
       "<table border=\"1\" class=\"dataframe\">\n",
       "  <thead>\n",
       "    <tr>\n",
       "      <th></th>\n",
       "      <th colspan=\"2\" halign=\"left\">Quantity</th>\n",
       "      <th colspan=\"2\" halign=\"left\">Sales</th>\n",
       "    </tr>\n",
       "    <tr>\n",
       "      <th>Product</th>\n",
       "      <th>A</th>\n",
       "      <th>B</th>\n",
       "      <th>A</th>\n",
       "      <th>B</th>\n",
       "    </tr>\n",
       "    <tr>\n",
       "      <th>Date</th>\n",
       "      <th></th>\n",
       "      <th></th>\n",
       "      <th></th>\n",
       "      <th></th>\n",
       "    </tr>\n",
       "  </thead>\n",
       "  <tbody>\n",
       "    <tr>\n",
       "      <th>2021-01-01</th>\n",
       "      <td>10</td>\n",
       "      <td>15</td>\n",
       "      <td>100</td>\n",
       "      <td>150</td>\n",
       "    </tr>\n",
       "    <tr>\n",
       "      <th>2021-01-02</th>\n",
       "      <td>20</td>\n",
       "      <td>25</td>\n",
       "      <td>200</td>\n",
       "      <td>250</td>\n",
       "    </tr>\n",
       "  </tbody>\n",
       "</table>\n",
       "</div>"
      ]
     },
     "execution_count": 17,
     "metadata": {},
     "output_type": "execute_result"
    }
   ],
   "execution_count": 17
  }
 ],
 "metadata": {
  "kernelspec": {
   "display_name": "Python 3",
   "language": "python",
   "name": "python3"
  },
  "language_info": {
   "codemirror_mode": {
    "name": "ipython",
    "version": 2
   },
   "file_extension": ".py",
   "mimetype": "text/x-python",
   "name": "python",
   "nbconvert_exporter": "python",
   "pygments_lexer": "ipython2",
   "version": "2.7.6"
  }
 },
 "nbformat": 4,
 "nbformat_minor": 5
}
