{
 "cells": [
  {
   "metadata": {},
   "cell_type": "markdown",
   "source": [
    "# Pandas DataFrame Operations\n",
    "\n",
    "This notebook demonstrates various basic operations using Pandas DataFrame, including creating a DataFrame, previewing data, converting to a NumPy array, generating descriptive statistics, transposing, and sorting data."
   ],
   "id": "bb54048075ca1004"
  },
  {
   "metadata": {
    "ExecuteTime": {
     "end_time": "2024-07-05T07:22:19.462277Z",
     "start_time": "2024-07-05T07:22:18.962897Z"
    }
   },
   "cell_type": "code",
   "source": [
    "import pandas as pd\n",
    "\n",
    "# Create a list of lists representing student data\n",
    "students = [\n",
    "    ['Eric', 40, 'Machine Learning'],\n",
    "    ['Ivy', 37, 'Project Management'],\n",
    "    ['Jude', 10, 'Programmer'],\n",
    "    ['Alice', 22, 'Data Science'],\n",
    "    ['Bob', 25, 'Web Development'],\n",
    "    ['Charlie', 23, 'Cyber Security'],\n",
    "    ['Diana', 28, 'AI and Robotics'],\n",
    "    ['Edward', 21, 'Cloud Computing'],\n",
    "    ['Fiona', 24, 'Software Engineering']\n",
    "]\n",
    "\n",
    "# Define the column names for the DataFrame\n",
    "columns = ['Name', 'Age', 'Course']\n",
    "\n",
    "# Create an index for the DataFrame\n",
    "index = list(range(1, len(students) + 1))\n",
    "\n",
    "# Create a Pandas DataFrame from the students list with the specified columns and index\n",
    "students_df = pd.DataFrame(students, columns=columns, index=index)\n",
    "\n",
    "# Display the DataFrame\n",
    "students_df"
   ],
   "id": "4eecf9ace800b397",
   "outputs": [
    {
     "data": {
      "text/plain": [
       "      Name  Age                Course\n",
       "1     Eric   40      Machine Learning\n",
       "2      Ivy   37    Project Management\n",
       "3     Jude   10            Programmer\n",
       "4    Alice   22          Data Science\n",
       "5      Bob   25       Web Development\n",
       "6  Charlie   23        Cyber Security\n",
       "7    Diana   28       AI and Robotics\n",
       "8   Edward   21       Cloud Computing\n",
       "9    Fiona   24  Software Engineering"
      ],
      "text/html": [
       "<div>\n",
       "<style scoped>\n",
       "    .dataframe tbody tr th:only-of-type {\n",
       "        vertical-align: middle;\n",
       "    }\n",
       "\n",
       "    .dataframe tbody tr th {\n",
       "        vertical-align: top;\n",
       "    }\n",
       "\n",
       "    .dataframe thead th {\n",
       "        text-align: right;\n",
       "    }\n",
       "</style>\n",
       "<table border=\"1\" class=\"dataframe\">\n",
       "  <thead>\n",
       "    <tr style=\"text-align: right;\">\n",
       "      <th></th>\n",
       "      <th>Name</th>\n",
       "      <th>Age</th>\n",
       "      <th>Course</th>\n",
       "    </tr>\n",
       "  </thead>\n",
       "  <tbody>\n",
       "    <tr>\n",
       "      <th>1</th>\n",
       "      <td>Eric</td>\n",
       "      <td>40</td>\n",
       "      <td>Machine Learning</td>\n",
       "    </tr>\n",
       "    <tr>\n",
       "      <th>2</th>\n",
       "      <td>Ivy</td>\n",
       "      <td>37</td>\n",
       "      <td>Project Management</td>\n",
       "    </tr>\n",
       "    <tr>\n",
       "      <th>3</th>\n",
       "      <td>Jude</td>\n",
       "      <td>10</td>\n",
       "      <td>Programmer</td>\n",
       "    </tr>\n",
       "    <tr>\n",
       "      <th>4</th>\n",
       "      <td>Alice</td>\n",
       "      <td>22</td>\n",
       "      <td>Data Science</td>\n",
       "    </tr>\n",
       "    <tr>\n",
       "      <th>5</th>\n",
       "      <td>Bob</td>\n",
       "      <td>25</td>\n",
       "      <td>Web Development</td>\n",
       "    </tr>\n",
       "    <tr>\n",
       "      <th>6</th>\n",
       "      <td>Charlie</td>\n",
       "      <td>23</td>\n",
       "      <td>Cyber Security</td>\n",
       "    </tr>\n",
       "    <tr>\n",
       "      <th>7</th>\n",
       "      <td>Diana</td>\n",
       "      <td>28</td>\n",
       "      <td>AI and Robotics</td>\n",
       "    </tr>\n",
       "    <tr>\n",
       "      <th>8</th>\n",
       "      <td>Edward</td>\n",
       "      <td>21</td>\n",
       "      <td>Cloud Computing</td>\n",
       "    </tr>\n",
       "    <tr>\n",
       "      <th>9</th>\n",
       "      <td>Fiona</td>\n",
       "      <td>24</td>\n",
       "      <td>Software Engineering</td>\n",
       "    </tr>\n",
       "  </tbody>\n",
       "</table>\n",
       "</div>"
      ]
     },
     "execution_count": 1,
     "metadata": {},
     "output_type": "execute_result"
    }
   ],
   "execution_count": 1
  },
  {
   "metadata": {},
   "cell_type": "markdown",
   "source": "## Preview the top 5 rows of the DataFrame (default behavior)",
   "id": "f369cc256ba9af18"
  },
  {
   "metadata": {
    "ExecuteTime": {
     "end_time": "2024-07-05T07:22:49.815247Z",
     "start_time": "2024-07-05T07:22:49.802023Z"
    }
   },
   "cell_type": "code",
   "source": [
    "# Preview the top 5 rows of the DataFrame (default behavior)\n",
    "preview_head_default = students_df.head()\n",
    "preview_head_default"
   ],
   "id": "c01af9a44093d22b",
   "outputs": [
    {
     "data": {
      "text/plain": [
       "    Name  Age              Course\n",
       "1   Eric   40    Machine Learning\n",
       "2    Ivy   37  Project Management\n",
       "3   Jude   10          Programmer\n",
       "4  Alice   22        Data Science\n",
       "5    Bob   25     Web Development"
      ],
      "text/html": [
       "<div>\n",
       "<style scoped>\n",
       "    .dataframe tbody tr th:only-of-type {\n",
       "        vertical-align: middle;\n",
       "    }\n",
       "\n",
       "    .dataframe tbody tr th {\n",
       "        vertical-align: top;\n",
       "    }\n",
       "\n",
       "    .dataframe thead th {\n",
       "        text-align: right;\n",
       "    }\n",
       "</style>\n",
       "<table border=\"1\" class=\"dataframe\">\n",
       "  <thead>\n",
       "    <tr style=\"text-align: right;\">\n",
       "      <th></th>\n",
       "      <th>Name</th>\n",
       "      <th>Age</th>\n",
       "      <th>Course</th>\n",
       "    </tr>\n",
       "  </thead>\n",
       "  <tbody>\n",
       "    <tr>\n",
       "      <th>1</th>\n",
       "      <td>Eric</td>\n",
       "      <td>40</td>\n",
       "      <td>Machine Learning</td>\n",
       "    </tr>\n",
       "    <tr>\n",
       "      <th>2</th>\n",
       "      <td>Ivy</td>\n",
       "      <td>37</td>\n",
       "      <td>Project Management</td>\n",
       "    </tr>\n",
       "    <tr>\n",
       "      <th>3</th>\n",
       "      <td>Jude</td>\n",
       "      <td>10</td>\n",
       "      <td>Programmer</td>\n",
       "    </tr>\n",
       "    <tr>\n",
       "      <th>4</th>\n",
       "      <td>Alice</td>\n",
       "      <td>22</td>\n",
       "      <td>Data Science</td>\n",
       "    </tr>\n",
       "    <tr>\n",
       "      <th>5</th>\n",
       "      <td>Bob</td>\n",
       "      <td>25</td>\n",
       "      <td>Web Development</td>\n",
       "    </tr>\n",
       "  </tbody>\n",
       "</table>\n",
       "</div>"
      ]
     },
     "execution_count": 2,
     "metadata": {},
     "output_type": "execute_result"
    }
   ],
   "execution_count": 2
  },
  {
   "metadata": {},
   "cell_type": "markdown",
   "source": "## Preview the top 2 rows of the DataFrame",
   "id": "7e7681b6158d3fbc"
  },
  {
   "metadata": {
    "ExecuteTime": {
     "end_time": "2024-07-05T07:23:20.022274Z",
     "start_time": "2024-07-05T07:23:20.003861Z"
    }
   },
   "cell_type": "code",
   "source": [
    "# Preview the top 2 rows of the DataFrame\n",
    "preview_head_defined = students_df.head(2)\n",
    "preview_head_defined"
   ],
   "id": "60e131f0eea0543",
   "outputs": [
    {
     "data": {
      "text/plain": [
       "   Name  Age              Course\n",
       "1  Eric   40    Machine Learning\n",
       "2   Ivy   37  Project Management"
      ],
      "text/html": [
       "<div>\n",
       "<style scoped>\n",
       "    .dataframe tbody tr th:only-of-type {\n",
       "        vertical-align: middle;\n",
       "    }\n",
       "\n",
       "    .dataframe tbody tr th {\n",
       "        vertical-align: top;\n",
       "    }\n",
       "\n",
       "    .dataframe thead th {\n",
       "        text-align: right;\n",
       "    }\n",
       "</style>\n",
       "<table border=\"1\" class=\"dataframe\">\n",
       "  <thead>\n",
       "    <tr style=\"text-align: right;\">\n",
       "      <th></th>\n",
       "      <th>Name</th>\n",
       "      <th>Age</th>\n",
       "      <th>Course</th>\n",
       "    </tr>\n",
       "  </thead>\n",
       "  <tbody>\n",
       "    <tr>\n",
       "      <th>1</th>\n",
       "      <td>Eric</td>\n",
       "      <td>40</td>\n",
       "      <td>Machine Learning</td>\n",
       "    </tr>\n",
       "    <tr>\n",
       "      <th>2</th>\n",
       "      <td>Ivy</td>\n",
       "      <td>37</td>\n",
       "      <td>Project Management</td>\n",
       "    </tr>\n",
       "  </tbody>\n",
       "</table>\n",
       "</div>"
      ]
     },
     "execution_count": 3,
     "metadata": {},
     "output_type": "execute_result"
    }
   ],
   "execution_count": 3
  },
  {
   "metadata": {},
   "cell_type": "markdown",
   "source": "## Preview the bottom 5 rows of the DataFrame (default behavior)",
   "id": "6806b3ce6ddd950f"
  },
  {
   "metadata": {
    "ExecuteTime": {
     "end_time": "2024-07-05T07:23:47.009040Z",
     "start_time": "2024-07-05T07:23:46.999109Z"
    }
   },
   "cell_type": "code",
   "source": [
    "# Preview the bottom 5 rows of the DataFrame (default behavior)\n",
    "preview_tail_default = students_df.tail()\n",
    "preview_tail_default"
   ],
   "id": "f86615d7f10d7f0f",
   "outputs": [
    {
     "data": {
      "text/plain": [
       "      Name  Age                Course\n",
       "5      Bob   25       Web Development\n",
       "6  Charlie   23        Cyber Security\n",
       "7    Diana   28       AI and Robotics\n",
       "8   Edward   21       Cloud Computing\n",
       "9    Fiona   24  Software Engineering"
      ],
      "text/html": [
       "<div>\n",
       "<style scoped>\n",
       "    .dataframe tbody tr th:only-of-type {\n",
       "        vertical-align: middle;\n",
       "    }\n",
       "\n",
       "    .dataframe tbody tr th {\n",
       "        vertical-align: top;\n",
       "    }\n",
       "\n",
       "    .dataframe thead th {\n",
       "        text-align: right;\n",
       "    }\n",
       "</style>\n",
       "<table border=\"1\" class=\"dataframe\">\n",
       "  <thead>\n",
       "    <tr style=\"text-align: right;\">\n",
       "      <th></th>\n",
       "      <th>Name</th>\n",
       "      <th>Age</th>\n",
       "      <th>Course</th>\n",
       "    </tr>\n",
       "  </thead>\n",
       "  <tbody>\n",
       "    <tr>\n",
       "      <th>5</th>\n",
       "      <td>Bob</td>\n",
       "      <td>25</td>\n",
       "      <td>Web Development</td>\n",
       "    </tr>\n",
       "    <tr>\n",
       "      <th>6</th>\n",
       "      <td>Charlie</td>\n",
       "      <td>23</td>\n",
       "      <td>Cyber Security</td>\n",
       "    </tr>\n",
       "    <tr>\n",
       "      <th>7</th>\n",
       "      <td>Diana</td>\n",
       "      <td>28</td>\n",
       "      <td>AI and Robotics</td>\n",
       "    </tr>\n",
       "    <tr>\n",
       "      <th>8</th>\n",
       "      <td>Edward</td>\n",
       "      <td>21</td>\n",
       "      <td>Cloud Computing</td>\n",
       "    </tr>\n",
       "    <tr>\n",
       "      <th>9</th>\n",
       "      <td>Fiona</td>\n",
       "      <td>24</td>\n",
       "      <td>Software Engineering</td>\n",
       "    </tr>\n",
       "  </tbody>\n",
       "</table>\n",
       "</div>"
      ]
     },
     "execution_count": 4,
     "metadata": {},
     "output_type": "execute_result"
    }
   ],
   "execution_count": 4
  },
  {
   "metadata": {},
   "cell_type": "markdown",
   "source": "## Preview the bottom 2 rows of the DataFrame",
   "id": "a4cf7687eebc7e97"
  },
  {
   "metadata": {
    "ExecuteTime": {
     "end_time": "2024-07-05T07:24:13.853997Z",
     "start_time": "2024-07-05T07:24:13.837513Z"
    }
   },
   "cell_type": "code",
   "source": [
    "# Preview the bottom 2 rows of the DataFrame\n",
    "preview_tail_defined = students_df.tail(2)\n",
    "preview_tail_defined"
   ],
   "id": "be76ba53fb859e2a",
   "outputs": [
    {
     "data": {
      "text/plain": [
       "     Name  Age                Course\n",
       "8  Edward   21       Cloud Computing\n",
       "9   Fiona   24  Software Engineering"
      ],
      "text/html": [
       "<div>\n",
       "<style scoped>\n",
       "    .dataframe tbody tr th:only-of-type {\n",
       "        vertical-align: middle;\n",
       "    }\n",
       "\n",
       "    .dataframe tbody tr th {\n",
       "        vertical-align: top;\n",
       "    }\n",
       "\n",
       "    .dataframe thead th {\n",
       "        text-align: right;\n",
       "    }\n",
       "</style>\n",
       "<table border=\"1\" class=\"dataframe\">\n",
       "  <thead>\n",
       "    <tr style=\"text-align: right;\">\n",
       "      <th></th>\n",
       "      <th>Name</th>\n",
       "      <th>Age</th>\n",
       "      <th>Course</th>\n",
       "    </tr>\n",
       "  </thead>\n",
       "  <tbody>\n",
       "    <tr>\n",
       "      <th>8</th>\n",
       "      <td>Edward</td>\n",
       "      <td>21</td>\n",
       "      <td>Cloud Computing</td>\n",
       "    </tr>\n",
       "    <tr>\n",
       "      <th>9</th>\n",
       "      <td>Fiona</td>\n",
       "      <td>24</td>\n",
       "      <td>Software Engineering</td>\n",
       "    </tr>\n",
       "  </tbody>\n",
       "</table>\n",
       "</div>"
      ]
     },
     "execution_count": 5,
     "metadata": {},
     "output_type": "execute_result"
    }
   ],
   "execution_count": 5
  },
  {
   "metadata": {},
   "cell_type": "markdown",
   "source": "## Convert the DataFrame to a NumPy array",
   "id": "f2589b4eea3f86e1"
  },
  {
   "metadata": {
    "ExecuteTime": {
     "end_time": "2024-07-05T07:24:38.167953Z",
     "start_time": "2024-07-05T07:24:38.160249Z"
    }
   },
   "cell_type": "code",
   "source": [
    "# Convert the DataFrame to a NumPy array\n",
    "students_df_to_numpy = students_df.to_numpy()\n",
    "students_df_to_numpy"
   ],
   "id": "717fdac238b58882",
   "outputs": [
    {
     "data": {
      "text/plain": [
       "array([['Eric', 40, 'Machine Learning'],\n",
       "       ['Ivy', 37, 'Project Management'],\n",
       "       ['Jude', 10, 'Programmer'],\n",
       "       ['Alice', 22, 'Data Science'],\n",
       "       ['Bob', 25, 'Web Development'],\n",
       "       ['Charlie', 23, 'Cyber Security'],\n",
       "       ['Diana', 28, 'AI and Robotics'],\n",
       "       ['Edward', 21, 'Cloud Computing'],\n",
       "       ['Fiona', 24, 'Software Engineering']], dtype=object)"
      ]
     },
     "execution_count": 6,
     "metadata": {},
     "output_type": "execute_result"
    }
   ],
   "execution_count": 6
  },
  {
   "metadata": {},
   "cell_type": "markdown",
   "source": "## Generate descriptive statistics of the DataFrame",
   "id": "8090b0239d401057"
  },
  {
   "metadata": {
    "ExecuteTime": {
     "end_time": "2024-07-05T07:25:07.182096Z",
     "start_time": "2024-07-05T07:25:07.159182Z"
    }
   },
   "cell_type": "code",
   "source": [
    "# Generate descriptive statistics of the DataFrame\n",
    "describe_students_df = students_df.describe()\n",
    "describe_students_df"
   ],
   "id": "24c0be4d6392443a",
   "outputs": [
    {
     "data": {
      "text/plain": [
       "             Age\n",
       "count   9.000000\n",
       "mean   25.555556\n",
       "std     8.875685\n",
       "min    10.000000\n",
       "25%    22.000000\n",
       "50%    24.000000\n",
       "75%    28.000000\n",
       "max    40.000000"
      ],
      "text/html": [
       "<div>\n",
       "<style scoped>\n",
       "    .dataframe tbody tr th:only-of-type {\n",
       "        vertical-align: middle;\n",
       "    }\n",
       "\n",
       "    .dataframe tbody tr th {\n",
       "        vertical-align: top;\n",
       "    }\n",
       "\n",
       "    .dataframe thead th {\n",
       "        text-align: right;\n",
       "    }\n",
       "</style>\n",
       "<table border=\"1\" class=\"dataframe\">\n",
       "  <thead>\n",
       "    <tr style=\"text-align: right;\">\n",
       "      <th></th>\n",
       "      <th>Age</th>\n",
       "    </tr>\n",
       "  </thead>\n",
       "  <tbody>\n",
       "    <tr>\n",
       "      <th>count</th>\n",
       "      <td>9.000000</td>\n",
       "    </tr>\n",
       "    <tr>\n",
       "      <th>mean</th>\n",
       "      <td>25.555556</td>\n",
       "    </tr>\n",
       "    <tr>\n",
       "      <th>std</th>\n",
       "      <td>8.875685</td>\n",
       "    </tr>\n",
       "    <tr>\n",
       "      <th>min</th>\n",
       "      <td>10.000000</td>\n",
       "    </tr>\n",
       "    <tr>\n",
       "      <th>25%</th>\n",
       "      <td>22.000000</td>\n",
       "    </tr>\n",
       "    <tr>\n",
       "      <th>50%</th>\n",
       "      <td>24.000000</td>\n",
       "    </tr>\n",
       "    <tr>\n",
       "      <th>75%</th>\n",
       "      <td>28.000000</td>\n",
       "    </tr>\n",
       "    <tr>\n",
       "      <th>max</th>\n",
       "      <td>40.000000</td>\n",
       "    </tr>\n",
       "  </tbody>\n",
       "</table>\n",
       "</div>"
      ]
     },
     "execution_count": 7,
     "metadata": {},
     "output_type": "execute_result"
    }
   ],
   "execution_count": 7
  },
  {
   "metadata": {},
   "cell_type": "markdown",
   "source": "## Transpose the DataFrame",
   "id": "8702cc5940de9efe"
  },
  {
   "metadata": {
    "ExecuteTime": {
     "end_time": "2024-07-05T07:25:41.851633Z",
     "start_time": "2024-07-05T07:25:41.838115Z"
    }
   },
   "cell_type": "code",
   "source": [
    "# Transpose the DataFrame\n",
    "transpose_students_df = students_df.T\n",
    "transpose_students_df"
   ],
   "id": "64b42298741b35d1",
   "outputs": [
    {
     "data": {
      "text/plain": [
       "                       1                   2           3             4  \\\n",
       "Name                Eric                 Ivy        Jude         Alice   \n",
       "Age                   40                  37          10            22   \n",
       "Course  Machine Learning  Project Management  Programmer  Data Science   \n",
       "\n",
       "                      5               6                7                8  \\\n",
       "Name                Bob         Charlie            Diana           Edward   \n",
       "Age                  25              23               28               21   \n",
       "Course  Web Development  Cyber Security  AI and Robotics  Cloud Computing   \n",
       "\n",
       "                           9  \n",
       "Name                   Fiona  \n",
       "Age                       24  \n",
       "Course  Software Engineering  "
      ],
      "text/html": [
       "<div>\n",
       "<style scoped>\n",
       "    .dataframe tbody tr th:only-of-type {\n",
       "        vertical-align: middle;\n",
       "    }\n",
       "\n",
       "    .dataframe tbody tr th {\n",
       "        vertical-align: top;\n",
       "    }\n",
       "\n",
       "    .dataframe thead th {\n",
       "        text-align: right;\n",
       "    }\n",
       "</style>\n",
       "<table border=\"1\" class=\"dataframe\">\n",
       "  <thead>\n",
       "    <tr style=\"text-align: right;\">\n",
       "      <th></th>\n",
       "      <th>1</th>\n",
       "      <th>2</th>\n",
       "      <th>3</th>\n",
       "      <th>4</th>\n",
       "      <th>5</th>\n",
       "      <th>6</th>\n",
       "      <th>7</th>\n",
       "      <th>8</th>\n",
       "      <th>9</th>\n",
       "    </tr>\n",
       "  </thead>\n",
       "  <tbody>\n",
       "    <tr>\n",
       "      <th>Name</th>\n",
       "      <td>Eric</td>\n",
       "      <td>Ivy</td>\n",
       "      <td>Jude</td>\n",
       "      <td>Alice</td>\n",
       "      <td>Bob</td>\n",
       "      <td>Charlie</td>\n",
       "      <td>Diana</td>\n",
       "      <td>Edward</td>\n",
       "      <td>Fiona</td>\n",
       "    </tr>\n",
       "    <tr>\n",
       "      <th>Age</th>\n",
       "      <td>40</td>\n",
       "      <td>37</td>\n",
       "      <td>10</td>\n",
       "      <td>22</td>\n",
       "      <td>25</td>\n",
       "      <td>23</td>\n",
       "      <td>28</td>\n",
       "      <td>21</td>\n",
       "      <td>24</td>\n",
       "    </tr>\n",
       "    <tr>\n",
       "      <th>Course</th>\n",
       "      <td>Machine Learning</td>\n",
       "      <td>Project Management</td>\n",
       "      <td>Programmer</td>\n",
       "      <td>Data Science</td>\n",
       "      <td>Web Development</td>\n",
       "      <td>Cyber Security</td>\n",
       "      <td>AI and Robotics</td>\n",
       "      <td>Cloud Computing</td>\n",
       "      <td>Software Engineering</td>\n",
       "    </tr>\n",
       "  </tbody>\n",
       "</table>\n",
       "</div>"
      ]
     },
     "execution_count": 8,
     "metadata": {},
     "output_type": "execute_result"
    }
   ],
   "execution_count": 8
  },
  {
   "metadata": {},
   "cell_type": "markdown",
   "source": "## Sort the DataFrame columns in descending order",
   "id": "4199f59ec8146c1e"
  },
  {
   "metadata": {
    "ExecuteTime": {
     "end_time": "2024-07-05T07:26:15.147848Z",
     "start_time": "2024-07-05T07:26:15.132695Z"
    }
   },
   "cell_type": "code",
   "source": [
    "# Sort the DataFrame columns in descending order\n",
    "sort_by_index_students_df = students_df.sort_index(axis=1, ascending=False)\n",
    "sort_by_index_students_df"
   ],
   "id": "ae6ab52ee357958b",
   "outputs": [
    {
     "data": {
      "text/plain": [
       "      Name                Course  Age\n",
       "1     Eric      Machine Learning   40\n",
       "2      Ivy    Project Management   37\n",
       "3     Jude            Programmer   10\n",
       "4    Alice          Data Science   22\n",
       "5      Bob       Web Development   25\n",
       "6  Charlie        Cyber Security   23\n",
       "7    Diana       AI and Robotics   28\n",
       "8   Edward       Cloud Computing   21\n",
       "9    Fiona  Software Engineering   24"
      ],
      "text/html": [
       "<div>\n",
       "<style scoped>\n",
       "    .dataframe tbody tr th:only-of-type {\n",
       "        vertical-align: middle;\n",
       "    }\n",
       "\n",
       "    .dataframe tbody tr th {\n",
       "        vertical-align: top;\n",
       "    }\n",
       "\n",
       "    .dataframe thead th {\n",
       "        text-align: right;\n",
       "    }\n",
       "</style>\n",
       "<table border=\"1\" class=\"dataframe\">\n",
       "  <thead>\n",
       "    <tr style=\"text-align: right;\">\n",
       "      <th></th>\n",
       "      <th>Name</th>\n",
       "      <th>Course</th>\n",
       "      <th>Age</th>\n",
       "    </tr>\n",
       "  </thead>\n",
       "  <tbody>\n",
       "    <tr>\n",
       "      <th>1</th>\n",
       "      <td>Eric</td>\n",
       "      <td>Machine Learning</td>\n",
       "      <td>40</td>\n",
       "    </tr>\n",
       "    <tr>\n",
       "      <th>2</th>\n",
       "      <td>Ivy</td>\n",
       "      <td>Project Management</td>\n",
       "      <td>37</td>\n",
       "    </tr>\n",
       "    <tr>\n",
       "      <th>3</th>\n",
       "      <td>Jude</td>\n",
       "      <td>Programmer</td>\n",
       "      <td>10</td>\n",
       "    </tr>\n",
       "    <tr>\n",
       "      <th>4</th>\n",
       "      <td>Alice</td>\n",
       "      <td>Data Science</td>\n",
       "      <td>22</td>\n",
       "    </tr>\n",
       "    <tr>\n",
       "      <th>5</th>\n",
       "      <td>Bob</td>\n",
       "      <td>Web Development</td>\n",
       "      <td>25</td>\n",
       "    </tr>\n",
       "    <tr>\n",
       "      <th>6</th>\n",
       "      <td>Charlie</td>\n",
       "      <td>Cyber Security</td>\n",
       "      <td>23</td>\n",
       "    </tr>\n",
       "    <tr>\n",
       "      <th>7</th>\n",
       "      <td>Diana</td>\n",
       "      <td>AI and Robotics</td>\n",
       "      <td>28</td>\n",
       "    </tr>\n",
       "    <tr>\n",
       "      <th>8</th>\n",
       "      <td>Edward</td>\n",
       "      <td>Cloud Computing</td>\n",
       "      <td>21</td>\n",
       "    </tr>\n",
       "    <tr>\n",
       "      <th>9</th>\n",
       "      <td>Fiona</td>\n",
       "      <td>Software Engineering</td>\n",
       "      <td>24</td>\n",
       "    </tr>\n",
       "  </tbody>\n",
       "</table>\n",
       "</div>"
      ]
     },
     "execution_count": 9,
     "metadata": {},
     "output_type": "execute_result"
    }
   ],
   "execution_count": 9
  },
  {
   "metadata": {},
   "cell_type": "markdown",
   "source": "## Sort the DataFrame rows by the 'Age' column in descending order",
   "id": "9166b3b58d05aa15"
  },
  {
   "metadata": {
    "ExecuteTime": {
     "end_time": "2024-07-05T07:26:47.568735Z",
     "start_time": "2024-07-05T07:26:47.543720Z"
    }
   },
   "cell_type": "code",
   "source": [
    "# Sort the DataFrame rows by the 'Age' column in descending order\n",
    "sort_by_value_students_df = students_df.sort_values(by='Age', ascending=False)\n",
    "sort_by_value_students_df"
   ],
   "id": "f58b76737001801f",
   "outputs": [
    {
     "data": {
      "text/plain": [
       "      Name  Age                Course\n",
       "1     Eric   40      Machine Learning\n",
       "2      Ivy   37    Project Management\n",
       "7    Diana   28       AI and Robotics\n",
       "5      Bob   25       Web Development\n",
       "9    Fiona   24  Software Engineering\n",
       "6  Charlie   23        Cyber Security\n",
       "4    Alice   22          Data Science\n",
       "8   Edward   21       Cloud Computing\n",
       "3     Jude   10            Programmer"
      ],
      "text/html": [
       "<div>\n",
       "<style scoped>\n",
       "    .dataframe tbody tr th:only-of-type {\n",
       "        vertical-align: middle;\n",
       "    }\n",
       "\n",
       "    .dataframe tbody tr th {\n",
       "        vertical-align: top;\n",
       "    }\n",
       "\n",
       "    .dataframe thead th {\n",
       "        text-align: right;\n",
       "    }\n",
       "</style>\n",
       "<table border=\"1\" class=\"dataframe\">\n",
       "  <thead>\n",
       "    <tr style=\"text-align: right;\">\n",
       "      <th></th>\n",
       "      <th>Name</th>\n",
       "      <th>Age</th>\n",
       "      <th>Course</th>\n",
       "    </tr>\n",
       "  </thead>\n",
       "  <tbody>\n",
       "    <tr>\n",
       "      <th>1</th>\n",
       "      <td>Eric</td>\n",
       "      <td>40</td>\n",
       "      <td>Machine Learning</td>\n",
       "    </tr>\n",
       "    <tr>\n",
       "      <th>2</th>\n",
       "      <td>Ivy</td>\n",
       "      <td>37</td>\n",
       "      <td>Project Management</td>\n",
       "    </tr>\n",
       "    <tr>\n",
       "      <th>7</th>\n",
       "      <td>Diana</td>\n",
       "      <td>28</td>\n",
       "      <td>AI and Robotics</td>\n",
       "    </tr>\n",
       "    <tr>\n",
       "      <th>5</th>\n",
       "      <td>Bob</td>\n",
       "      <td>25</td>\n",
       "      <td>Web Development</td>\n",
       "    </tr>\n",
       "    <tr>\n",
       "      <th>9</th>\n",
       "      <td>Fiona</td>\n",
       "      <td>24</td>\n",
       "      <td>Software Engineering</td>\n",
       "    </tr>\n",
       "    <tr>\n",
       "      <th>6</th>\n",
       "      <td>Charlie</td>\n",
       "      <td>23</td>\n",
       "      <td>Cyber Security</td>\n",
       "    </tr>\n",
       "    <tr>\n",
       "      <th>4</th>\n",
       "      <td>Alice</td>\n",
       "      <td>22</td>\n",
       "      <td>Data Science</td>\n",
       "    </tr>\n",
       "    <tr>\n",
       "      <th>8</th>\n",
       "      <td>Edward</td>\n",
       "      <td>21</td>\n",
       "      <td>Cloud Computing</td>\n",
       "    </tr>\n",
       "    <tr>\n",
       "      <th>3</th>\n",
       "      <td>Jude</td>\n",
       "      <td>10</td>\n",
       "      <td>Programmer</td>\n",
       "    </tr>\n",
       "  </tbody>\n",
       "</table>\n",
       "</div>"
      ]
     },
     "execution_count": 10,
     "metadata": {},
     "output_type": "execute_result"
    }
   ],
   "execution_count": 10
  }
 ],
 "metadata": {
  "kernelspec": {
   "display_name": "Python 3",
   "language": "python",
   "name": "python3"
  },
  "language_info": {
   "codemirror_mode": {
    "name": "ipython",
    "version": 2
   },
   "file_extension": ".py",
   "mimetype": "text/x-python",
   "name": "python",
   "nbconvert_exporter": "python",
   "pygments_lexer": "ipython2",
   "version": "2.7.6"
  }
 },
 "nbformat": 4,
 "nbformat_minor": 5
}
