{
 "cells": [
  {
   "metadata": {},
   "cell_type": "markdown",
   "source": [
    "# Handling Categorical Data in Pandas\n",
    "\n",
    "This notebook demonstrates various operations for handling categorical data in Pandas, including converting columns to categorical types, counting categories, adding and removing categories, renaming categories, and sorting. It also shows how to visualize categorical data using Seaborn."
   ],
   "id": "4903d3a25098ffa9"
  },
  {
   "metadata": {
    "ExecuteTime": {
     "end_time": "2024-07-10T09:46:45.496993Z",
     "start_time": "2024-07-10T09:46:45.492406Z"
    }
   },
   "cell_type": "code",
   "source": [
    "import pandas as pd\n",
    "import seaborn as sns\n",
    "import matplotlib.pyplot as plt"
   ],
   "id": "f791819e5b646de8",
   "outputs": [],
   "execution_count": 83
  },
  {
   "metadata": {},
   "cell_type": "markdown",
   "source": [
    "## Creating a Sample DataFrame\n",
    "\n",
    "We will create a DataFrame to represent fruit data, including fruit types and quantities."
   ],
   "id": "7c28d419d2c03b37"
  },
  {
   "metadata": {
    "ExecuteTime": {
     "end_time": "2024-07-10T09:46:45.526815Z",
     "start_time": "2024-07-10T09:46:45.517273Z"
    }
   },
   "cell_type": "code",
   "source": [
    "# Create a dictionary with sample data\n",
    "data = {\n",
    "    'Fruit': ['Apple', 'Banana', 'Apple', 'Orange', 'Banana', 'Banana'],\n",
    "    'Quantity': [10, 5, 8, 3, 7, 2]\n",
    "}\n",
    "\n",
    "# Create a Pandas DataFrame from the dictionary\n",
    "df = pd.DataFrame(data)\n",
    "\n",
    "# Display the DataFrame\n",
    "df"
   ],
   "id": "fae964271cccbde7",
   "outputs": [
    {
     "data": {
      "text/plain": [
       "    Fruit  Quantity\n",
       "0   Apple        10\n",
       "1  Banana         5\n",
       "2   Apple         8\n",
       "3  Orange         3\n",
       "4  Banana         7\n",
       "5  Banana         2"
      ],
      "text/html": [
       "<div>\n",
       "<style scoped>\n",
       "    .dataframe tbody tr th:only-of-type {\n",
       "        vertical-align: middle;\n",
       "    }\n",
       "\n",
       "    .dataframe tbody tr th {\n",
       "        vertical-align: top;\n",
       "    }\n",
       "\n",
       "    .dataframe thead th {\n",
       "        text-align: right;\n",
       "    }\n",
       "</style>\n",
       "<table border=\"1\" class=\"dataframe\">\n",
       "  <thead>\n",
       "    <tr style=\"text-align: right;\">\n",
       "      <th></th>\n",
       "      <th>Fruit</th>\n",
       "      <th>Quantity</th>\n",
       "    </tr>\n",
       "  </thead>\n",
       "  <tbody>\n",
       "    <tr>\n",
       "      <th>0</th>\n",
       "      <td>Apple</td>\n",
       "      <td>10</td>\n",
       "    </tr>\n",
       "    <tr>\n",
       "      <th>1</th>\n",
       "      <td>Banana</td>\n",
       "      <td>5</td>\n",
       "    </tr>\n",
       "    <tr>\n",
       "      <th>2</th>\n",
       "      <td>Apple</td>\n",
       "      <td>8</td>\n",
       "    </tr>\n",
       "    <tr>\n",
       "      <th>3</th>\n",
       "      <td>Orange</td>\n",
       "      <td>3</td>\n",
       "    </tr>\n",
       "    <tr>\n",
       "      <th>4</th>\n",
       "      <td>Banana</td>\n",
       "      <td>7</td>\n",
       "    </tr>\n",
       "    <tr>\n",
       "      <th>5</th>\n",
       "      <td>Banana</td>\n",
       "      <td>2</td>\n",
       "    </tr>\n",
       "  </tbody>\n",
       "</table>\n",
       "</div>"
      ]
     },
     "execution_count": 84,
     "metadata": {},
     "output_type": "execute_result"
    }
   ],
   "execution_count": 84
  },
  {
   "metadata": {},
   "cell_type": "markdown",
   "source": [
    "## Converting a Column to Categorical\n",
    "\n",
    "We will convert the 'Fruit' column to a categorical type to optimize memory usage and improve performance."
   ],
   "id": "c7b4e18dc381ebea"
  },
  {
   "metadata": {
    "ExecuteTime": {
     "end_time": "2024-07-10T09:46:45.540831Z",
     "start_time": "2024-07-10T09:46:45.533183Z"
    }
   },
   "cell_type": "code",
   "source": [
    "# Convert 'Fruit' column to categorical\n",
    "df['Fruit'] = df['Fruit'].astype('category')\n",
    "\n",
    "\n",
    "# Display the data types of the DataFrame\n",
    "df.dtypes"
   ],
   "id": "1ec3ccaddc55f7d0",
   "outputs": [
    {
     "data": {
      "text/plain": [
       "Fruit       category\n",
       "Quantity       int64\n",
       "dtype: object"
      ]
     },
     "execution_count": 85,
     "metadata": {},
     "output_type": "execute_result"
    }
   ],
   "execution_count": 85
  },
  {
   "metadata": {},
   "cell_type": "markdown",
   "source": [
    "## Counting the Number of Each Category\n",
    "\n",
    "We will count the number of occurrences of each category in the 'Fruit' column."
   ],
   "id": "d7ffd7164f2b879f"
  },
  {
   "metadata": {
    "ExecuteTime": {
     "end_time": "2024-07-10T09:46:45.554248Z",
     "start_time": "2024-07-10T09:46:45.545823Z"
    }
   },
   "cell_type": "code",
   "source": [
    "# Count the number of each category\n",
    "fruit_counts = df['Fruit'].value_counts()\n",
    "\n",
    "# Display the counts of each category\n",
    "fruit_counts"
   ],
   "id": "5aafebca81e020d1",
   "outputs": [
    {
     "data": {
      "text/plain": [
       "Fruit\n",
       "Banana    3\n",
       "Apple     2\n",
       "Orange    1\n",
       "Name: count, dtype: int64"
      ]
     },
     "execution_count": 86,
     "metadata": {},
     "output_type": "execute_result"
    }
   ],
   "execution_count": 86
  },
  {
   "metadata": {},
   "cell_type": "markdown",
   "source": [
    "## Adding a New Category\n",
    "\n",
    "We will add a new category 'Grape' to the 'Fruit' column."
   ],
   "id": "983217552493732b"
  },
  {
   "metadata": {
    "ExecuteTime": {
     "end_time": "2024-07-10T09:46:45.563940Z",
     "start_time": "2024-07-10T09:46:45.556259Z"
    }
   },
   "cell_type": "code",
   "source": [
    "# Add a new category\n",
    "df['Fruit'] = df['Fruit'].cat.add_categories(['Grape'])\n",
    "\n",
    "# Display the categories of the 'Fruit' column\n",
    "df['Fruit'].cat.categories"
   ],
   "id": "77e9a52ee2f85ae4",
   "outputs": [
    {
     "data": {
      "text/plain": [
       "Index(['Apple', 'Banana', 'Orange', 'Grape'], dtype='object')"
      ]
     },
     "execution_count": 87,
     "metadata": {},
     "output_type": "execute_result"
    }
   ],
   "execution_count": 87
  },
  {
   "metadata": {},
   "cell_type": "markdown",
   "source": [
    "## Removing a Category\n",
    "\n",
    "We will remove the category 'Orange' from the 'Fruit' column."
   ],
   "id": "a3df4a0e081982b2"
  },
  {
   "metadata": {
    "ExecuteTime": {
     "end_time": "2024-07-10T09:46:45.580202Z",
     "start_time": "2024-07-10T09:46:45.573915Z"
    }
   },
   "cell_type": "code",
   "source": [
    "# Remove a category\n",
    "df['Fruit'] = df['Fruit'].cat.remove_categories(['Orange'])\n",
    "\n",
    "# Display the categories of the 'Fruit' column\n",
    "df['Fruit'].cat.categories"
   ],
   "id": "632f20aedcdc0bee",
   "outputs": [
    {
     "data": {
      "text/plain": [
       "Index(['Apple', 'Banana', 'Grape'], dtype='object')"
      ]
     },
     "execution_count": 88,
     "metadata": {},
     "output_type": "execute_result"
    }
   ],
   "execution_count": 88
  },
  {
   "metadata": {},
   "cell_type": "markdown",
   "source": [
    "## Renaming Categories\n",
    "\n",
    "We will rename the categories in the 'Fruit' column to more descriptive names."
   ],
   "id": "cbbbfbe814979160"
  },
  {
   "metadata": {
    "ExecuteTime": {
     "end_time": "2024-07-10T09:46:45.606112Z",
     "start_time": "2024-07-10T09:46:45.599278Z"
    }
   },
   "cell_type": "code",
   "source": [
    "# Rename categories\n",
    "df['Fruit'] = df['Fruit'].cat.rename_categories({'Apple': 'Red Apple', 'Banana': 'Yellow Banana'})\n",
    "\n",
    "# Display the DataFrame\n",
    "df"
   ],
   "id": "ffff6a13de5400a4",
   "outputs": [
    {
     "data": {
      "text/plain": [
       "           Fruit  Quantity\n",
       "0      Red Apple        10\n",
       "1  Yellow Banana         5\n",
       "2      Red Apple         8\n",
       "3            NaN         3\n",
       "4  Yellow Banana         7\n",
       "5  Yellow Banana         2"
      ],
      "text/html": [
       "<div>\n",
       "<style scoped>\n",
       "    .dataframe tbody tr th:only-of-type {\n",
       "        vertical-align: middle;\n",
       "    }\n",
       "\n",
       "    .dataframe tbody tr th {\n",
       "        vertical-align: top;\n",
       "    }\n",
       "\n",
       "    .dataframe thead th {\n",
       "        text-align: right;\n",
       "    }\n",
       "</style>\n",
       "<table border=\"1\" class=\"dataframe\">\n",
       "  <thead>\n",
       "    <tr style=\"text-align: right;\">\n",
       "      <th></th>\n",
       "      <th>Fruit</th>\n",
       "      <th>Quantity</th>\n",
       "    </tr>\n",
       "  </thead>\n",
       "  <tbody>\n",
       "    <tr>\n",
       "      <th>0</th>\n",
       "      <td>Red Apple</td>\n",
       "      <td>10</td>\n",
       "    </tr>\n",
       "    <tr>\n",
       "      <th>1</th>\n",
       "      <td>Yellow Banana</td>\n",
       "      <td>5</td>\n",
       "    </tr>\n",
       "    <tr>\n",
       "      <th>2</th>\n",
       "      <td>Red Apple</td>\n",
       "      <td>8</td>\n",
       "    </tr>\n",
       "    <tr>\n",
       "      <th>3</th>\n",
       "      <td>NaN</td>\n",
       "      <td>3</td>\n",
       "    </tr>\n",
       "    <tr>\n",
       "      <th>4</th>\n",
       "      <td>Yellow Banana</td>\n",
       "      <td>7</td>\n",
       "    </tr>\n",
       "    <tr>\n",
       "      <th>5</th>\n",
       "      <td>Yellow Banana</td>\n",
       "      <td>2</td>\n",
       "    </tr>\n",
       "  </tbody>\n",
       "</table>\n",
       "</div>"
      ]
     },
     "execution_count": 89,
     "metadata": {},
     "output_type": "execute_result"
    }
   ],
   "execution_count": 89
  },
  {
   "metadata": {
    "ExecuteTime": {
     "end_time": "2024-07-10T09:46:45.679714Z",
     "start_time": "2024-07-10T09:46:45.674916Z"
    }
   },
   "cell_type": "code",
   "source": [
    "# Display the categories of the 'Fruit' column\n",
    "df['Fruit'].cat.categories"
   ],
   "id": "300b4b9d15fd5ab1",
   "outputs": [
    {
     "data": {
      "text/plain": [
       "Index(['Red Apple', 'Yellow Banana', 'Grape'], dtype='object')"
      ]
     },
     "execution_count": 90,
     "metadata": {},
     "output_type": "execute_result"
    }
   ],
   "execution_count": 90
  },
  {
   "metadata": {},
   "cell_type": "markdown",
   "source": [
    "## Sorting and Ordering\n",
    "\n",
    "We will define a specific order for the categories and sort the DataFrame based on this order."
   ],
   "id": "d3675226dcb4fb8d"
  },
  {
   "metadata": {
    "ExecuteTime": {
     "end_time": "2024-07-10T09:43:01.507820Z",
     "start_time": "2024-07-10T09:43:01.498391Z"
    }
   },
   "cell_type": "code",
   "source": [
    "# Define a specific order for the categories\n",
    "df['Fruit'] = df['Fruit'].cat.reorder_categories(['Yellow Banana', 'Red Apple', 'Grape'], ordered=True)\n",
    "\n",
    "# Sort the DataFrame based on the categorical order\n",
    "sorted_df = df.sort_values(by='Fruit')\n",
    "\n",
    "# Display the sorted DataFrame\n",
    "sorted_df"
   ],
   "id": "371497b6c0de7053",
   "outputs": [
    {
     "data": {
      "text/plain": [
       "           Fruit  Quantity\n",
       "1  Yellow Banana         5\n",
       "4  Yellow Banana         7\n",
       "5  Yellow Banana         2\n",
       "0      Red Apple        10\n",
       "2      Red Apple         8\n",
       "3            NaN         3"
      ],
      "text/html": [
       "<div>\n",
       "<style scoped>\n",
       "    .dataframe tbody tr th:only-of-type {\n",
       "        vertical-align: middle;\n",
       "    }\n",
       "\n",
       "    .dataframe tbody tr th {\n",
       "        vertical-align: top;\n",
       "    }\n",
       "\n",
       "    .dataframe thead th {\n",
       "        text-align: right;\n",
       "    }\n",
       "</style>\n",
       "<table border=\"1\" class=\"dataframe\">\n",
       "  <thead>\n",
       "    <tr style=\"text-align: right;\">\n",
       "      <th></th>\n",
       "      <th>Fruit</th>\n",
       "      <th>Quantity</th>\n",
       "    </tr>\n",
       "  </thead>\n",
       "  <tbody>\n",
       "    <tr>\n",
       "      <th>1</th>\n",
       "      <td>Yellow Banana</td>\n",
       "      <td>5</td>\n",
       "    </tr>\n",
       "    <tr>\n",
       "      <th>4</th>\n",
       "      <td>Yellow Banana</td>\n",
       "      <td>7</td>\n",
       "    </tr>\n",
       "    <tr>\n",
       "      <th>5</th>\n",
       "      <td>Yellow Banana</td>\n",
       "      <td>2</td>\n",
       "    </tr>\n",
       "    <tr>\n",
       "      <th>0</th>\n",
       "      <td>Red Apple</td>\n",
       "      <td>10</td>\n",
       "    </tr>\n",
       "    <tr>\n",
       "      <th>2</th>\n",
       "      <td>Red Apple</td>\n",
       "      <td>8</td>\n",
       "    </tr>\n",
       "    <tr>\n",
       "      <th>3</th>\n",
       "      <td>NaN</td>\n",
       "      <td>3</td>\n",
       "    </tr>\n",
       "  </tbody>\n",
       "</table>\n",
       "</div>"
      ]
     },
     "execution_count": 78,
     "metadata": {},
     "output_type": "execute_result"
    }
   ],
   "execution_count": 78
  }
 ],
 "metadata": {
  "kernelspec": {
   "display_name": "Python 3",
   "language": "python",
   "name": "python3"
  },
  "language_info": {
   "codemirror_mode": {
    "name": "ipython",
    "version": 2
   },
   "file_extension": ".py",
   "mimetype": "text/x-python",
   "name": "python",
   "nbconvert_exporter": "python",
   "pygments_lexer": "ipython2",
   "version": "2.7.6"
  }
 },
 "nbformat": 4,
 "nbformat_minor": 5
}
