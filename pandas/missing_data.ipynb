{
 "cells": [
  {
   "metadata": {},
   "cell_type": "markdown",
   "source": [
    "# Handling Missing Data in Pandas DataFrame\n",
    "\n",
    "This notebook demonstrates various techniques for handling missing data in a Pandas DataFrame, including reindexing, filling missing values, and dropping rows with missing data.\n"
   ],
   "id": "25c4a6d91a15393f"
  },
  {
   "metadata": {
    "ExecuteTime": {
     "end_time": "2024-07-06T16:46:20.453696Z",
     "start_time": "2024-07-06T16:46:19.973985Z"
    }
   },
   "cell_type": "code",
   "source": [
    "import pandas as pd\n",
    "import numpy as np"
   ],
   "id": "6e5acb69e0f04c8f",
   "outputs": [],
   "execution_count": 1
  },
  {
   "metadata": {},
   "cell_type": "markdown",
   "source": [
    "## Creating a DataFrame with Missing Data\n",
    "\n",
    "We will create a DataFrame to represent student data, including names, ages, courses, and GPAs. Some data will be missing."
   ],
   "id": "c48e2572bf0353d"
  },
  {
   "metadata": {
    "ExecuteTime": {
     "end_time": "2024-07-06T16:46:53.860377Z",
     "start_time": "2024-07-06T16:46:53.839725Z"
    }
   },
   "cell_type": "code",
   "source": [
    "# Create a dictionary with student data\n",
    "students_data = {\n",
    "    \"Name\": ['Eric', 'Ivy', 'Jude'],\n",
    "    'Age': [40, None, 10],\n",
    "    'Course': ['Machine Learning', 'Project Management', 'Programming'],\n",
    "    'GPA': [4, 3.85, None]\n",
    "}\n",
    "\n",
    "# Create a Pandas DataFrame from the dictionary\n",
    "students_df = pd.DataFrame(students_data)\n",
    "\n",
    "# Display the DataFrame\n",
    "students_df"
   ],
   "id": "b055fe24341894fe",
   "outputs": [
    {
     "data": {
      "text/plain": [
       "   Name   Age              Course   GPA\n",
       "0  Eric  40.0    Machine Learning  4.00\n",
       "1   Ivy   NaN  Project Management  3.85\n",
       "2  Jude  10.0         Programming   NaN"
      ],
      "text/html": [
       "<div>\n",
       "<style scoped>\n",
       "    .dataframe tbody tr th:only-of-type {\n",
       "        vertical-align: middle;\n",
       "    }\n",
       "\n",
       "    .dataframe tbody tr th {\n",
       "        vertical-align: top;\n",
       "    }\n",
       "\n",
       "    .dataframe thead th {\n",
       "        text-align: right;\n",
       "    }\n",
       "</style>\n",
       "<table border=\"1\" class=\"dataframe\">\n",
       "  <thead>\n",
       "    <tr style=\"text-align: right;\">\n",
       "      <th></th>\n",
       "      <th>Name</th>\n",
       "      <th>Age</th>\n",
       "      <th>Course</th>\n",
       "      <th>GPA</th>\n",
       "    </tr>\n",
       "  </thead>\n",
       "  <tbody>\n",
       "    <tr>\n",
       "      <th>0</th>\n",
       "      <td>Eric</td>\n",
       "      <td>40.0</td>\n",
       "      <td>Machine Learning</td>\n",
       "      <td>4.00</td>\n",
       "    </tr>\n",
       "    <tr>\n",
       "      <th>1</th>\n",
       "      <td>Ivy</td>\n",
       "      <td>NaN</td>\n",
       "      <td>Project Management</td>\n",
       "      <td>3.85</td>\n",
       "    </tr>\n",
       "    <tr>\n",
       "      <th>2</th>\n",
       "      <td>Jude</td>\n",
       "      <td>10.0</td>\n",
       "      <td>Programming</td>\n",
       "      <td>NaN</td>\n",
       "    </tr>\n",
       "  </tbody>\n",
       "</table>\n",
       "</div>"
      ]
     },
     "execution_count": 2,
     "metadata": {},
     "output_type": "execute_result"
    }
   ],
   "execution_count": 2
  },
  {
   "metadata": {},
   "cell_type": "markdown",
   "source": [
    "## Reindexing the DataFrame\n",
    "\n",
    "Reindexing allows you to change, add, or delete the index on a specified axis. This returns a copy of the data. Here, we will fill Ivy's age."
   ],
   "id": "8171cd078b6e8366"
  },
  {
   "metadata": {
    "ExecuteTime": {
     "end_time": "2024-07-06T16:48:06.268441Z",
     "start_time": "2024-07-06T16:48:06.250815Z"
    }
   },
   "cell_type": "code",
   "source": [
    "# Create a copy of the DataFrame for reindexing\n",
    "students_df2 = students_df.copy()\n",
    "\n",
    "# Fill Ivy's age\n",
    "students_df2.at[1, 'Age'] = 37\n",
    "\n",
    "# Display the updated DataFrame\n",
    "students_df2"
   ],
   "id": "43a195e2e81a6894",
   "outputs": [
    {
     "data": {
      "text/plain": [
       "   Name   Age              Course   GPA\n",
       "0  Eric  40.0    Machine Learning  4.00\n",
       "1   Ivy  37.0  Project Management  3.85\n",
       "2  Jude  10.0         Programming   NaN"
      ],
      "text/html": [
       "<div>\n",
       "<style scoped>\n",
       "    .dataframe tbody tr th:only-of-type {\n",
       "        vertical-align: middle;\n",
       "    }\n",
       "\n",
       "    .dataframe tbody tr th {\n",
       "        vertical-align: top;\n",
       "    }\n",
       "\n",
       "    .dataframe thead th {\n",
       "        text-align: right;\n",
       "    }\n",
       "</style>\n",
       "<table border=\"1\" class=\"dataframe\">\n",
       "  <thead>\n",
       "    <tr style=\"text-align: right;\">\n",
       "      <th></th>\n",
       "      <th>Name</th>\n",
       "      <th>Age</th>\n",
       "      <th>Course</th>\n",
       "      <th>GPA</th>\n",
       "    </tr>\n",
       "  </thead>\n",
       "  <tbody>\n",
       "    <tr>\n",
       "      <th>0</th>\n",
       "      <td>Eric</td>\n",
       "      <td>40.0</td>\n",
       "      <td>Machine Learning</td>\n",
       "      <td>4.00</td>\n",
       "    </tr>\n",
       "    <tr>\n",
       "      <th>1</th>\n",
       "      <td>Ivy</td>\n",
       "      <td>37.0</td>\n",
       "      <td>Project Management</td>\n",
       "      <td>3.85</td>\n",
       "    </tr>\n",
       "    <tr>\n",
       "      <th>2</th>\n",
       "      <td>Jude</td>\n",
       "      <td>10.0</td>\n",
       "      <td>Programming</td>\n",
       "      <td>NaN</td>\n",
       "    </tr>\n",
       "  </tbody>\n",
       "</table>\n",
       "</div>"
      ]
     },
     "execution_count": 3,
     "metadata": {},
     "output_type": "execute_result"
    }
   ],
   "execution_count": 3
  },
  {
   "metadata": {},
   "cell_type": "markdown",
   "source": [
    "## Dropping Rows with Missing Data\n",
    "\n",
    "The `dropna()` method drops any rows that have missing data."
   ],
   "id": "118de8d79573eb01"
  },
  {
   "metadata": {
    "ExecuteTime": {
     "end_time": "2024-07-06T16:48:41.756407Z",
     "start_time": "2024-07-06T16:48:41.735992Z"
    }
   },
   "cell_type": "code",
   "source": [
    "# Create a copy of the DataFrame for dropping missing data\n",
    "students_df3 = students_df.copy()\n",
    "\n",
    "# Drop any rows with missing data\n",
    "students_df3.dropna(how='any', inplace=True)\n",
    "\n",
    "# Display the updated DataFrame\n",
    "students_df3"
   ],
   "id": "276ca15cdc1cf9f9",
   "outputs": [
    {
     "data": {
      "text/plain": [
       "   Name   Age            Course  GPA\n",
       "0  Eric  40.0  Machine Learning  4.0"
      ],
      "text/html": [
       "<div>\n",
       "<style scoped>\n",
       "    .dataframe tbody tr th:only-of-type {\n",
       "        vertical-align: middle;\n",
       "    }\n",
       "\n",
       "    .dataframe tbody tr th {\n",
       "        vertical-align: top;\n",
       "    }\n",
       "\n",
       "    .dataframe thead th {\n",
       "        text-align: right;\n",
       "    }\n",
       "</style>\n",
       "<table border=\"1\" class=\"dataframe\">\n",
       "  <thead>\n",
       "    <tr style=\"text-align: right;\">\n",
       "      <th></th>\n",
       "      <th>Name</th>\n",
       "      <th>Age</th>\n",
       "      <th>Course</th>\n",
       "      <th>GPA</th>\n",
       "    </tr>\n",
       "  </thead>\n",
       "  <tbody>\n",
       "    <tr>\n",
       "      <th>0</th>\n",
       "      <td>Eric</td>\n",
       "      <td>40.0</td>\n",
       "      <td>Machine Learning</td>\n",
       "      <td>4.0</td>\n",
       "    </tr>\n",
       "  </tbody>\n",
       "</table>\n",
       "</div>"
      ]
     },
     "execution_count": 4,
     "metadata": {},
     "output_type": "execute_result"
    }
   ],
   "execution_count": 4
  },
  {
   "metadata": {},
   "cell_type": "markdown",
   "source": [
    "## Filling Missing Data\n",
    "\n",
    "The `fillna()` method fills missing data with a specified value."
   ],
   "id": "47fe4cb06d296d8d"
  },
  {
   "metadata": {
    "ExecuteTime": {
     "end_time": "2024-07-06T16:49:22.449974Z",
     "start_time": "2024-07-06T16:49:22.427325Z"
    }
   },
   "cell_type": "code",
   "source": [
    "# Create a copy of the DataFrame for filling missing data\n",
    "students_df4 = students_df.copy()\n",
    "\n",
    "# Fill missing data with a specified value (e.g., 4)\n",
    "students_df4.fillna(value=4, inplace=True)\n",
    "\n",
    "# Display the updated DataFrame\n",
    "students_df4"
   ],
   "id": "b1617b42e279ba43",
   "outputs": [
    {
     "data": {
      "text/plain": [
       "   Name   Age              Course   GPA\n",
       "0  Eric  40.0    Machine Learning  4.00\n",
       "1   Ivy   4.0  Project Management  3.85\n",
       "2  Jude  10.0         Programming  4.00"
      ],
      "text/html": [
       "<div>\n",
       "<style scoped>\n",
       "    .dataframe tbody tr th:only-of-type {\n",
       "        vertical-align: middle;\n",
       "    }\n",
       "\n",
       "    .dataframe tbody tr th {\n",
       "        vertical-align: top;\n",
       "    }\n",
       "\n",
       "    .dataframe thead th {\n",
       "        text-align: right;\n",
       "    }\n",
       "</style>\n",
       "<table border=\"1\" class=\"dataframe\">\n",
       "  <thead>\n",
       "    <tr style=\"text-align: right;\">\n",
       "      <th></th>\n",
       "      <th>Name</th>\n",
       "      <th>Age</th>\n",
       "      <th>Course</th>\n",
       "      <th>GPA</th>\n",
       "    </tr>\n",
       "  </thead>\n",
       "  <tbody>\n",
       "    <tr>\n",
       "      <th>0</th>\n",
       "      <td>Eric</td>\n",
       "      <td>40.0</td>\n",
       "      <td>Machine Learning</td>\n",
       "      <td>4.00</td>\n",
       "    </tr>\n",
       "    <tr>\n",
       "      <th>1</th>\n",
       "      <td>Ivy</td>\n",
       "      <td>4.0</td>\n",
       "      <td>Project Management</td>\n",
       "      <td>3.85</td>\n",
       "    </tr>\n",
       "    <tr>\n",
       "      <th>2</th>\n",
       "      <td>Jude</td>\n",
       "      <td>10.0</td>\n",
       "      <td>Programming</td>\n",
       "      <td>4.00</td>\n",
       "    </tr>\n",
       "  </tbody>\n",
       "</table>\n",
       "</div>"
      ]
     },
     "execution_count": 5,
     "metadata": {},
     "output_type": "execute_result"
    }
   ],
   "execution_count": 5
  },
  {
   "metadata": {},
   "cell_type": "markdown",
   "source": [
    "## Identifying Missing Data\n",
    "\n",
    "The `isna()` method gets the boolean mask where values are `NaN`."
   ],
   "id": "1fc8ad63b75df594"
  },
  {
   "metadata": {
    "ExecuteTime": {
     "end_time": "2024-07-06T16:49:43.120098Z",
     "start_time": "2024-07-06T16:49:43.098379Z"
    }
   },
   "cell_type": "code",
   "source": [
    "# Create a copy of the DataFrame for identifying missing data\n",
    "students_df5 = students_df.copy()\n",
    "\n",
    "# Get the boolean mask where values are NaN\n",
    "missing_data_mask = pd.isna(students_df5)\n",
    "\n",
    "# Display the boolean mask\n",
    "missing_data_mask"
   ],
   "id": "79c7b5d362832f2c",
   "outputs": [
    {
     "data": {
      "text/plain": [
       "    Name    Age  Course    GPA\n",
       "0  False  False   False  False\n",
       "1  False   True   False  False\n",
       "2  False  False   False   True"
      ],
      "text/html": [
       "<div>\n",
       "<style scoped>\n",
       "    .dataframe tbody tr th:only-of-type {\n",
       "        vertical-align: middle;\n",
       "    }\n",
       "\n",
       "    .dataframe tbody tr th {\n",
       "        vertical-align: top;\n",
       "    }\n",
       "\n",
       "    .dataframe thead th {\n",
       "        text-align: right;\n",
       "    }\n",
       "</style>\n",
       "<table border=\"1\" class=\"dataframe\">\n",
       "  <thead>\n",
       "    <tr style=\"text-align: right;\">\n",
       "      <th></th>\n",
       "      <th>Name</th>\n",
       "      <th>Age</th>\n",
       "      <th>Course</th>\n",
       "      <th>GPA</th>\n",
       "    </tr>\n",
       "  </thead>\n",
       "  <tbody>\n",
       "    <tr>\n",
       "      <th>0</th>\n",
       "      <td>False</td>\n",
       "      <td>False</td>\n",
       "      <td>False</td>\n",
       "      <td>False</td>\n",
       "    </tr>\n",
       "    <tr>\n",
       "      <th>1</th>\n",
       "      <td>False</td>\n",
       "      <td>True</td>\n",
       "      <td>False</td>\n",
       "      <td>False</td>\n",
       "    </tr>\n",
       "    <tr>\n",
       "      <th>2</th>\n",
       "      <td>False</td>\n",
       "      <td>False</td>\n",
       "      <td>False</td>\n",
       "      <td>True</td>\n",
       "    </tr>\n",
       "  </tbody>\n",
       "</table>\n",
       "</div>"
      ]
     },
     "execution_count": 6,
     "metadata": {},
     "output_type": "execute_result"
    }
   ],
   "execution_count": 6
  }
 ],
 "metadata": {
  "kernelspec": {
   "display_name": "Python 3",
   "language": "python",
   "name": "python3"
  },
  "language_info": {
   "codemirror_mode": {
    "name": "ipython",
    "version": 2
   },
   "file_extension": ".py",
   "mimetype": "text/x-python",
   "name": "python",
   "nbconvert_exporter": "python",
   "pygments_lexer": "ipython2",
   "version": "2.7.6"
  }
 },
 "nbformat": 4,
 "nbformat_minor": 5
}
