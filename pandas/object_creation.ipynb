{
 "cells": [
  {
   "metadata": {},
   "cell_type": "markdown",
   "source": [
    "# Pandas and NumPy Operations\n",
    "\n",
    "This notebook demonstrates various basic operations using Pandas and NumPy, including creating lists, converting them to NumPy arrays and Pandas Series, creating DataFrames, setting an index, and creating a DataFrame from a dictionary.\n"
   ],
   "id": "1afbc7fed53a7c18"
  },
  {
   "metadata": {
    "ExecuteTime": {
     "end_time": "2024-07-05T07:02:25.215618Z",
     "start_time": "2024-07-05T07:02:25.205173Z"
    }
   },
   "cell_type": "code",
   "source": [
    "import pandas as pd\n",
    "import numpy as np\n",
    "\n",
    "# Create a list of integers\n",
    "list1 = [1, 2, 3]\n",
    "\n",
    "# Convert the list to a NumPy array\n",
    "list1_ndarray = np.array(list1)  # prints out: [1, 2, 3]\n",
    "\n",
    "# Convert the NumPy array to a Pandas Series\n",
    "list1_series = pd.Series(list1_ndarray)\n",
    "list1_series"
   ],
   "id": "ba7c214650e1c322",
   "outputs": [
    {
     "data": {
      "text/plain": [
       "0    1\n",
       "1    2\n",
       "2    3\n",
       "dtype: int32"
      ]
     },
     "execution_count": 3,
     "metadata": {},
     "output_type": "execute_result"
    }
   ],
   "execution_count": 3
  },
  {
   "metadata": {},
   "cell_type": "markdown",
   "source": "## Create a list of ages and a corresponding list of names\n",
   "id": "9f5e3ca090c0c527"
  },
  {
   "metadata": {
    "ExecuteTime": {
     "end_time": "2024-07-05T07:06:07.163318Z",
     "start_time": "2024-07-05T07:06:07.144975Z"
    }
   },
   "cell_type": "code",
   "source": [
    "# Create a list of ages\n",
    "ages = [40, 37, 10]\n",
    "\n",
    "# Create a corresponding list of names\n",
    "names = ['Eric', 'Ivy', 'Jude']\n",
    "\n",
    "# Convert the ages list to a NumPy array\n",
    "ages_array = np.array(ages)  # prints out: [40, 37, 10]\n",
    "\n",
    "# Convert the ages NumPy array to a Pandas Series with names as the index\n",
    "ages_series = pd.Series(ages, index=names)\n",
    "ages_series"
   ],
   "id": "5cc4517dd49de0ef",
   "outputs": [
    {
     "data": {
      "text/plain": [
       "Eric    40\n",
       "Ivy     37\n",
       "Jude    10\n",
       "dtype: int64"
      ]
     },
     "execution_count": 6,
     "metadata": {},
     "output_type": "execute_result"
    }
   ],
   "execution_count": 6
  },
  {
   "metadata": {},
   "cell_type": "markdown",
   "source": "## Create a DataFrame from a list of lists representing student data\n",
   "id": "1421103b8c1bcc16"
  },
  {
   "metadata": {
    "ExecuteTime": {
     "end_time": "2024-07-05T07:06:14.100291Z",
     "start_time": "2024-07-05T07:06:14.079505Z"
    }
   },
   "cell_type": "code",
   "source": [
    "# Create a list of lists representing student data\n",
    "students = [\n",
    "    ['Eric', 40, 'Machine Learning'],\n",
    "    ['Ivy', 37, 'Project Management'],\n",
    "    ['Jude', 10, 'Programmer']\n",
    "]\n",
    "\n",
    "# Define the column names for the DataFrame\n",
    "columns = ['Name', 'Age', 'Course']\n",
    "\n",
    "# Create a Pandas DataFrame from the students list with the specified columns\n",
    "students_dataframe = pd.DataFrame(students, columns=columns)\n",
    "students_dataframe"
   ],
   "id": "d91301c461c0d1bb",
   "outputs": [
    {
     "data": {
      "text/plain": [
       "   Name  Age              Course\n",
       "0  Eric   40    Machine Learning\n",
       "1   Ivy   37  Project Management\n",
       "2  Jude   10          Programmer"
      ],
      "text/html": [
       "<div>\n",
       "<style scoped>\n",
       "    .dataframe tbody tr th:only-of-type {\n",
       "        vertical-align: middle;\n",
       "    }\n",
       "\n",
       "    .dataframe tbody tr th {\n",
       "        vertical-align: top;\n",
       "    }\n",
       "\n",
       "    .dataframe thead th {\n",
       "        text-align: right;\n",
       "    }\n",
       "</style>\n",
       "<table border=\"1\" class=\"dataframe\">\n",
       "  <thead>\n",
       "    <tr style=\"text-align: right;\">\n",
       "      <th></th>\n",
       "      <th>Name</th>\n",
       "      <th>Age</th>\n",
       "      <th>Course</th>\n",
       "    </tr>\n",
       "  </thead>\n",
       "  <tbody>\n",
       "    <tr>\n",
       "      <th>0</th>\n",
       "      <td>Eric</td>\n",
       "      <td>40</td>\n",
       "      <td>Machine Learning</td>\n",
       "    </tr>\n",
       "    <tr>\n",
       "      <th>1</th>\n",
       "      <td>Ivy</td>\n",
       "      <td>37</td>\n",
       "      <td>Project Management</td>\n",
       "    </tr>\n",
       "    <tr>\n",
       "      <th>2</th>\n",
       "      <td>Jude</td>\n",
       "      <td>10</td>\n",
       "      <td>Programmer</td>\n",
       "    </tr>\n",
       "  </tbody>\n",
       "</table>\n",
       "</div>"
      ]
     },
     "execution_count": 7,
     "metadata": {},
     "output_type": "execute_result"
    }
   ],
   "execution_count": 7
  },
  {
   "metadata": {},
   "cell_type": "markdown",
   "source": "## Set the 'Name' column as the index of the DataFrame",
   "id": "fef723d00f606412"
  },
  {
   "metadata": {
    "ExecuteTime": {
     "end_time": "2024-07-05T07:08:37.376432Z",
     "start_time": "2024-07-05T07:08:37.354365Z"
    }
   },
   "cell_type": "code",
   "source": [
    "# Set the 'Name' column as the index of the DataFrame\n",
    "students_dataframe.set_index('Name', inplace=True)\n",
    "students_dataframe"
   ],
   "id": "8f7099860a50b3f9",
   "outputs": [
    {
     "data": {
      "text/plain": [
       "      Age              Course\n",
       "Name                         \n",
       "Eric   40    Machine Learning\n",
       "Ivy    37  Project Management\n",
       "Jude   10          Programmer"
      ],
      "text/html": [
       "<div>\n",
       "<style scoped>\n",
       "    .dataframe tbody tr th:only-of-type {\n",
       "        vertical-align: middle;\n",
       "    }\n",
       "\n",
       "    .dataframe tbody tr th {\n",
       "        vertical-align: top;\n",
       "    }\n",
       "\n",
       "    .dataframe thead th {\n",
       "        text-align: right;\n",
       "    }\n",
       "</style>\n",
       "<table border=\"1\" class=\"dataframe\">\n",
       "  <thead>\n",
       "    <tr style=\"text-align: right;\">\n",
       "      <th></th>\n",
       "      <th>Age</th>\n",
       "      <th>Course</th>\n",
       "    </tr>\n",
       "    <tr>\n",
       "      <th>Name</th>\n",
       "      <th></th>\n",
       "      <th></th>\n",
       "    </tr>\n",
       "  </thead>\n",
       "  <tbody>\n",
       "    <tr>\n",
       "      <th>Eric</th>\n",
       "      <td>40</td>\n",
       "      <td>Machine Learning</td>\n",
       "    </tr>\n",
       "    <tr>\n",
       "      <th>Ivy</th>\n",
       "      <td>37</td>\n",
       "      <td>Project Management</td>\n",
       "    </tr>\n",
       "    <tr>\n",
       "      <th>Jude</th>\n",
       "      <td>10</td>\n",
       "      <td>Programmer</td>\n",
       "    </tr>\n",
       "  </tbody>\n",
       "</table>\n",
       "</div>"
      ]
     },
     "execution_count": 8,
     "metadata": {},
     "output_type": "execute_result"
    }
   ],
   "execution_count": 8
  },
  {
   "metadata": {},
   "cell_type": "markdown",
   "source": "## Create a DataFrame by passing a dictionary of objects where the keys are the column labels and the values are the column values",
   "id": "9c6111c865f3b33f"
  },
  {
   "metadata": {
    "ExecuteTime": {
     "end_time": "2024-07-05T07:10:03.204558Z",
     "start_time": "2024-07-05T07:10:03.183650Z"
    }
   },
   "cell_type": "code",
   "source": [
    "# Creating a DataFrame by passing a dictionary of objects where the keys are the column\n",
    "# labels and the values are the column values.\n",
    "friends_dataf = pd.DataFrame({\n",
    "    'Name': ['Eric', 'Ivy', 'Jude'],\n",
    "    'Age': [40, 37, 10]\n",
    "}).set_index('Name')\n",
    "friends_dataf"
   ],
   "id": "72c108961c6959d8",
   "outputs": [
    {
     "data": {
      "text/plain": [
       "      Age\n",
       "Name     \n",
       "Eric   40\n",
       "Ivy    37\n",
       "Jude   10"
      ],
      "text/html": [
       "<div>\n",
       "<style scoped>\n",
       "    .dataframe tbody tr th:only-of-type {\n",
       "        vertical-align: middle;\n",
       "    }\n",
       "\n",
       "    .dataframe tbody tr th {\n",
       "        vertical-align: top;\n",
       "    }\n",
       "\n",
       "    .dataframe thead th {\n",
       "        text-align: right;\n",
       "    }\n",
       "</style>\n",
       "<table border=\"1\" class=\"dataframe\">\n",
       "  <thead>\n",
       "    <tr style=\"text-align: right;\">\n",
       "      <th></th>\n",
       "      <th>Age</th>\n",
       "    </tr>\n",
       "    <tr>\n",
       "      <th>Name</th>\n",
       "      <th></th>\n",
       "    </tr>\n",
       "  </thead>\n",
       "  <tbody>\n",
       "    <tr>\n",
       "      <th>Eric</th>\n",
       "      <td>40</td>\n",
       "    </tr>\n",
       "    <tr>\n",
       "      <th>Ivy</th>\n",
       "      <td>37</td>\n",
       "    </tr>\n",
       "    <tr>\n",
       "      <th>Jude</th>\n",
       "      <td>10</td>\n",
       "    </tr>\n",
       "  </tbody>\n",
       "</table>\n",
       "</div>"
      ]
     },
     "execution_count": 9,
     "metadata": {},
     "output_type": "execute_result"
    }
   ],
   "execution_count": 9
  }
 ],
 "metadata": {
  "kernelspec": {
   "display_name": "Python 3",
   "language": "python",
   "name": "python3"
  },
  "language_info": {
   "codemirror_mode": {
    "name": "ipython",
    "version": 2
   },
   "file_extension": ".py",
   "mimetype": "text/x-python",
   "name": "python",
   "nbconvert_exporter": "python",
   "pygments_lexer": "ipython2",
   "version": "2.7.6"
  }
 },
 "nbformat": 4,
 "nbformat_minor": 5
}
