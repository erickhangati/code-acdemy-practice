{
 "cells": [
  {
   "metadata": {},
   "cell_type": "markdown",
   "source": [
    "# Lambda Functions in Python\n",
    "\n",
    "In Python, a lambda function is a one-line shorthand for a function.\n",
    "\n",
    "Example: `add_two = lambda my_input: my_input + 2`"
   ],
   "id": "5b2708b985bf0880"
  },
  {
   "metadata": {
    "ExecuteTime": {
     "end_time": "2024-07-05T07:48:06.033638Z",
     "start_time": "2024-07-05T07:48:06.021646Z"
    }
   },
   "cell_type": "code",
   "source": [
    "# Define a lambda function named 'is_substring'\n",
    "is_substring = lambda my_string: my_string in \"This is the master string\"\n",
    "\n",
    "# Description:\n",
    "# The 'is_substring' function checks if the given string 'my_string' is a \n",
    "# substring of the fixed string\n",
    "# \"This is the master string\".\n",
    "\n",
    "# Parameters:\n",
    "# my_string (str): The string to check for being a substring.\n",
    "\n",
    "# Returns:\n",
    "# bool: Returns True if 'my_string' is found within \"This is the master string\", \n",
    "# otherwise returns False."
   ],
   "id": "b616ac3b0e4a49a0",
   "outputs": [],
   "execution_count": 1
  },
  {
   "metadata": {},
   "cell_type": "markdown",
   "source": "## Example Usage of `is_substring`",
   "id": "914449a46f9ff6cb"
  },
  {
   "metadata": {
    "ExecuteTime": {
     "end_time": "2024-07-05T07:48:50.435787Z",
     "start_time": "2024-07-05T07:48:50.419629Z"
    }
   },
   "cell_type": "code",
   "source": [
    "# Test the is_substring lambda function\n",
    "print(is_substring(\"master\"))  # Should return True\n",
    "print(is_substring(\"test\"))    # Should return False"
   ],
   "id": "13f5f47c40058c0a",
   "outputs": [
    {
     "name": "stdout",
     "output_type": "stream",
     "text": [
      "True\n",
      "False\n"
     ]
    }
   ],
   "execution_count": 2
  },
  {
   "metadata": {},
   "cell_type": "markdown",
   "source": [
    "# Define a lambda function named `check_adult`\n",
    "\n",
    "The `check_adult` function determines if a person is an adult based on their age. It uses a lambda function to check if the given `age` is 18 or older.\n",
    "\n",
    "### Description:\n",
    "- **Parameters:**\n",
    "  - `age` (int): The age of the person to check.\n",
    "- **Returns:**\n",
    "  - `str`: Returns \"Adult\" if the age is 18 or older, otherwise returns \"Not an adult\".\n"
   ],
   "id": "85e258666e4db113"
  },
  {
   "metadata": {
    "ExecuteTime": {
     "end_time": "2024-07-05T07:50:32.962272Z",
     "start_time": "2024-07-05T07:50:32.944311Z"
    }
   },
   "cell_type": "code",
   "source": [
    "# Define a lambda function named 'check_adult'\n",
    "check_adult = lambda age: \"Adult\" if age >= 18 else \"Not an adult\""
   ],
   "id": "85a93cd82b577e5",
   "outputs": [],
   "execution_count": 3
  },
  {
   "metadata": {},
   "cell_type": "markdown",
   "source": "## Example Usage of `check_adult`",
   "id": "bab874fd47426f2d"
  },
  {
   "metadata": {
    "ExecuteTime": {
     "end_time": "2024-07-05T07:50:54.874118Z",
     "start_time": "2024-07-05T07:50:54.864939Z"
    }
   },
   "cell_type": "code",
   "source": [
    "# Test the check_adult lambda function\n",
    "print(check_adult(20))  # Should return \"Adult\"\n",
    "print(check_adult(16))  # Should return \"Not an adult\""
   ],
   "id": "5bbf26c60d493c6",
   "outputs": [
    {
     "name": "stdout",
     "output_type": "stream",
     "text": [
      "Adult\n",
      "Not an adult\n"
     ]
    }
   ],
   "execution_count": 4
  }
 ],
 "metadata": {
  "kernelspec": {
   "display_name": "Python 3",
   "language": "python",
   "name": "python3"
  },
  "language_info": {
   "codemirror_mode": {
    "name": "ipython",
    "version": 2
   },
   "file_extension": ".py",
   "mimetype": "text/x-python",
   "name": "python",
   "nbconvert_exporter": "python",
   "pygments_lexer": "ipython2",
   "version": "2.7.6"
  }
 },
 "nbformat": 4,
 "nbformat_minor": 5
}
