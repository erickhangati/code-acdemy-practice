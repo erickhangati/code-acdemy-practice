{
 "cells": [
  {
   "metadata": {},
   "cell_type": "markdown",
   "source": [
    "# A/B Testing for ShoeFly.com\n",
    "\n",
    "An online shoe store, ShoeFly.com, is performing an A/B Test. They have two different versions of an ad, which they have placed in emails, as well as in banner ads on Facebook, Twitter, and Google. They want to know how the two ads are performing on each of the different platforms on each day of the week. Help them analyze the data using aggregate measures.\n"
   ],
   "id": "1aeb1416eacc677e"
  },
  {
   "metadata": {
    "ExecuteTime": {
     "end_time": "2024-07-14T18:53:58.656929Z",
     "start_time": "2024-07-14T18:53:58.650445Z"
    }
   },
   "cell_type": "code",
   "source": "import pandas as pd",
   "id": "fb9358be79745be7",
   "outputs": [],
   "execution_count": 46
  },
  {
   "metadata": {},
   "cell_type": "markdown",
   "source": [
    "## Importing the dataset\n",
    "Lets start by importing the dataset from `ad_click.csv` file into a dataset."
   ],
   "id": "875dd6579732461a"
  },
  {
   "metadata": {
    "ExecuteTime": {
     "end_time": "2024-07-14T18:53:58.726853Z",
     "start_time": "2024-07-14T18:53:58.718668Z"
    }
   },
   "cell_type": "code",
   "source": "ad_clicks = pd.read_csv('ad_clicks.csv')",
   "id": "d203b663d787c901",
   "outputs": [],
   "execution_count": 47
  },
  {
   "metadata": {},
   "cell_type": "markdown",
   "source": [
    "## Analyzing ad sources\n",
    "\n",
    "1. Examine the first few rows of ad_clicks."
   ],
   "id": "6f21deaafe29b1c1"
  },
  {
   "metadata": {
    "ExecuteTime": {
     "end_time": "2024-07-14T18:53:58.771283Z",
     "start_time": "2024-07-14T18:53:58.758061Z"
    }
   },
   "cell_type": "code",
   "source": "ad_clicks.head()",
   "id": "618ad4f86f6abe43",
   "outputs": [
    {
     "data": {
      "text/plain": [
       "                                user_id utm_source           day  \\\n",
       "0  008b7c6c-7272-471e-b90e-930d548bd8d7     google  6 - Saturday   \n",
       "1  009abb94-5e14-4b6c-bb1c-4f4df7aa7557   facebook    7 - Sunday   \n",
       "2  00f5d532-ed58-4570-b6d2-768df5f41aed    twitter   2 - Tuesday   \n",
       "3  011adc64-0f44-4fd9-a0bb-f1506d2ad439     google   2 - Tuesday   \n",
       "4  012137e6-7ae7-4649-af68-205b4702169c   facebook    7 - Sunday   \n",
       "\n",
       "  ad_click_timestamp experimental_group  \n",
       "0               7:18                  A  \n",
       "1                NaN                  B  \n",
       "2                NaN                  A  \n",
       "3                NaN                  B  \n",
       "4                NaN                  B  "
      ],
      "text/html": [
       "<div>\n",
       "<style scoped>\n",
       "    .dataframe tbody tr th:only-of-type {\n",
       "        vertical-align: middle;\n",
       "    }\n",
       "\n",
       "    .dataframe tbody tr th {\n",
       "        vertical-align: top;\n",
       "    }\n",
       "\n",
       "    .dataframe thead th {\n",
       "        text-align: right;\n",
       "    }\n",
       "</style>\n",
       "<table border=\"1\" class=\"dataframe\">\n",
       "  <thead>\n",
       "    <tr style=\"text-align: right;\">\n",
       "      <th></th>\n",
       "      <th>user_id</th>\n",
       "      <th>utm_source</th>\n",
       "      <th>day</th>\n",
       "      <th>ad_click_timestamp</th>\n",
       "      <th>experimental_group</th>\n",
       "    </tr>\n",
       "  </thead>\n",
       "  <tbody>\n",
       "    <tr>\n",
       "      <th>0</th>\n",
       "      <td>008b7c6c-7272-471e-b90e-930d548bd8d7</td>\n",
       "      <td>google</td>\n",
       "      <td>6 - Saturday</td>\n",
       "      <td>7:18</td>\n",
       "      <td>A</td>\n",
       "    </tr>\n",
       "    <tr>\n",
       "      <th>1</th>\n",
       "      <td>009abb94-5e14-4b6c-bb1c-4f4df7aa7557</td>\n",
       "      <td>facebook</td>\n",
       "      <td>7 - Sunday</td>\n",
       "      <td>NaN</td>\n",
       "      <td>B</td>\n",
       "    </tr>\n",
       "    <tr>\n",
       "      <th>2</th>\n",
       "      <td>00f5d532-ed58-4570-b6d2-768df5f41aed</td>\n",
       "      <td>twitter</td>\n",
       "      <td>2 - Tuesday</td>\n",
       "      <td>NaN</td>\n",
       "      <td>A</td>\n",
       "    </tr>\n",
       "    <tr>\n",
       "      <th>3</th>\n",
       "      <td>011adc64-0f44-4fd9-a0bb-f1506d2ad439</td>\n",
       "      <td>google</td>\n",
       "      <td>2 - Tuesday</td>\n",
       "      <td>NaN</td>\n",
       "      <td>B</td>\n",
       "    </tr>\n",
       "    <tr>\n",
       "      <th>4</th>\n",
       "      <td>012137e6-7ae7-4649-af68-205b4702169c</td>\n",
       "      <td>facebook</td>\n",
       "      <td>7 - Sunday</td>\n",
       "      <td>NaN</td>\n",
       "      <td>B</td>\n",
       "    </tr>\n",
       "  </tbody>\n",
       "</table>\n",
       "</div>"
      ]
     },
     "execution_count": 48,
     "metadata": {},
     "output_type": "execute_result"
    }
   ],
   "execution_count": 48
  },
  {
   "metadata": {},
   "cell_type": "markdown",
   "source": "2. Your manager wants to know which ad platform is getting you the most views. How many views (i.e., rows of the table) came from each utm_source?",
   "id": "a5dffcb6a4856ec0"
  },
  {
   "metadata": {
    "ExecuteTime": {
     "end_time": "2024-07-14T18:53:58.830585Z",
     "start_time": "2024-07-14T18:53:58.823588Z"
    }
   },
   "cell_type": "code",
   "source": [
    "platform_most_views = ad_clicks.groupby('utm_source').user_id.count().sort_values(ascending=False)\n",
    "platform_most_views"
   ],
   "id": "4c8b23f383f30b0",
   "outputs": [
    {
     "data": {
      "text/plain": [
       "utm_source\n",
       "google      680\n",
       "facebook    504\n",
       "email       255\n",
       "twitter     215\n",
       "Name: user_id, dtype: int64"
      ]
     },
     "execution_count": 49,
     "metadata": {},
     "output_type": "execute_result"
    }
   ],
   "execution_count": 49
  },
  {
   "metadata": {},
   "cell_type": "markdown",
   "source": "3. If the column `ad_click_timestamp` is not null, then someone actually clicked on the ad that was displayed. Create a new column called `is_click`, which is True if `ad_click_timestamp` is not null and False otherwise.",
   "id": "ff7e7885f2553673"
  },
  {
   "metadata": {
    "ExecuteTime": {
     "end_time": "2024-07-14T18:53:58.842105Z",
     "start_time": "2024-07-14T18:53:58.830585Z"
    }
   },
   "cell_type": "code",
   "source": [
    "ad_clicks['is_click'] = ad_clicks.ad_click_timestamp.apply(lambda timestamp: False if pd.isna(timestamp) else True)\n",
    "ad_clicks"
   ],
   "id": "7ad4f6eb50247df8",
   "outputs": [
    {
     "data": {
      "text/plain": [
       "                                   user_id utm_source            day  \\\n",
       "0     008b7c6c-7272-471e-b90e-930d548bd8d7     google   6 - Saturday   \n",
       "1     009abb94-5e14-4b6c-bb1c-4f4df7aa7557   facebook     7 - Sunday   \n",
       "2     00f5d532-ed58-4570-b6d2-768df5f41aed    twitter    2 - Tuesday   \n",
       "3     011adc64-0f44-4fd9-a0bb-f1506d2ad439     google    2 - Tuesday   \n",
       "4     012137e6-7ae7-4649-af68-205b4702169c   facebook     7 - Sunday   \n",
       "...                                    ...        ...            ...   \n",
       "1649  fe8b5236-78f6-4192-9da6-a76bba67cfe6    twitter     7 - Sunday   \n",
       "1650  fed3db6d-8c92-40e3-a4fb-1fb9d7337eb1   facebook     5 - Friday   \n",
       "1651  ff3a22ff-521c-478c-87ca-7dc7b8f34372    twitter  3 - Wednesday   \n",
       "1652  ff3af0d6-b092-4c4d-9f2e-2bdd8f7c0732     google     1 - Monday   \n",
       "1653  ffdfe7ec-0c74-4623-8d90-d95d80f1ba34   facebook   6 - Saturday   \n",
       "\n",
       "     ad_click_timestamp experimental_group  is_click  \n",
       "0                  7:18                  A      True  \n",
       "1                   NaN                  B     False  \n",
       "2                   NaN                  A     False  \n",
       "3                   NaN                  B     False  \n",
       "4                   NaN                  B     False  \n",
       "...                 ...                ...       ...  \n",
       "1649                NaN                  A     False  \n",
       "1650                NaN                  B     False  \n",
       "1651                NaN                  B     False  \n",
       "1652              22:57                  A      True  \n",
       "1653                NaN                  B     False  \n",
       "\n",
       "[1654 rows x 6 columns]"
      ],
      "text/html": [
       "<div>\n",
       "<style scoped>\n",
       "    .dataframe tbody tr th:only-of-type {\n",
       "        vertical-align: middle;\n",
       "    }\n",
       "\n",
       "    .dataframe tbody tr th {\n",
       "        vertical-align: top;\n",
       "    }\n",
       "\n",
       "    .dataframe thead th {\n",
       "        text-align: right;\n",
       "    }\n",
       "</style>\n",
       "<table border=\"1\" class=\"dataframe\">\n",
       "  <thead>\n",
       "    <tr style=\"text-align: right;\">\n",
       "      <th></th>\n",
       "      <th>user_id</th>\n",
       "      <th>utm_source</th>\n",
       "      <th>day</th>\n",
       "      <th>ad_click_timestamp</th>\n",
       "      <th>experimental_group</th>\n",
       "      <th>is_click</th>\n",
       "    </tr>\n",
       "  </thead>\n",
       "  <tbody>\n",
       "    <tr>\n",
       "      <th>0</th>\n",
       "      <td>008b7c6c-7272-471e-b90e-930d548bd8d7</td>\n",
       "      <td>google</td>\n",
       "      <td>6 - Saturday</td>\n",
       "      <td>7:18</td>\n",
       "      <td>A</td>\n",
       "      <td>True</td>\n",
       "    </tr>\n",
       "    <tr>\n",
       "      <th>1</th>\n",
       "      <td>009abb94-5e14-4b6c-bb1c-4f4df7aa7557</td>\n",
       "      <td>facebook</td>\n",
       "      <td>7 - Sunday</td>\n",
       "      <td>NaN</td>\n",
       "      <td>B</td>\n",
       "      <td>False</td>\n",
       "    </tr>\n",
       "    <tr>\n",
       "      <th>2</th>\n",
       "      <td>00f5d532-ed58-4570-b6d2-768df5f41aed</td>\n",
       "      <td>twitter</td>\n",
       "      <td>2 - Tuesday</td>\n",
       "      <td>NaN</td>\n",
       "      <td>A</td>\n",
       "      <td>False</td>\n",
       "    </tr>\n",
       "    <tr>\n",
       "      <th>3</th>\n",
       "      <td>011adc64-0f44-4fd9-a0bb-f1506d2ad439</td>\n",
       "      <td>google</td>\n",
       "      <td>2 - Tuesday</td>\n",
       "      <td>NaN</td>\n",
       "      <td>B</td>\n",
       "      <td>False</td>\n",
       "    </tr>\n",
       "    <tr>\n",
       "      <th>4</th>\n",
       "      <td>012137e6-7ae7-4649-af68-205b4702169c</td>\n",
       "      <td>facebook</td>\n",
       "      <td>7 - Sunday</td>\n",
       "      <td>NaN</td>\n",
       "      <td>B</td>\n",
       "      <td>False</td>\n",
       "    </tr>\n",
       "    <tr>\n",
       "      <th>...</th>\n",
       "      <td>...</td>\n",
       "      <td>...</td>\n",
       "      <td>...</td>\n",
       "      <td>...</td>\n",
       "      <td>...</td>\n",
       "      <td>...</td>\n",
       "    </tr>\n",
       "    <tr>\n",
       "      <th>1649</th>\n",
       "      <td>fe8b5236-78f6-4192-9da6-a76bba67cfe6</td>\n",
       "      <td>twitter</td>\n",
       "      <td>7 - Sunday</td>\n",
       "      <td>NaN</td>\n",
       "      <td>A</td>\n",
       "      <td>False</td>\n",
       "    </tr>\n",
       "    <tr>\n",
       "      <th>1650</th>\n",
       "      <td>fed3db6d-8c92-40e3-a4fb-1fb9d7337eb1</td>\n",
       "      <td>facebook</td>\n",
       "      <td>5 - Friday</td>\n",
       "      <td>NaN</td>\n",
       "      <td>B</td>\n",
       "      <td>False</td>\n",
       "    </tr>\n",
       "    <tr>\n",
       "      <th>1651</th>\n",
       "      <td>ff3a22ff-521c-478c-87ca-7dc7b8f34372</td>\n",
       "      <td>twitter</td>\n",
       "      <td>3 - Wednesday</td>\n",
       "      <td>NaN</td>\n",
       "      <td>B</td>\n",
       "      <td>False</td>\n",
       "    </tr>\n",
       "    <tr>\n",
       "      <th>1652</th>\n",
       "      <td>ff3af0d6-b092-4c4d-9f2e-2bdd8f7c0732</td>\n",
       "      <td>google</td>\n",
       "      <td>1 - Monday</td>\n",
       "      <td>22:57</td>\n",
       "      <td>A</td>\n",
       "      <td>True</td>\n",
       "    </tr>\n",
       "    <tr>\n",
       "      <th>1653</th>\n",
       "      <td>ffdfe7ec-0c74-4623-8d90-d95d80f1ba34</td>\n",
       "      <td>facebook</td>\n",
       "      <td>6 - Saturday</td>\n",
       "      <td>NaN</td>\n",
       "      <td>B</td>\n",
       "      <td>False</td>\n",
       "    </tr>\n",
       "  </tbody>\n",
       "</table>\n",
       "<p>1654 rows × 6 columns</p>\n",
       "</div>"
      ]
     },
     "execution_count": 50,
     "metadata": {},
     "output_type": "execute_result"
    }
   ],
   "execution_count": 50
  },
  {
   "metadata": {},
   "cell_type": "markdown",
   "source": "4. We want to know the percent of people who clicked on ads from each `utm_source`. Start by grouping by `utm_source` and `is_click` and counting the number of user_id‘s in each of those groups. Save your answer to the variable `clicks_by_source`.",
   "id": "92b664a86763228b"
  },
  {
   "metadata": {
    "ExecuteTime": {
     "end_time": "2024-07-14T18:53:58.851972Z",
     "start_time": "2024-07-14T18:53:58.842105Z"
    }
   },
   "cell_type": "code",
   "source": [
    "clicks_by_source = ad_clicks.groupby(['utm_source', 'is_click']).user_id.count().reset_index()\n",
    "clicks_by_source"
   ],
   "id": "37f62526604cc5b7",
   "outputs": [
    {
     "data": {
      "text/plain": [
       "  utm_source  is_click  user_id\n",
       "0      email     False      175\n",
       "1      email      True       80\n",
       "2   facebook     False      324\n",
       "3   facebook      True      180\n",
       "4     google     False      441\n",
       "5     google      True      239\n",
       "6    twitter     False      149\n",
       "7    twitter      True       66"
      ],
      "text/html": [
       "<div>\n",
       "<style scoped>\n",
       "    .dataframe tbody tr th:only-of-type {\n",
       "        vertical-align: middle;\n",
       "    }\n",
       "\n",
       "    .dataframe tbody tr th {\n",
       "        vertical-align: top;\n",
       "    }\n",
       "\n",
       "    .dataframe thead th {\n",
       "        text-align: right;\n",
       "    }\n",
       "</style>\n",
       "<table border=\"1\" class=\"dataframe\">\n",
       "  <thead>\n",
       "    <tr style=\"text-align: right;\">\n",
       "      <th></th>\n",
       "      <th>utm_source</th>\n",
       "      <th>is_click</th>\n",
       "      <th>user_id</th>\n",
       "    </tr>\n",
       "  </thead>\n",
       "  <tbody>\n",
       "    <tr>\n",
       "      <th>0</th>\n",
       "      <td>email</td>\n",
       "      <td>False</td>\n",
       "      <td>175</td>\n",
       "    </tr>\n",
       "    <tr>\n",
       "      <th>1</th>\n",
       "      <td>email</td>\n",
       "      <td>True</td>\n",
       "      <td>80</td>\n",
       "    </tr>\n",
       "    <tr>\n",
       "      <th>2</th>\n",
       "      <td>facebook</td>\n",
       "      <td>False</td>\n",
       "      <td>324</td>\n",
       "    </tr>\n",
       "    <tr>\n",
       "      <th>3</th>\n",
       "      <td>facebook</td>\n",
       "      <td>True</td>\n",
       "      <td>180</td>\n",
       "    </tr>\n",
       "    <tr>\n",
       "      <th>4</th>\n",
       "      <td>google</td>\n",
       "      <td>False</td>\n",
       "      <td>441</td>\n",
       "    </tr>\n",
       "    <tr>\n",
       "      <th>5</th>\n",
       "      <td>google</td>\n",
       "      <td>True</td>\n",
       "      <td>239</td>\n",
       "    </tr>\n",
       "    <tr>\n",
       "      <th>6</th>\n",
       "      <td>twitter</td>\n",
       "      <td>False</td>\n",
       "      <td>149</td>\n",
       "    </tr>\n",
       "    <tr>\n",
       "      <th>7</th>\n",
       "      <td>twitter</td>\n",
       "      <td>True</td>\n",
       "      <td>66</td>\n",
       "    </tr>\n",
       "  </tbody>\n",
       "</table>\n",
       "</div>"
      ]
     },
     "execution_count": 51,
     "metadata": {},
     "output_type": "execute_result"
    }
   ],
   "execution_count": 51
  },
  {
   "metadata": {},
   "cell_type": "markdown",
   "source": "5. Now let’s pivot the data so that the columns are `is_click` (either True or False), the index is `utm_source`, and the values are `user_id`. Save your results to the variable `clicks_pivot`.",
   "id": "9a48d6016d73ab36"
  },
  {
   "metadata": {
    "ExecuteTime": {
     "end_time": "2024-07-14T18:53:58.866334Z",
     "start_time": "2024-07-14T18:53:58.855479Z"
    }
   },
   "cell_type": "code",
   "source": [
    "clicks_pivot = clicks_by_source.pivot(index='utm_source', columns='is_click', values='user_id')\n",
    "clicks_pivot"
   ],
   "id": "7a57e4db56d0b530",
   "outputs": [
    {
     "data": {
      "text/plain": [
       "is_click    False  True \n",
       "utm_source              \n",
       "email         175     80\n",
       "facebook      324    180\n",
       "google        441    239\n",
       "twitter       149     66"
      ],
      "text/html": [
       "<div>\n",
       "<style scoped>\n",
       "    .dataframe tbody tr th:only-of-type {\n",
       "        vertical-align: middle;\n",
       "    }\n",
       "\n",
       "    .dataframe tbody tr th {\n",
       "        vertical-align: top;\n",
       "    }\n",
       "\n",
       "    .dataframe thead th {\n",
       "        text-align: right;\n",
       "    }\n",
       "</style>\n",
       "<table border=\"1\" class=\"dataframe\">\n",
       "  <thead>\n",
       "    <tr style=\"text-align: right;\">\n",
       "      <th>is_click</th>\n",
       "      <th>False</th>\n",
       "      <th>True</th>\n",
       "    </tr>\n",
       "    <tr>\n",
       "      <th>utm_source</th>\n",
       "      <th></th>\n",
       "      <th></th>\n",
       "    </tr>\n",
       "  </thead>\n",
       "  <tbody>\n",
       "    <tr>\n",
       "      <th>email</th>\n",
       "      <td>175</td>\n",
       "      <td>80</td>\n",
       "    </tr>\n",
       "    <tr>\n",
       "      <th>facebook</th>\n",
       "      <td>324</td>\n",
       "      <td>180</td>\n",
       "    </tr>\n",
       "    <tr>\n",
       "      <th>google</th>\n",
       "      <td>441</td>\n",
       "      <td>239</td>\n",
       "    </tr>\n",
       "    <tr>\n",
       "      <th>twitter</th>\n",
       "      <td>149</td>\n",
       "      <td>66</td>\n",
       "    </tr>\n",
       "  </tbody>\n",
       "</table>\n",
       "</div>"
      ]
     },
     "execution_count": 52,
     "metadata": {},
     "output_type": "execute_result"
    }
   ],
   "execution_count": 52
  },
  {
   "metadata": {},
   "cell_type": "markdown",
   "source": "",
   "id": "584670d5ccaf1912"
  },
  {
   "metadata": {},
   "cell_type": "markdown",
   "source": "6. Create a new column in `clicks_pivot` called `percent_clicked` which is equal to the percent of users who clicked on the ad from each `utm_source`. Was there a difference in click rates for each source?",
   "id": "dac5e830d79e1b4b"
  },
  {
   "metadata": {
    "ExecuteTime": {
     "end_time": "2024-07-14T18:53:58.907747Z",
     "start_time": "2024-07-14T18:53:58.890087Z"
    }
   },
   "cell_type": "code",
   "source": [
    "clicks_pivot['percent_clicked'] = (clicks_pivot[True] / (clicks_pivot[True] + clicks_pivot[False])) * 100\n",
    "clicks_pivot"
   ],
   "id": "5e7a32271e7c56cd",
   "outputs": [
    {
     "data": {
      "text/plain": [
       "is_click    False  True  percent_clicked\n",
       "utm_source                              \n",
       "email         175    80        31.372549\n",
       "facebook      324   180        35.714286\n",
       "google        441   239        35.147059\n",
       "twitter       149    66        30.697674"
      ],
      "text/html": [
       "<div>\n",
       "<style scoped>\n",
       "    .dataframe tbody tr th:only-of-type {\n",
       "        vertical-align: middle;\n",
       "    }\n",
       "\n",
       "    .dataframe tbody tr th {\n",
       "        vertical-align: top;\n",
       "    }\n",
       "\n",
       "    .dataframe thead th {\n",
       "        text-align: right;\n",
       "    }\n",
       "</style>\n",
       "<table border=\"1\" class=\"dataframe\">\n",
       "  <thead>\n",
       "    <tr style=\"text-align: right;\">\n",
       "      <th>is_click</th>\n",
       "      <th>False</th>\n",
       "      <th>True</th>\n",
       "      <th>percent_clicked</th>\n",
       "    </tr>\n",
       "    <tr>\n",
       "      <th>utm_source</th>\n",
       "      <th></th>\n",
       "      <th></th>\n",
       "      <th></th>\n",
       "    </tr>\n",
       "  </thead>\n",
       "  <tbody>\n",
       "    <tr>\n",
       "      <th>email</th>\n",
       "      <td>175</td>\n",
       "      <td>80</td>\n",
       "      <td>31.372549</td>\n",
       "    </tr>\n",
       "    <tr>\n",
       "      <th>facebook</th>\n",
       "      <td>324</td>\n",
       "      <td>180</td>\n",
       "      <td>35.714286</td>\n",
       "    </tr>\n",
       "    <tr>\n",
       "      <th>google</th>\n",
       "      <td>441</td>\n",
       "      <td>239</td>\n",
       "      <td>35.147059</td>\n",
       "    </tr>\n",
       "    <tr>\n",
       "      <th>twitter</th>\n",
       "      <td>149</td>\n",
       "      <td>66</td>\n",
       "      <td>30.697674</td>\n",
       "    </tr>\n",
       "  </tbody>\n",
       "</table>\n",
       "</div>"
      ]
     },
     "execution_count": 53,
     "metadata": {},
     "output_type": "execute_result"
    }
   ],
   "execution_count": 53
  },
  {
   "metadata": {},
   "cell_type": "markdown",
   "source": [
    "## Analyzing an A/B Test\n",
    "\n",
    "7. The column `experimental_group` tells us whether the user was shown Ad A or Ad B. Were approximately the same number of people shown both ads?"
   ],
   "id": "d61b3458092989ec"
  },
  {
   "metadata": {
    "ExecuteTime": {
     "end_time": "2024-07-14T18:53:59.037687Z",
     "start_time": "2024-07-14T18:53:59.031102Z"
    }
   },
   "cell_type": "code",
   "source": [
    "both_ads = ad_clicks.groupby('experimental_group').user_id.count()\n",
    "both_ads"
   ],
   "id": "cda7a7ad90db9a28",
   "outputs": [
    {
     "data": {
      "text/plain": [
       "experimental_group\n",
       "A    827\n",
       "B    827\n",
       "Name: user_id, dtype: int64"
      ]
     },
     "execution_count": 54,
     "metadata": {},
     "output_type": "execute_result"
    }
   ],
   "execution_count": 54
  },
  {
   "metadata": {},
   "cell_type": "markdown",
   "source": "8. Using the column `is_click` that we defined earlier, check to see if a greater percentage of users clicked on Ad A or Ad B.",
   "id": "b4b4c1103d3b099e"
  },
  {
   "metadata": {
    "ExecuteTime": {
     "end_time": "2024-07-14T18:53:59.252942Z",
     "start_time": "2024-07-14T18:53:59.234071Z"
    }
   },
   "cell_type": "code",
   "source": [
    "percentage_clicked = ad_clicks.groupby(['experimental_group', 'is_click']).user_id.count().reset_index()\n",
    "percentage_clicked"
   ],
   "id": "b0ebba987f5a2a7d",
   "outputs": [
    {
     "data": {
      "text/plain": [
       "  experimental_group  is_click  user_id\n",
       "0                  A     False      517\n",
       "1                  A      True      310\n",
       "2                  B     False      572\n",
       "3                  B      True      255"
      ],
      "text/html": [
       "<div>\n",
       "<style scoped>\n",
       "    .dataframe tbody tr th:only-of-type {\n",
       "        vertical-align: middle;\n",
       "    }\n",
       "\n",
       "    .dataframe tbody tr th {\n",
       "        vertical-align: top;\n",
       "    }\n",
       "\n",
       "    .dataframe thead th {\n",
       "        text-align: right;\n",
       "    }\n",
       "</style>\n",
       "<table border=\"1\" class=\"dataframe\">\n",
       "  <thead>\n",
       "    <tr style=\"text-align: right;\">\n",
       "      <th></th>\n",
       "      <th>experimental_group</th>\n",
       "      <th>is_click</th>\n",
       "      <th>user_id</th>\n",
       "    </tr>\n",
       "  </thead>\n",
       "  <tbody>\n",
       "    <tr>\n",
       "      <th>0</th>\n",
       "      <td>A</td>\n",
       "      <td>False</td>\n",
       "      <td>517</td>\n",
       "    </tr>\n",
       "    <tr>\n",
       "      <th>1</th>\n",
       "      <td>A</td>\n",
       "      <td>True</td>\n",
       "      <td>310</td>\n",
       "    </tr>\n",
       "    <tr>\n",
       "      <th>2</th>\n",
       "      <td>B</td>\n",
       "      <td>False</td>\n",
       "      <td>572</td>\n",
       "    </tr>\n",
       "    <tr>\n",
       "      <th>3</th>\n",
       "      <td>B</td>\n",
       "      <td>True</td>\n",
       "      <td>255</td>\n",
       "    </tr>\n",
       "  </tbody>\n",
       "</table>\n",
       "</div>"
      ]
     },
     "execution_count": 55,
     "metadata": {},
     "output_type": "execute_result"
    }
   ],
   "execution_count": 55
  },
  {
   "metadata": {
    "ExecuteTime": {
     "end_time": "2024-07-14T18:53:59.327928Z",
     "start_time": "2024-07-14T18:53:59.312314Z"
    }
   },
   "cell_type": "code",
   "source": [
    "pivot_percentage = percentage_clicked.pivot(index='experimental_group', columns='is_click', values='user_id')\n",
    "pivot_percentage"
   ],
   "id": "5cf64ecf33b5f41c",
   "outputs": [
    {
     "data": {
      "text/plain": [
       "is_click            False  True \n",
       "experimental_group              \n",
       "A                     517    310\n",
       "B                     572    255"
      ],
      "text/html": [
       "<div>\n",
       "<style scoped>\n",
       "    .dataframe tbody tr th:only-of-type {\n",
       "        vertical-align: middle;\n",
       "    }\n",
       "\n",
       "    .dataframe tbody tr th {\n",
       "        vertical-align: top;\n",
       "    }\n",
       "\n",
       "    .dataframe thead th {\n",
       "        text-align: right;\n",
       "    }\n",
       "</style>\n",
       "<table border=\"1\" class=\"dataframe\">\n",
       "  <thead>\n",
       "    <tr style=\"text-align: right;\">\n",
       "      <th>is_click</th>\n",
       "      <th>False</th>\n",
       "      <th>True</th>\n",
       "    </tr>\n",
       "    <tr>\n",
       "      <th>experimental_group</th>\n",
       "      <th></th>\n",
       "      <th></th>\n",
       "    </tr>\n",
       "  </thead>\n",
       "  <tbody>\n",
       "    <tr>\n",
       "      <th>A</th>\n",
       "      <td>517</td>\n",
       "      <td>310</td>\n",
       "    </tr>\n",
       "    <tr>\n",
       "      <th>B</th>\n",
       "      <td>572</td>\n",
       "      <td>255</td>\n",
       "    </tr>\n",
       "  </tbody>\n",
       "</table>\n",
       "</div>"
      ]
     },
     "execution_count": 56,
     "metadata": {},
     "output_type": "execute_result"
    }
   ],
   "execution_count": 56
  },
  {
   "metadata": {
    "ExecuteTime": {
     "end_time": "2024-07-14T18:53:59.495236Z",
     "start_time": "2024-07-14T18:53:59.473268Z"
    }
   },
   "cell_type": "code",
   "source": [
    "pivot_percentage['percentage clicked'] = (pivot_percentage[True] / (pivot_percentage[True] + pivot_percentage[False])) * 100\n",
    "pivot_percentage"
   ],
   "id": "4629287244fdc8ed",
   "outputs": [
    {
     "data": {
      "text/plain": [
       "is_click            False  True  percentage clicked\n",
       "experimental_group                                 \n",
       "A                     517   310           37.484885\n",
       "B                     572   255           30.834341"
      ],
      "text/html": [
       "<div>\n",
       "<style scoped>\n",
       "    .dataframe tbody tr th:only-of-type {\n",
       "        vertical-align: middle;\n",
       "    }\n",
       "\n",
       "    .dataframe tbody tr th {\n",
       "        vertical-align: top;\n",
       "    }\n",
       "\n",
       "    .dataframe thead th {\n",
       "        text-align: right;\n",
       "    }\n",
       "</style>\n",
       "<table border=\"1\" class=\"dataframe\">\n",
       "  <thead>\n",
       "    <tr style=\"text-align: right;\">\n",
       "      <th>is_click</th>\n",
       "      <th>False</th>\n",
       "      <th>True</th>\n",
       "      <th>percentage clicked</th>\n",
       "    </tr>\n",
       "    <tr>\n",
       "      <th>experimental_group</th>\n",
       "      <th></th>\n",
       "      <th></th>\n",
       "      <th></th>\n",
       "    </tr>\n",
       "  </thead>\n",
       "  <tbody>\n",
       "    <tr>\n",
       "      <th>A</th>\n",
       "      <td>517</td>\n",
       "      <td>310</td>\n",
       "      <td>37.484885</td>\n",
       "    </tr>\n",
       "    <tr>\n",
       "      <th>B</th>\n",
       "      <td>572</td>\n",
       "      <td>255</td>\n",
       "      <td>30.834341</td>\n",
       "    </tr>\n",
       "  </tbody>\n",
       "</table>\n",
       "</div>"
      ]
     },
     "execution_count": 57,
     "metadata": {},
     "output_type": "execute_result"
    }
   ],
   "execution_count": 57
  },
  {
   "metadata": {},
   "cell_type": "markdown",
   "source": "9. The Product Manager for the A/B test thinks that the clicks might have changed by day of the week. Start by creating two DataFrames: `a_clicks` and `b_clicks`, which contain only the results for A group and B group, respectively.",
   "id": "f8da9904a95fc137"
  },
  {
   "metadata": {
    "ExecuteTime": {
     "end_time": "2024-07-15T05:37:50.917788Z",
     "start_time": "2024-07-15T05:37:50.907160Z"
    }
   },
   "cell_type": "code",
   "source": [
    "a_b_clicks = ad_clicks.groupby(['experimental_group', 'is_click']).user_id.count().reset_index()\n",
    "a_b_clicks"
   ],
   "id": "5c7c93778acfce2d",
   "outputs": [
    {
     "data": {
      "text/plain": [
       "  experimental_group  is_click  user_id\n",
       "0                  A     False      517\n",
       "1                  A      True      310\n",
       "2                  B     False      572\n",
       "3                  B      True      255"
      ],
      "text/html": [
       "<div>\n",
       "<style scoped>\n",
       "    .dataframe tbody tr th:only-of-type {\n",
       "        vertical-align: middle;\n",
       "    }\n",
       "\n",
       "    .dataframe tbody tr th {\n",
       "        vertical-align: top;\n",
       "    }\n",
       "\n",
       "    .dataframe thead th {\n",
       "        text-align: right;\n",
       "    }\n",
       "</style>\n",
       "<table border=\"1\" class=\"dataframe\">\n",
       "  <thead>\n",
       "    <tr style=\"text-align: right;\">\n",
       "      <th></th>\n",
       "      <th>experimental_group</th>\n",
       "      <th>is_click</th>\n",
       "      <th>user_id</th>\n",
       "    </tr>\n",
       "  </thead>\n",
       "  <tbody>\n",
       "    <tr>\n",
       "      <th>0</th>\n",
       "      <td>A</td>\n",
       "      <td>False</td>\n",
       "      <td>517</td>\n",
       "    </tr>\n",
       "    <tr>\n",
       "      <th>1</th>\n",
       "      <td>A</td>\n",
       "      <td>True</td>\n",
       "      <td>310</td>\n",
       "    </tr>\n",
       "    <tr>\n",
       "      <th>2</th>\n",
       "      <td>B</td>\n",
       "      <td>False</td>\n",
       "      <td>572</td>\n",
       "    </tr>\n",
       "    <tr>\n",
       "      <th>3</th>\n",
       "      <td>B</td>\n",
       "      <td>True</td>\n",
       "      <td>255</td>\n",
       "    </tr>\n",
       "  </tbody>\n",
       "</table>\n",
       "</div>"
      ]
     },
     "execution_count": 64,
     "metadata": {},
     "output_type": "execute_result"
    }
   ],
   "execution_count": 64
  },
  {
   "metadata": {
    "ExecuteTime": {
     "end_time": "2024-07-15T06:02:59.287052Z",
     "start_time": "2024-07-15T06:02:59.276023Z"
    }
   },
   "cell_type": "code",
   "source": [
    "a_clicks = a_b_clicks[a_b_clicks.experimental_group == 'A'].pivot(index='experimental_group', columns='is_click', values='user_id')\n",
    "a_clicks"
   ],
   "id": "d022fbef8393e436",
   "outputs": [
    {
     "data": {
      "text/plain": [
       "is_click            False  True \n",
       "experimental_group              \n",
       "A                     517    310"
      ],
      "text/html": [
       "<div>\n",
       "<style scoped>\n",
       "    .dataframe tbody tr th:only-of-type {\n",
       "        vertical-align: middle;\n",
       "    }\n",
       "\n",
       "    .dataframe tbody tr th {\n",
       "        vertical-align: top;\n",
       "    }\n",
       "\n",
       "    .dataframe thead th {\n",
       "        text-align: right;\n",
       "    }\n",
       "</style>\n",
       "<table border=\"1\" class=\"dataframe\">\n",
       "  <thead>\n",
       "    <tr style=\"text-align: right;\">\n",
       "      <th>is_click</th>\n",
       "      <th>False</th>\n",
       "      <th>True</th>\n",
       "    </tr>\n",
       "    <tr>\n",
       "      <th>experimental_group</th>\n",
       "      <th></th>\n",
       "      <th></th>\n",
       "    </tr>\n",
       "  </thead>\n",
       "  <tbody>\n",
       "    <tr>\n",
       "      <th>A</th>\n",
       "      <td>517</td>\n",
       "      <td>310</td>\n",
       "    </tr>\n",
       "  </tbody>\n",
       "</table>\n",
       "</div>"
      ]
     },
     "execution_count": 72,
     "metadata": {},
     "output_type": "execute_result"
    }
   ],
   "execution_count": 72
  },
  {
   "metadata": {
    "ExecuteTime": {
     "end_time": "2024-07-15T06:04:11.930876Z",
     "start_time": "2024-07-15T06:04:11.921846Z"
    }
   },
   "cell_type": "code",
   "source": [
    "b_clicks = a_b_clicks[a_b_clicks.experimental_group == 'B'].pivot(index='experimental_group', columns='is_click', values='user_id')\n",
    "b_clicks"
   ],
   "id": "9505083c768d7cb9",
   "outputs": [
    {
     "data": {
      "text/plain": [
       "is_click            False  True \n",
       "experimental_group              \n",
       "B                     572    255"
      ],
      "text/html": [
       "<div>\n",
       "<style scoped>\n",
       "    .dataframe tbody tr th:only-of-type {\n",
       "        vertical-align: middle;\n",
       "    }\n",
       "\n",
       "    .dataframe tbody tr th {\n",
       "        vertical-align: top;\n",
       "    }\n",
       "\n",
       "    .dataframe thead th {\n",
       "        text-align: right;\n",
       "    }\n",
       "</style>\n",
       "<table border=\"1\" class=\"dataframe\">\n",
       "  <thead>\n",
       "    <tr style=\"text-align: right;\">\n",
       "      <th>is_click</th>\n",
       "      <th>False</th>\n",
       "      <th>True</th>\n",
       "    </tr>\n",
       "    <tr>\n",
       "      <th>experimental_group</th>\n",
       "      <th></th>\n",
       "      <th></th>\n",
       "    </tr>\n",
       "  </thead>\n",
       "  <tbody>\n",
       "    <tr>\n",
       "      <th>B</th>\n",
       "      <td>572</td>\n",
       "      <td>255</td>\n",
       "    </tr>\n",
       "  </tbody>\n",
       "</table>\n",
       "</div>"
      ]
     },
     "execution_count": 73,
     "metadata": {},
     "output_type": "execute_result"
    }
   ],
   "execution_count": 73
  },
  {
   "metadata": {},
   "cell_type": "markdown",
   "source": "10. For each group (`a_clicks` and `b_clicks`), calculate the percent of users who clicked on the ad by day.",
   "id": "fc038ad4a57453b1"
  },
  {
   "metadata": {
    "ExecuteTime": {
     "end_time": "2024-07-15T06:29:53.873618Z",
     "start_time": "2024-07-15T06:29:53.863583Z"
    }
   },
   "cell_type": "code",
   "source": [
    "a_clicks['click %'] = (a_clicks[True] / (a_clicks[False] + a_clicks[True])) * 100\n",
    "a_clicks"
   ],
   "id": "460c87fd2e2283ca",
   "outputs": [
    {
     "data": {
      "text/plain": [
       "is_click            False  True    click %\n",
       "experimental_group                        \n",
       "A                     517   310  37.484885"
      ],
      "text/html": [
       "<div>\n",
       "<style scoped>\n",
       "    .dataframe tbody tr th:only-of-type {\n",
       "        vertical-align: middle;\n",
       "    }\n",
       "\n",
       "    .dataframe tbody tr th {\n",
       "        vertical-align: top;\n",
       "    }\n",
       "\n",
       "    .dataframe thead th {\n",
       "        text-align: right;\n",
       "    }\n",
       "</style>\n",
       "<table border=\"1\" class=\"dataframe\">\n",
       "  <thead>\n",
       "    <tr style=\"text-align: right;\">\n",
       "      <th>is_click</th>\n",
       "      <th>False</th>\n",
       "      <th>True</th>\n",
       "      <th>click %</th>\n",
       "    </tr>\n",
       "    <tr>\n",
       "      <th>experimental_group</th>\n",
       "      <th></th>\n",
       "      <th></th>\n",
       "      <th></th>\n",
       "    </tr>\n",
       "  </thead>\n",
       "  <tbody>\n",
       "    <tr>\n",
       "      <th>A</th>\n",
       "      <td>517</td>\n",
       "      <td>310</td>\n",
       "      <td>37.484885</td>\n",
       "    </tr>\n",
       "  </tbody>\n",
       "</table>\n",
       "</div>"
      ]
     },
     "execution_count": 74,
     "metadata": {},
     "output_type": "execute_result"
    }
   ],
   "execution_count": 74
  },
  {
   "metadata": {
    "ExecuteTime": {
     "end_time": "2024-07-15T06:30:31.570258Z",
     "start_time": "2024-07-15T06:30:31.561231Z"
    }
   },
   "cell_type": "code",
   "source": [
    "b_clicks['click %'] = (b_clicks[True] / (b_clicks[False] + b_clicks[True])) * 100\n",
    "b_clicks"
   ],
   "id": "e0d54c8e47dc0200",
   "outputs": [
    {
     "data": {
      "text/plain": [
       "is_click            False  True    click %\n",
       "experimental_group                        \n",
       "B                     572   255  30.834341"
      ],
      "text/html": [
       "<div>\n",
       "<style scoped>\n",
       "    .dataframe tbody tr th:only-of-type {\n",
       "        vertical-align: middle;\n",
       "    }\n",
       "\n",
       "    .dataframe tbody tr th {\n",
       "        vertical-align: top;\n",
       "    }\n",
       "\n",
       "    .dataframe thead th {\n",
       "        text-align: right;\n",
       "    }\n",
       "</style>\n",
       "<table border=\"1\" class=\"dataframe\">\n",
       "  <thead>\n",
       "    <tr style=\"text-align: right;\">\n",
       "      <th>is_click</th>\n",
       "      <th>False</th>\n",
       "      <th>True</th>\n",
       "      <th>click %</th>\n",
       "    </tr>\n",
       "    <tr>\n",
       "      <th>experimental_group</th>\n",
       "      <th></th>\n",
       "      <th></th>\n",
       "      <th></th>\n",
       "    </tr>\n",
       "  </thead>\n",
       "  <tbody>\n",
       "    <tr>\n",
       "      <th>B</th>\n",
       "      <td>572</td>\n",
       "      <td>255</td>\n",
       "      <td>30.834341</td>\n",
       "    </tr>\n",
       "  </tbody>\n",
       "</table>\n",
       "</div>"
      ]
     },
     "execution_count": 75,
     "metadata": {},
     "output_type": "execute_result"
    }
   ],
   "execution_count": 75
  }
 ],
 "metadata": {
  "kernelspec": {
   "display_name": "Python 3",
   "language": "python",
   "name": "python3"
  },
  "language_info": {
   "codemirror_mode": {
    "name": "ipython",
    "version": 2
   },
   "file_extension": ".py",
   "mimetype": "text/x-python",
   "name": "python",
   "nbconvert_exporter": "python",
   "pygments_lexer": "ipython2",
   "version": "2.7.6"
  }
 },
 "nbformat": 4,
 "nbformat_minor": 5
}
